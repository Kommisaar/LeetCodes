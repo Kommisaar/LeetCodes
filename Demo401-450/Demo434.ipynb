{
 "cells": [
  {
   "cell_type": "code",
   "execution_count": null,
   "id": "initial_id",
   "metadata": {
    "collapsed": true
   },
   "outputs": [],
   "source": [
    "\"\"\"\n",
    "统计字符串中的单词个数，这里的单词指的是连续的不是空格的字符。\n",
    "请注意，你可以假定字符串里不包括任何不可打印的字符。\n",
    "\n",
    "示例:\n",
    "输入: \"Hello, my name is John\"\n",
    "输出: 5\n",
    "解释: 这里的单词是指连续的不是空格的字符，所以 \"Hello,\" 算作 1 个单词。\n",
    "\"\"\"\n",
    "\n",
    "\n",
    "class Solution:\n",
    "    def countSegments(self, s: str) -> int:\n",
    "        res = 0\n",
    "        s = s.strip()\n",
    "        for i in range(len(s)):\n",
    "            if i + 1 < len(s) and s[i] == ' ' and s[i + 1] != ' ':\n",
    "                res +=1\n",
    "        \n",
    "        return res+1 if len(s) else 0   "
   ]
  }
 ],
 "metadata": {
  "kernelspec": {
   "display_name": "Python 3",
   "language": "python",
   "name": "python3"
  },
  "language_info": {
   "codemirror_mode": {
    "name": "ipython",
    "version": 2
   },
   "file_extension": ".py",
   "mimetype": "text/x-python",
   "name": "python",
   "nbconvert_exporter": "python",
   "pygments_lexer": "ipython2",
   "version": "2.7.6"
  }
 },
 "nbformat": 4,
 "nbformat_minor": 5
}
