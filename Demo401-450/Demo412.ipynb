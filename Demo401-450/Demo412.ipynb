{
 "cells": [
  {
   "cell_type": "code",
   "id": "initial_id",
   "metadata": {
    "collapsed": true,
    "ExecuteTime": {
     "end_time": "2025-01-03T01:20:43.988240Z",
     "start_time": "2025-01-03T01:20:43.972404Z"
    }
   },
   "source": [
    "from typing import List\n",
    "\n",
    "\"\"\"\n",
    "给你一个整数 n ，找出从 1 到 n 各个整数的 Fizz Buzz 表示，并用字符串数组 answer（下标从 1 开始）返回结果，其中：\n",
    "answer[i] == \"FizzBuzz\" 如果 i 同时是 3 和 5 的倍数。\n",
    "answer[i] == \"Fizz\" 如果 i 是 3 的倍数。\n",
    "answer[i] == \"Buzz\" 如果 i 是 5 的倍数。\n",
    "answer[i] == i （以字符串形式）如果上述条件全不满足。\n",
    " \n",
    "\n",
    "示例 1：\n",
    "输入：n = 3\n",
    "输出：[\"1\",\"2\",\"Fizz\"]\n",
    "\n",
    "示例 2：\n",
    "输入：n = 5\n",
    "输出：[\"1\",\"2\",\"Fizz\",\"4\",\"Buzz\"]\n",
    "\n",
    "示例 3：\n",
    "输入：n = 15\n",
    "输出：[\"1\",\"2\",\"Fizz\",\"4\",\"Buzz\",\"Fizz\",\"7\",\"8\",\"Fizz\",\"Buzz\",\"11\",\"Fizz\",\"13\",\"14\",\"FizzBuzz\"]\n",
    "\"\"\"\n",
    "\n",
    "\n",
    "class Solution:\n",
    "    def fizzBuzz(self, n: int) -> List[str]:\n",
    "        res = [str(i) for i in range(1, n + 1)]\n",
    "        for i in range(2, n, 3):\n",
    "            res[i] = 'Fizz'\n",
    "        for i in range(4, n, 5):\n",
    "            res[i] = 'Buzz'\n",
    "        for i in range(14, n, 15):\n",
    "            res[i] = 'FizzBuzz'\n",
    "        return res\n",
    "    \n",
    "\n",
    "\n",
    "if __name__ == '__main__':\n",
    "    print(Solution().fizzBuzz(30))"
   ],
   "outputs": [
    {
     "name": "stdout",
     "output_type": "stream",
     "text": [
      "['1', '2', 'Fizz', '4', 'Buzz', 'Fizz', '7', '8', 'Fizz', 'Buzz', '11', 'Fizz', '13', '14', 'FizzBuzz', '16', '17', 'Fizz', '19', 'Buzz', 'Fizz', '22', '23', 'Fizz', 'Buzz', '26', 'Fizz', '28', '29', 'FizzBuzz']\n"
     ]
    }
   ],
   "execution_count": 2
  }
 ],
 "metadata": {
  "kernelspec": {
   "display_name": "Python 3",
   "language": "python",
   "name": "python3"
  },
  "language_info": {
   "codemirror_mode": {
    "name": "ipython",
    "version": 2
   },
   "file_extension": ".py",
   "mimetype": "text/x-python",
   "name": "python",
   "nbconvert_exporter": "python",
   "pygments_lexer": "ipython2",
   "version": "2.7.6"
  }
 },
 "nbformat": 4,
 "nbformat_minor": 5
}
