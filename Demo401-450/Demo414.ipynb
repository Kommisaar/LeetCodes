{
 "cells": [
  {
   "cell_type": "code",
   "id": "initial_id",
   "metadata": {
    "collapsed": true,
    "ExecuteTime": {
     "end_time": "2025-01-03T01:27:23.723404Z",
     "start_time": "2025-01-03T01:27:23.707338Z"
    }
   },
   "source": [
    "from typing import List\n",
    "\n",
    "\"\"\"\n",
    "给你一个非空数组，返回此数组中 第三大的数 。如果不存在，则返回数组中最大的数。\n",
    "\n",
    "示例 1：\n",
    "输入：[3, 2, 1]\n",
    "输出：1\n",
    "解释：第三大的数是 1 。\n",
    "\n",
    "示例 2：\n",
    "输入：[1, 2]\n",
    "输出：2\n",
    "解释：第三大的数不存在, 所以返回最大的数 2 。\n",
    "\n",
    "示例 3：\n",
    "输入：[2, 2, 3, 1]\n",
    "输出：1\n",
    "解释：注意，要求返回第三大的数，是指在所有不同数字中排第三大的数。\n",
    "此例中存在两个值为 2 的数，它们都排第二。在所有不同数字中排第三大的数为 1 。\n",
    "\"\"\"\n",
    "\n",
    "\n",
    "class Solution:\n",
    "    def thirdMax(self, nums: List[int]) -> int:\n",
    "        return sorted(list(set(nums)))[-3] if len(nums) >= 3 else max(nums)\n",
    "    \n",
    "    def thirdMax2(self, nums: List[int]) -> int:\n",
    "        first = second = third = float('-inf')  # 初始化三个变量\n",
    "        for num in nums:\n",
    "            if num > first:  # 更新最大值\n",
    "                third = second\n",
    "                second = first\n",
    "                first = num\n",
    "            elif num > second and num < first:  # 更新第二大的值\n",
    "                third = second\n",
    "                second = num\n",
    "            elif num > third and num < second:  # 更新第三大的值\n",
    "                third = num\n",
    "        # 如果第三大的值存在，则返回；否则返回最大值\n",
    "        return third if third != float('-inf') else first\n",
    "\n",
    "\n",
    "if __name__ == '__main__':\n",
    "    print(Solution().thirdMax([3, 2, 1]))"
   ],
   "outputs": [
    {
     "name": "stdout",
     "output_type": "stream",
     "text": [
      "1\n"
     ]
    }
   ],
   "execution_count": 3
  }
 ],
 "metadata": {
  "kernelspec": {
   "display_name": "Python 3",
   "language": "python",
   "name": "python3"
  },
  "language_info": {
   "codemirror_mode": {
    "name": "ipython",
    "version": 2
   },
   "file_extension": ".py",
   "mimetype": "text/x-python",
   "name": "python",
   "nbconvert_exporter": "python",
   "pygments_lexer": "ipython2",
   "version": "2.7.6"
  }
 },
 "nbformat": 4,
 "nbformat_minor": 5
}
