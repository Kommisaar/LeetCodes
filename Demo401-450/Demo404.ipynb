{
 "cells": [
  {
   "cell_type": "code",
   "execution_count": null,
   "id": "initial_id",
   "metadata": {
    "collapsed": true
   },
   "outputs": [],
   "source": [
    "from typing import Optional\n",
    "\n",
    "\"\"\"\n",
    "给定二叉树的根节点 root ，返回所有左叶子之和。\n",
    "\n",
    "示例 1：\n",
    "输入: root = [3,9,20,null,null,15,7] \n",
    "输出: 24 \n",
    "解释: 在这个二叉树中，有两个左叶子，分别是 9 和 15，所以返回 24\n",
    "\n",
    "示例 2:\n",
    "输入: root = [1]\n",
    "输出: 0\n",
    "\"\"\"\n",
    "\n",
    "\n",
    "class TreeNode:\n",
    "    def __init__(self, val=0, left=None, right=None):\n",
    "        self.val = val\n",
    "        self.left = left\n",
    "        self.right = right\n",
    "\n",
    "\n",
    "class Solution:\n",
    "    def sumOfLeftLeaves(self, root: Optional[TreeNode]) -> int:\n",
    "        \n",
    "        # res = 0\n",
    "        # if root is None:\n",
    "        #     return 0\n",
    "        # if root.left is not None:\n",
    "        #     if root.left.left is None and root.left.right is None:\n",
    "        #         res += root.left.val\n",
    "        #     else:\n",
    "        #         res += self.sumOfLeftLeaves(root.left)\n",
    "        # if root.right is not None:\n",
    "        #     res += self.sumOfLeftLeaves(root.right)\n",
    "        # \n",
    "        # return res\n",
    "        res = 0\n",
    "        if root is None:\n",
    "            return 0\n",
    "        if root.left is not None and root.left.left is None and root.left.right is None:\n",
    "            res += root.left.val\n",
    "\n",
    "        return res + self.sumOfLeftLeaves(root.left) + self.sumOfLeftLeaves(root.right)\n",
    "        \n",
    "        "
   ]
  }
 ],
 "metadata": {
  "kernelspec": {
   "display_name": "Python 3",
   "language": "python",
   "name": "python3"
  },
  "language_info": {
   "codemirror_mode": {
    "name": "ipython",
    "version": 2
   },
   "file_extension": ".py",
   "mimetype": "text/x-python",
   "name": "python",
   "nbconvert_exporter": "python",
   "pygments_lexer": "ipython2",
   "version": "2.7.6"
  }
 },
 "nbformat": 4,
 "nbformat_minor": 5
}
