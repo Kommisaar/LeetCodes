{
 "cells": [
  {
   "cell_type": "code",
   "id": "initial_id",
   "metadata": {
    "collapsed": true,
    "ExecuteTime": {
     "end_time": "2025-01-03T02:20:53.201869Z",
     "start_time": "2025-01-03T02:20:53.194748Z"
    }
   },
   "source": [
    "\"\"\"\n",
    "你总共有 n 枚硬币，并计划将它们按阶梯状排列。对于一个由 k 行组成的阶梯，其第 i 行必须正好有 i 枚硬币。阶梯的最后一行可能是不完整的。\n",
    "给你一个数字 n ，计算并返回可形成 完整阶梯行 的总行数。\n",
    "\n",
    "示例 1：\n",
    "输入：n = 5\n",
    "输出：2\n",
    "解释：因为第三行不完整，所以返回 2 。\n",
    "\n",
    "示例 2：\n",
    "输入：n = 8\n",
    "输出：3\n",
    "解释：因为第四行不完整，所以返回 3 。\n",
    "\"\"\"\n",
    "\n",
    "\n",
    "class Solution:\n",
    "    def arrangeCoins(self, n: int) -> int:\n",
    "        low, high = 1, n\n",
    "        mid = 0\n",
    "        while low <= high:\n",
    "            mid = (low + high) // 2\n",
    "            if mid * (mid + 1) // 2 == n:\n",
    "                return mid\n",
    "            elif mid * (mid + 1) // 2 > n:\n",
    "                high = mid - 1\n",
    "            else:\n",
    "                low = mid + 1\n",
    "        else:\n",
    "            return mid-1 if mid * (mid + 1) // 2 >= n else mid\n",
    "    \n",
    "    def arrangeCoins2(self, n: int) -> int:\n",
    "        low, high = 1, n\n",
    "        while low <= high:\n",
    "            mid = (low + high) // 2\n",
    "            total = mid * (mid + 1) // 2  # 计算累加和\n",
    "            if total == n:\n",
    "                return mid\n",
    "            elif total > n:\n",
    "                high = mid - 1\n",
    "            else:\n",
    "                low = mid + 1\n",
    "    \n",
    "        # 如果未找到精确的 k，返回 high\n",
    "        return high\n",
    "\n",
    "if __name__ == '__main__':\n",
    "    print(Solution().arrangeCoins(3))\n",
    "                "
   ],
   "outputs": [
    {
     "name": "stdout",
     "output_type": "stream",
     "text": [
      "2\n"
     ]
    }
   ],
   "execution_count": 13
  }
 ],
 "metadata": {
  "kernelspec": {
   "display_name": "Python 3",
   "language": "python",
   "name": "python3"
  },
  "language_info": {
   "codemirror_mode": {
    "name": "ipython",
    "version": 2
   },
   "file_extension": ".py",
   "mimetype": "text/x-python",
   "name": "python",
   "nbconvert_exporter": "python",
   "pygments_lexer": "ipython2",
   "version": "2.7.6"
  }
 },
 "nbformat": 4,
 "nbformat_minor": 5
}
