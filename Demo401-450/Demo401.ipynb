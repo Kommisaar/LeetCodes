{
 "cells": [
  {
   "cell_type": "code",
   "id": "initial_id",
   "metadata": {
    "collapsed": true,
    "ExecuteTime": {
     "end_time": "2025-01-02T11:43:08.671984Z",
     "start_time": "2025-01-02T11:43:08.658414Z"
    }
   },
   "source": [
    "from typing import List\n",
    "from itertools import combinations\n",
    "\n",
    "\"\"\"\n",
    "二进制手表顶部有 4 个 LED 代表 小时（0-11），底部的 6 个 LED 代表 分钟（0-59）。每个 LED 代表一个 0 或 1，最低位在右侧。\n",
    "\n",
    "给你一个整数 turnedOn ，表示当前亮着的 LED 的数量，返回二进制手表可以表示的所有可能时间。你可以 按任意顺序 返回答案。\n",
    "\n",
    "小时不会以零开头：\n",
    "    例如，\"01:00\" 是无效的时间，正确的写法应该是 \"1:00\" 。\n",
    "    \n",
    "分钟必须由两位数组成，可能会以零开头：\n",
    "    例如，\"10:2\" 是无效的时间，正确的写法应该是 \"10:02\" 。\n",
    "\n",
    "示例 1：\n",
    "输入：turnedOn = 1\n",
    "输出：[\"0:01\",\"0:02\",\"0:04\",\"0:08\",\"0:16\",\"0:32\",\"1:00\",\"2:00\",\"4:00\",\"8:00\"]\n",
    "\n",
    "示例 2：\n",
    "输入：turnedOn = 9\n",
    "输出：[]\n",
    "\"\"\"\n",
    "\n",
    "\n",
    "class Solution:\n",
    "    def readBinaryWatch(self, turnedOn: int) -> List[str]:\n",
    "        if turnedOn > 8:\n",
    "            return []\n",
    "        hour_table = [1,2,4,8]\n",
    "        minute_table = [1,2,4,8,16,32]\n",
    "        \n",
    "        res = []\n",
    "        for i in range(0, min(turnedOn+1, 4)):\n",
    "            h_lights = i\n",
    "            m_lights = turnedOn - i\n",
    "            hour_list=list(sum(i) for i in combinations(hour_table,h_lights) if 0<=sum(i)<=11)\n",
    "            minute_list=list(sum(i) for i in combinations(minute_table,m_lights) if 0<=sum(i)<=59)\n",
    "            for h in hour_list:\n",
    "                for m in minute_list:\n",
    "                    res.append(f\"{h}:{m:02d}\")\n",
    "        return res\n",
    "    \n",
    "\n",
    "if __name__ == '__main__':\n",
    "    s = Solution()\n",
    "    print(s.readBinaryWatch(turnedOn=0))\n",
    "        "
   ],
   "outputs": [
    {
     "name": "stdout",
     "output_type": "stream",
     "text": [
      "['0:00']\n"
     ]
    }
   ],
   "execution_count": 33
  }
 ],
 "metadata": {
  "kernelspec": {
   "display_name": "Python 3",
   "language": "python",
   "name": "python3"
  },
  "language_info": {
   "codemirror_mode": {
    "name": "ipython",
    "version": 2
   },
   "file_extension": ".py",
   "mimetype": "text/x-python",
   "name": "python",
   "nbconvert_exporter": "python",
   "pygments_lexer": "ipython2",
   "version": "2.7.6"
  }
 },
 "nbformat": 4,
 "nbformat_minor": 5
}
