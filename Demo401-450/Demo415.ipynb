{
 "cells": [
  {
   "cell_type": "code",
   "id": "initial_id",
   "metadata": {
    "collapsed": true,
    "ExecuteTime": {
     "end_time": "2025-01-03T01:47:55.789556Z",
     "start_time": "2025-01-03T01:47:55.762543Z"
    }
   },
   "source": [
    "\"\"\"\n",
    "给定两个字符串形式的非负整数 num1 和num2 ，计算它们的和并同样以字符串形式返回。\n",
    "\n",
    "你不能使用任何內建的用于处理大整数的库（比如 BigInteger）， 也不能直接将输入的字符串转换为整数形式。\n",
    "\n",
    "示例 1：\n",
    "输入：num1 = \"11\", num2 = \"123\"\n",
    "输出：\"134\"\n",
    "\n",
    "示例 2：\n",
    "输入：num1 = \"456\", num2 = \"77\"\n",
    "输出：\"533\"\n",
    "\n",
    "示例 3：\n",
    "输入：num1 = \"0\", num2 = \"0\"\n",
    "输出：\"0\"\n",
    "\"\"\"\n",
    "\n",
    "\n",
    "class Solution:\n",
    "    def addStrings(self, num1: str, num2: str) -> str:\n",
    "        length = max(len(num1), len(num2))\n",
    "        num1 = num1.zfill(length)\n",
    "        num2 = num2.zfill(length)\n",
    "        res = []\n",
    "        counter = 0\n",
    "        for i in range(length - 1, -1, -1):\n",
    "            val1, val2 = num1[i], num2[i]\n",
    "            value = int(val1) + int(val2) + counter\n",
    "            counter = 0\n",
    "            if value >= 10:\n",
    "                counter = 1\n",
    "                res.append(str(value - 10))\n",
    "            else:\n",
    "                res.append(str(value))\n",
    "        if int(res[-1]) >= 10:\n",
    "            res[-1] = str(int(res[-1]) - 10)\n",
    "            res.append('1')\n",
    "        \n",
    "        if counter != 0:\n",
    "            res.append(str(counter))\n",
    "\n",
    "        return ''.join(reversed(res))\n",
    "    \n",
    "    def addStrings2(self, num1: str, num2: str) -> str:\n",
    "        res = []  # 用于存储结果\n",
    "        carry = 0  # 进位\n",
    "        i, j = len(num1) - 1, len(num2) - 1  # 从最后一位开始遍历\n",
    "    \n",
    "        # 逐位相加\n",
    "        while i >= 0 or j >= 0 or carry:\n",
    "            # 获取当前位的数字\n",
    "            digit1 = int(num1[i]) if i >= 0 else 0\n",
    "            digit2 = int(num2[j]) if j >= 0 else 0\n",
    "    \n",
    "            # 计算当前位的和\n",
    "            total = digit1 + digit2 + carry\n",
    "            carry = total // 10  # 计算进位\n",
    "            res.append(str(total % 10))  # 将当前位的值加入结果\n",
    "    \n",
    "            # 移动指针\n",
    "            i -= 1\n",
    "            j -= 1\n",
    "        \n",
    "        return ''.join(reversed(res))\n",
    "\n",
    "\n",
    "if __name__ == '__main__':\n",
    "    print(Solution().addStrings(\"1\", \"9\"))"
   ],
   "outputs": [
    {
     "name": "stdout",
     "output_type": "stream",
     "text": [
      "10\n"
     ]
    }
   ],
   "execution_count": 8
  },
  {
   "metadata": {},
   "cell_type": "code",
   "outputs": [],
   "execution_count": null,
   "source": "",
   "id": "4b70b402a7f6571"
  }
 ],
 "metadata": {
  "kernelspec": {
   "display_name": "Python 3",
   "language": "python",
   "name": "python3"
  },
  "language_info": {
   "codemirror_mode": {
    "name": "ipython",
    "version": 2
   },
   "file_extension": ".py",
   "mimetype": "text/x-python",
   "name": "python",
   "nbconvert_exporter": "python",
   "pygments_lexer": "ipython2",
   "version": "2.7.6"
  }
 },
 "nbformat": 4,
 "nbformat_minor": 5
}
