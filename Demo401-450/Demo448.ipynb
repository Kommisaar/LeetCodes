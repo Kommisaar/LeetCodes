{
 "cells": [
  {
   "cell_type": "code",
   "id": "initial_id",
   "metadata": {
    "collapsed": true,
    "ExecuteTime": {
     "end_time": "2025-01-03T02:48:57.962488Z",
     "start_time": "2025-01-03T02:48:57.954456Z"
    }
   },
   "source": [
    "from typing import List\n",
    "\n",
    "\"\"\"\n",
    "给你一个含 n 个整数的数组 nums ，其中 nums[i] 在区间 [1, n] 内。请你找出所有在 [1, n] 范围内但没有出现在 nums 中的数字，并以数组的形式返回结果。\n",
    "\n",
    "示例 1：\n",
    "输入：nums = [4,3,2,7,8,2,3,1]\n",
    "输出：[5,6]\n",
    "\n",
    "示例 2：\n",
    "输入：nums = [1,1]\n",
    "输出：[2]\n",
    "\"\"\"\n",
    "\n",
    "\n",
    "class Solution:\n",
    "    def findDisappearedNumbers(self, nums: List[int]) -> List[int]:\n",
    "        bucket = [-1] * len(nums)\n",
    "        for i in range(len(nums)):\n",
    "            bucket[nums[i] - 1] = nums[i]\n",
    "\n",
    "        res = []\n",
    "        for i in range(len(nums)):\n",
    "            if bucket[i] == -1:\n",
    "                res.append(i + 1)\n",
    "\n",
    "        return res\n",
    "\n",
    "    def findDisappearedNumbers2(self, nums: List[int]) -> List[int]:\n",
    "        n = len(nums)\n",
    "        for num in nums:\n",
    "            x = (num - 1) % n\n",
    "            nums[x] += n\n",
    "        \n",
    "        ret = [i + 1 for i, num in enumerate(nums) if num <= n]\n",
    "        return ret\n",
    "\n",
    "\n",
    "if __name__ == '__main__':\n",
    "    print(Solution().findDisappearedNumbers([4, 3, 2, 7, 8, 2, 3, 1]))"
   ],
   "outputs": [
    {
     "name": "stdout",
     "output_type": "stream",
     "text": [
      "[5, 6]\n"
     ]
    }
   ],
   "execution_count": 4
  }
 ],
 "metadata": {
  "kernelspec": {
   "display_name": "Python 3",
   "language": "python",
   "name": "python3"
  },
  "language_info": {
   "codemirror_mode": {
    "name": "ipython",
    "version": 2
   },
   "file_extension": ".py",
   "mimetype": "text/x-python",
   "name": "python",
   "nbconvert_exporter": "python",
   "pygments_lexer": "ipython2",
   "version": "2.7.6"
  }
 },
 "nbformat": 4,
 "nbformat_minor": 5
}
