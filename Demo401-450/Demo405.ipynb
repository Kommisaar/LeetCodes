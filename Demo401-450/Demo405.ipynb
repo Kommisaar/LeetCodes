{
 "cells": [
  {
   "cell_type": "code",
   "id": "initial_id",
   "metadata": {
    "collapsed": true,
    "ExecuteTime": {
     "end_time": "2025-01-02T15:51:02.193956Z",
     "start_time": "2025-01-02T15:51:02.174639Z"
    }
   },
   "source": [
    "\"\"\"\n",
    "给定一个整数，编写一个算法将这个数转换为十六进制数。对于负整数，我们通常使用 补码运算 方法。\n",
    "答案字符串中的所有字母都应该是小写字符，并且除了 0 本身之外，答案中不应该有任何前置零。\n",
    "注意: 不允许使用任何由库提供的将数字直接转换或格式化为十六进制的方法来解决这个问题。\n",
    "\"\"\"\n",
    "\n",
    "\n",
    "class Solution:\n",
    "    def bin_to_hex(self, bin_l) -> str:\n",
    "        c_dic = {10: 'a', 11: 'b', 12: 'c', 13: 'd', 14: 'e', 15: 'f'}\n",
    "        res = []\n",
    "        for i in range(0, len(bin_l), 4):\n",
    "            chunk = bin_l[i:i+4]\n",
    "            sums = chunk[0] * 8 + chunk[1] * 4 + chunk[2] * 2 + chunk[3]\n",
    "            res.append(str(c_dic.get(sums, sums)))\n",
    "        res = ''.join(res).lstrip('0')\n",
    "        return res if res else '0'\n",
    "\n",
    "    def toHex(self, num: int) -> str:\n",
    "        if num < 0:\n",
    "            # 处理负数，使用补码表示\n",
    "            num = (1 << 32) + num  # 相当于 num + 2^32\n",
    "        else:\n",
    "            # 处理正数\n",
    "            pass\n",
    "        \n",
    "        # 将整数转换为32位二进制列表\n",
    "        bin_l = []\n",
    "        for _ in range(32):\n",
    "            bin_l.insert(0, num & 1)  # 获取最低位，并插入到列表的开头\n",
    "            num >>= 1  # 右移一位，继续处理下一位\n",
    "        \n",
    "        return self.bin_to_hex(bin_l)\n",
    "    \n",
    "    def toHex2(self, num: int) -> str:\n",
    "        if num == 0:\n",
    "            return '0'\n",
    "        \n",
    "        # 处理负数\n",
    "        if num < 0:\n",
    "            n = (1 << 32) + num  # 计算 32 位补码\n",
    "        \n",
    "        ret = []\n",
    "        template = '0123456789abcdef'\n",
    "        for i in range(8):  # 支持任意长度的整数\n",
    "            ret.append(template[num % 16])\n",
    "            num //= 16\n",
    "        \n",
    "        # 处理结果\n",
    "        result = ''.join(ret[::-1]).lstrip('0')\n",
    "        return result if result else '0'\n",
    "\n",
    "if __name__ == '__main__':\n",
    "    sol = Solution()\n",
    "    print(sol.toHex(-1))"
   ],
   "outputs": [
    {
     "name": "stdout",
     "output_type": "stream",
     "text": [
      "ffffffff\n"
     ]
    }
   ],
   "execution_count": 87
  },
  {
   "metadata": {
    "ExecuteTime": {
     "end_time": "2025-01-02T15:05:53.387471Z",
     "start_time": "2025-01-02T15:05:53.373751Z"
    }
   },
   "cell_type": "code",
   "source": "",
   "id": "dc719d4d26479d68",
   "outputs": [
    {
     "data": {
      "text/plain": [
       "16"
      ]
     },
     "execution_count": 46,
     "metadata": {},
     "output_type": "execute_result"
    }
   ],
   "execution_count": 46
  }
 ],
 "metadata": {
  "kernelspec": {
   "display_name": "Python 3",
   "language": "python",
   "name": "python3"
  },
  "language_info": {
   "codemirror_mode": {
    "name": "ipython",
    "version": 2
   },
   "file_extension": ".py",
   "mimetype": "text/x-python",
   "name": "python",
   "nbconvert_exporter": "python",
   "pygments_lexer": "ipython2",
   "version": "2.7.6"
  }
 },
 "nbformat": 4,
 "nbformat_minor": 5
}
