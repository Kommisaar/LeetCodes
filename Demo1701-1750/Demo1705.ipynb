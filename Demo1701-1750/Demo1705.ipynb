{
 "cells": [
  {
   "metadata": {},
   "cell_type": "markdown",
   "source": [
    "有一棵特殊的苹果树，一连 n 天，每天都可以长出若干个苹果。在第 i 天，树上会长出 apples[i] 个苹果，这些苹果将会在 days[i] 天后（也就是说，第 i + days[i] 天时）腐烂，变得无法食用。也可能有那么几天，树上不会长出新的苹果，此时用 apples[i] == 0 且 days[i] == 0 表示。\n",
    "\n",
    "你打算每天 最多 吃一个苹果来保证营养均衡。注意，你可以在这 n 天之后继续吃苹果。\n",
    "\n",
    "给你两个长度为 n 的整数数组 days 和 apples ，返回你可以吃掉的苹果的最大数目。\n",
    "\n",
    "示例 1：\n",
    "\n",
    "输入：apples = [1,2,3,5,2], days = [3,2,1,4,2]\n",
    "输出：7\n",
    "解释：你可以吃掉 7 个苹果：\n",
    "- 第一天，你吃掉第一天长出来的苹果。\n",
    "- 第二天，你吃掉一个第二天长出来的苹果。\n",
    "- 第三天，你吃掉一个第二天长出来的苹果。过了这一天，第三天长出来的苹果就已经腐烂了。\n",
    "- 第四天到第七天，你吃的都是第四天长出来的苹果。\n",
    "\n",
    "示例 2：\n",
    "\n",
    "输入：apples = [3,0,0,0,0,2], days = [3,0,0,0,0,2]\n",
    "输出：5\n",
    "解释：你可以吃掉 5 个苹果：\n",
    "- 第一天到第三天，你吃的都是第一天长出来的苹果。\n",
    "- 第四天和第五天不吃苹果。\n",
    "- 第六天和第七天，你吃的都是第六天长出来的苹果。"
   ],
   "id": "3d54174c5b0dd09d"
  },
  {
   "metadata": {
    "ExecuteTime": {
     "end_time": "2024-12-24T04:27:53.992262Z",
     "start_time": "2024-12-24T04:27:48.131670Z"
    }
   },
   "cell_type": "code",
   "source": [
    "from typing import List\n",
    "\n",
    "\n",
    "class Solution:\n",
    "    def eatenApples(self, apples: List[int], days: List[int]) -> int:\n",
    "        eaten = 0\n",
    "        apples_of_day = []\n",
    "        day = 0\n",
    "        while day < len(days) or sum(apples_of_day):\n",
    "            apples_rot_day = day + days[day]\n",
    "            if apples_rot_day > len(apples_of_day):\n",
    "                for _ in range(apples_rot_day - len(apples_of_day)):\n",
    "                    apples_of_day.append(0)\n",
    "                apples_of_day[apples_rot_day] = apples[day]\n",
    "            else:\n",
    "                apples_of_day[apples_rot_day] += apples[day]\n",
    "\n",
    "            for i in range(apples_of_day.__len__()):\n",
    "                if apples_of_day[i] != 0:\n",
    "                    eaten += 1\n",
    "                    apples_of_day[i] -= 1\n",
    "                    \n",
    "            apples_of_day[day] = 0\n",
    "        \n",
    "        return eaten\n",
    "    \n",
    "    \n",
    "apples = [3,0,0,0,0,2]\n",
    "days = [3,0,0,0,0,2]\n",
    "\n",
    "print(Solution().eatenApples(apples, days))"
   ],
   "id": "e5f61217ce927b14",
   "outputs": [
    {
     "ename": "KeyboardInterrupt",
     "evalue": "",
     "output_type": "error",
     "traceback": [
      "\u001B[1;31m---------------------------------------------------------------------------\u001B[0m",
      "\u001B[1;31mKeyboardInterrupt\u001B[0m                         Traceback (most recent call last)",
      "Cell \u001B[1;32mIn[2], line 31\u001B[0m\n\u001B[0;32m     28\u001B[0m apples \u001B[38;5;241m=\u001B[39m [\u001B[38;5;241m3\u001B[39m,\u001B[38;5;241m0\u001B[39m,\u001B[38;5;241m0\u001B[39m,\u001B[38;5;241m0\u001B[39m,\u001B[38;5;241m0\u001B[39m,\u001B[38;5;241m2\u001B[39m]\n\u001B[0;32m     29\u001B[0m days \u001B[38;5;241m=\u001B[39m [\u001B[38;5;241m3\u001B[39m,\u001B[38;5;241m0\u001B[39m,\u001B[38;5;241m0\u001B[39m,\u001B[38;5;241m0\u001B[39m,\u001B[38;5;241m0\u001B[39m,\u001B[38;5;241m2\u001B[39m]\n\u001B[1;32m---> 31\u001B[0m \u001B[38;5;28mprint\u001B[39m(\u001B[43mSolution\u001B[49m\u001B[43m(\u001B[49m\u001B[43m)\u001B[49m\u001B[38;5;241;43m.\u001B[39;49m\u001B[43meatenApples\u001B[49m\u001B[43m(\u001B[49m\u001B[43mapples\u001B[49m\u001B[43m,\u001B[49m\u001B[43m \u001B[49m\u001B[43mdays\u001B[49m\u001B[43m)\u001B[49m)\n",
      "Cell \u001B[1;32mIn[2], line 16\u001B[0m, in \u001B[0;36mSolution.eatenApples\u001B[1;34m(self, apples, days)\u001B[0m\n\u001B[0;32m     14\u001B[0m     apples_of_day[apples_rot_day] \u001B[38;5;241m=\u001B[39m apples[day]\n\u001B[0;32m     15\u001B[0m \u001B[38;5;28;01melse\u001B[39;00m:\n\u001B[1;32m---> 16\u001B[0m     apples_of_day[apples_rot_day] \u001B[38;5;241m+\u001B[39m\u001B[38;5;241m=\u001B[39m \u001B[43mapples\u001B[49m\u001B[43m[\u001B[49m\u001B[43mday\u001B[49m\u001B[43m]\u001B[49m\n\u001B[0;32m     18\u001B[0m \u001B[38;5;28;01mfor\u001B[39;00m i \u001B[38;5;129;01min\u001B[39;00m \u001B[38;5;28mrange\u001B[39m(apples_of_day\u001B[38;5;241m.\u001B[39m\u001B[38;5;21m__len__\u001B[39m()):\n\u001B[0;32m     19\u001B[0m     \u001B[38;5;28;01mif\u001B[39;00m apples_of_day[i] \u001B[38;5;241m!=\u001B[39m \u001B[38;5;241m0\u001B[39m:\n",
      "\u001B[1;31mKeyboardInterrupt\u001B[0m: "
     ]
    }
   ],
   "execution_count": 2
  }
 ],
 "metadata": {
  "kernelspec": {
   "display_name": "Python 3",
   "language": "python",
   "name": "python3"
  },
  "language_info": {
   "codemirror_mode": {
    "name": "ipython",
    "version": 2
   },
   "file_extension": ".py",
   "mimetype": "text/x-python",
   "name": "python",
   "nbconvert_exporter": "python",
   "pygments_lexer": "ipython2",
   "version": "2.7.6"
  }
 },
 "nbformat": 4,
 "nbformat_minor": 5
}
