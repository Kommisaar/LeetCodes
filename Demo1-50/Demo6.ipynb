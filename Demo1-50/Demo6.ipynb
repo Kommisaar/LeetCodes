{
 "cells": [
  {
   "metadata": {},
   "cell_type": "markdown",
   "source": [
    "将一个给定字符串 s 根据给定的行数 numRows ，以从上往下、从左到右进行 Z 字形排列。\n",
    "\n",
    "比如输入字符串为 \"PAY-P-ALI-S-HIR-I-NG\" 行数为 3 时，排列如下：\n",
    "\n",
    "P---A   H   N\n",
    "\n",
    "A-P-L-S I I G\n",
    "\n",
    "Y---I   R\n",
    "\n",
    "之后，你的输出需要从左往右逐行读取，产生出一个新的字符串，比如：\"PAHNAPLSIIGYIR\"。\n",
    "\n",
    "请你实现这个将字符串进行指定行数变换的函数：\n",
    "\n",
    "string convert(string s, int numRows);"
   ],
   "id": "2a90226c6f033e1a"
  },
  {
   "metadata": {},
   "cell_type": "code",
   "outputs": [],
   "execution_count": null,
   "source": [
    "class Solution:\n",
    "    def convert(self, s: str, numRows: int) -> str:\n",
    "        s_new = []        \n",
    "        "
   ],
   "id": "db5e34434cbf8d1a"
  }
 ],
 "metadata": {
  "kernelspec": {
   "display_name": "Python 3",
   "language": "python",
   "name": "python3"
  },
  "language_info": {
   "codemirror_mode": {
    "name": "ipython",
    "version": 2
   },
   "file_extension": ".py",
   "mimetype": "text/x-python",
   "name": "python",
   "nbconvert_exporter": "python",
   "pygments_lexer": "ipython2",
   "version": "2.7.6"
  }
 },
 "nbformat": 4,
 "nbformat_minor": 5
}
