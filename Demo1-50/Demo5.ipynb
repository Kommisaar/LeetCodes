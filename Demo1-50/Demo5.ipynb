{
 "cells": [
  {
   "metadata": {
    "ExecuteTime": {
     "end_time": "2024-12-25T03:15:01.709983Z",
     "start_time": "2024-12-25T03:15:01.696217Z"
    }
   },
   "cell_type": "code",
   "source": [
    "\"\"\"\n",
    "给你一个字符串 s，找到 s 中最长的回文子串。\n",
    "\n",
    "示例 1：\n",
    "输入：s = \"babad\"\n",
    "输出：\"bab\"\n",
    "解释：\"aba\" 同样是符合题意的答案。\n",
    "\n",
    "示例 2：\n",
    "输入：s = \"cbbd\"\n",
    "输出：\"bb\"\n",
    "\"\"\"\n",
    "class Solution:\n",
    "    #f(0,n-1) = f(1,n-2)+?1\n",
    "    def longestPalindrome(self, s: str) -> str:\n",
    "        for i in range(len(s)):\n",
    "            \n",
    "    \n",
    "    \n",
    "\n",
    "print(Solution().longestPalindrome(\"babad\"))\n",
    "                \n",
    "                "
   ],
   "id": "7247024baaeb703f",
   "outputs": [
    {
     "name": "stdout",
     "output_type": "stream",
     "text": [
      "abad\n"
     ]
    }
   ],
   "execution_count": 1
  }
 ],
 "metadata": {
  "kernelspec": {
   "display_name": "Python 3",
   "language": "python",
   "name": "python3"
  },
  "language_info": {
   "codemirror_mode": {
    "name": "ipython",
    "version": 2
   },
   "file_extension": ".py",
   "mimetype": "text/x-python",
   "name": "python",
   "nbconvert_exporter": "python",
   "pygments_lexer": "ipython2",
   "version": "2.7.6"
  }
 },
 "nbformat": 4,
 "nbformat_minor": 5
}
