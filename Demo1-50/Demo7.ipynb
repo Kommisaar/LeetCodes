{
 "cells": [
  {
   "metadata": {},
   "cell_type": "markdown",
   "source": [
    "给你一个 32 位的有符号整数 x ，返回将 x 中的数字部分反转后的结果。\n",
    "\n",
    "如果反转后整数超过 32 位的有符号整数的范围 [−231,  231 − 1] ，就返回 0。\n",
    "\n",
    "假设环境不允许存储 64 位整数（有符号或无符号）。"
   ],
   "id": "35d1ea53f228a358"
  },
  {
   "metadata": {
    "ExecuteTime": {
     "end_time": "2024-12-25T06:40:34.403526Z",
     "start_time": "2024-12-25T06:40:34.361654Z"
    }
   },
   "cell_type": "code",
   "source": [
    "class Solution:\n",
    "    def reverse(self, x: int) -> int:\n",
    "        if x == 0:\n",
    "            return 0\n",
    "        is_positive = x >= 0\n",
    "        n = str(x) if is_positive else str(x)[1:]\n",
    "        n = n[::-1].removeprefix('0')\n",
    "        n = int(n) if is_positive else -int(n)\n",
    "        return n if n in range(-2 ** 31, 2 ** 31 - 1) else 0\n",
    "\n",
    "\n",
    "print(Solution().reverse(-321))\n",
    "        "
   ],
   "id": "6081b82f00aa3886",
   "outputs": [
    {
     "ename": "ValueError",
     "evalue": "invalid literal for int() with base 10: ''",
     "output_type": "error",
     "traceback": [
      "\u001B[1;31m---------------------------------------------------------------------------\u001B[0m",
      "\u001B[1;31mValueError\u001B[0m                                Traceback (most recent call last)",
      "Cell \u001B[1;32mIn[10], line 11\u001B[0m\n\u001B[0;32m      7\u001B[0m         n \u001B[38;5;241m=\u001B[39m \u001B[38;5;28mint\u001B[39m(n) \u001B[38;5;28;01mif\u001B[39;00m is_positive \u001B[38;5;28;01melse\u001B[39;00m \u001B[38;5;241m-\u001B[39m\u001B[38;5;28mint\u001B[39m(n)\n\u001B[0;32m      8\u001B[0m         \u001B[38;5;28;01mreturn\u001B[39;00m n \u001B[38;5;28;01mif\u001B[39;00m n \u001B[38;5;129;01min\u001B[39;00m \u001B[38;5;28mrange\u001B[39m(\u001B[38;5;241m-\u001B[39m\u001B[38;5;241m2\u001B[39m \u001B[38;5;241m*\u001B[39m\u001B[38;5;241m*\u001B[39m \u001B[38;5;241m31\u001B[39m, \u001B[38;5;241m2\u001B[39m \u001B[38;5;241m*\u001B[39m\u001B[38;5;241m*\u001B[39m \u001B[38;5;241m31\u001B[39m \u001B[38;5;241m-\u001B[39m \u001B[38;5;241m1\u001B[39m) \u001B[38;5;28;01melse\u001B[39;00m \u001B[38;5;241m0\u001B[39m\n\u001B[1;32m---> 11\u001B[0m \u001B[38;5;28mprint\u001B[39m(\u001B[43mSolution\u001B[49m\u001B[43m(\u001B[49m\u001B[43m)\u001B[49m\u001B[38;5;241;43m.\u001B[39;49m\u001B[43mreverse\u001B[49m\u001B[43m(\u001B[49m\u001B[38;5;241;43m0\u001B[39;49m\u001B[43m)\u001B[49m)\n",
      "Cell \u001B[1;32mIn[10], line 7\u001B[0m, in \u001B[0;36mSolution.reverse\u001B[1;34m(self, x)\u001B[0m\n\u001B[0;32m      5\u001B[0m \u001B[38;5;28;01mif\u001B[39;00m \u001B[38;5;28mlen\u001B[39m(n) \u001B[38;5;241m>\u001B[39m \u001B[38;5;241m0\u001B[39m:\n\u001B[0;32m      6\u001B[0m     n \u001B[38;5;241m=\u001B[39m n[::\u001B[38;5;241m-\u001B[39m\u001B[38;5;241m1\u001B[39m]\u001B[38;5;241m.\u001B[39mremoveprefix(\u001B[38;5;124m'\u001B[39m\u001B[38;5;124m0\u001B[39m\u001B[38;5;124m'\u001B[39m)\n\u001B[1;32m----> 7\u001B[0m n \u001B[38;5;241m=\u001B[39m \u001B[38;5;28;43mint\u001B[39;49m\u001B[43m(\u001B[49m\u001B[43mn\u001B[49m\u001B[43m)\u001B[49m \u001B[38;5;28;01mif\u001B[39;00m is_positive \u001B[38;5;28;01melse\u001B[39;00m \u001B[38;5;241m-\u001B[39m\u001B[38;5;28mint\u001B[39m(n)\n\u001B[0;32m      8\u001B[0m \u001B[38;5;28;01mreturn\u001B[39;00m n \u001B[38;5;28;01mif\u001B[39;00m n \u001B[38;5;129;01min\u001B[39;00m \u001B[38;5;28mrange\u001B[39m(\u001B[38;5;241m-\u001B[39m\u001B[38;5;241m2\u001B[39m \u001B[38;5;241m*\u001B[39m\u001B[38;5;241m*\u001B[39m \u001B[38;5;241m31\u001B[39m, \u001B[38;5;241m2\u001B[39m \u001B[38;5;241m*\u001B[39m\u001B[38;5;241m*\u001B[39m \u001B[38;5;241m31\u001B[39m \u001B[38;5;241m-\u001B[39m \u001B[38;5;241m1\u001B[39m) \u001B[38;5;28;01melse\u001B[39;00m \u001B[38;5;241m0\u001B[39m\n",
      "\u001B[1;31mValueError\u001B[0m: invalid literal for int() with base 10: ''"
     ]
    }
   ],
   "execution_count": 10
  }
 ],
 "metadata": {
  "kernelspec": {
   "display_name": "Python 3",
   "language": "python",
   "name": "python3"
  },
  "language_info": {
   "codemirror_mode": {
    "name": "ipython",
    "version": 2
   },
   "file_extension": ".py",
   "mimetype": "text/x-python",
   "name": "python",
   "nbconvert_exporter": "python",
   "pygments_lexer": "ipython2",
   "version": "2.7.6"
  }
 },
 "nbformat": 4,
 "nbformat_minor": 5
}
