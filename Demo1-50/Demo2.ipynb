{
 "cells": [
  {
   "metadata": {},
   "cell_type": "markdown",
   "source": [
    "给你两个 非空 的链表，表示两个非负的整数。它们每位数字都是按照 逆序 的方式存储的，并且每个节点只能存储 一位 数字。\n",
    "\n",
    "请你将两个数相加，并以相同形式返回一个表示和的链表。\n",
    "\n",
    "你可以假设除了数字 0 之外，这两个数都不会以 0 开头。"
   ],
   "id": "a8829625626938eb"
  },
  {
   "metadata": {},
   "cell_type": "code",
   "outputs": [],
   "execution_count": null,
   "source": [
    "from Utils.ListNodeUtils import ListNode\n",
    "from typing import Optional\n",
    "\n",
    "\n",
    "# Definition for singly-linked list.\n",
    "# class ListNode:\n",
    "#     def __init__(self, val=0, next=None):\n",
    "#         self.val = val\n",
    "#         self.next = next\n",
    "class Solution:\n",
    "    def addTwoNumbers(self, l1: Optional[ListNode], l2: Optional[ListNode]) -> Optional[ListNode]:\n",
    "        prev = ListNode(0)\n",
    "        dummy = prev\n",
    "        count = 0\n",
    "        while l1 or l2:\n",
    "            if l1 is not None and l2 is not None:\n",
    "                if l1.val + l2.val + count > 9:\n",
    "                    dummy.next = ListNode(l1.val + l2.val + count - 10)\n",
    "                    count = 1\n",
    "                else:\n",
    "                    dummy.next = ListNode(l1.val + l2.val + count)\n",
    "                    count = 0\n",
    "            elif l1 is not None:\n",
    "                if l1.val + count > 9:\n",
    "                    dummy.next = ListNode(l1.val + count - 10)\n",
    "                    count = 1\n",
    "                else:\n",
    "                    dummy.next = ListNode(l1.val + count)\n",
    "                    count = 0\n",
    "            elif l2 is not None:\n",
    "                if l2.val + count > 9:\n",
    "                    dummy.next = ListNode(l2.val + count - 10)\n",
    "                    count = 1\n",
    "                else:\n",
    "                    dummy.next = ListNode(l2.val + count)\n",
    "                    count = 0\n",
    "            dummy = dummy.next\n",
    "            if l1 is not None:\n",
    "                l1 = l1.next\n",
    "            if l2 is not None:\n",
    "                l2 = l2.next\n",
    "                \n",
    "        if count != 0:\n",
    "            dummy.next = ListNode(count)\n",
    "        return prev.next\n",
    "    \n",
    "    def addTwoNumbers2(self, l1: Optional[ListNode], l2: Optional[ListNode]) -> Optional[ListNode]:\n",
    "        curr = dummy = ListNode(0)\n",
    "        carry = 0\n",
    "        \n",
    "        while l1 or l2 or carry:\n",
    "            if l1:\n",
    "                carry += l1.val\n",
    "                l1 = l1.next\n",
    "            if l2:\n",
    "                carry += l2.val\n",
    "                l2 = l2.next\n",
    "                \n",
    "            carry, val = divmod(carry, 10)"
   ],
   "id": "f86f038d711576ae"
  }
 ],
 "metadata": {
  "kernelspec": {
   "display_name": "Python 3",
   "language": "python",
   "name": "python3"
  },
  "language_info": {
   "codemirror_mode": {
    "name": "ipython",
    "version": 2
   },
   "file_extension": ".py",
   "mimetype": "text/x-python",
   "name": "python",
   "nbconvert_exporter": "python",
   "pygments_lexer": "ipython2",
   "version": "2.7.6"
  }
 },
 "nbformat": 4,
 "nbformat_minor": 5
}
