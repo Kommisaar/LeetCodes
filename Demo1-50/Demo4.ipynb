{
 "cells": [
  {
   "cell_type": "code",
   "execution_count": null,
   "id": "initial_id",
   "metadata": {
    "collapsed": true
   },
   "outputs": [],
   "source": [
    "\"\"\"\n",
    "给定两个大小分别为 m 和 n 的正序（从小到大）数组 nums1 和 nums2。请你找出并返回这两个正序数组的 中位数 。\n",
    "\n",
    "算法的时间复杂度应该为 O(log (m+n)) 。\n",
    "\"\"\""
   ]
  },
  {
   "metadata": {
    "ExecuteTime": {
     "end_time": "2024-12-25T02:16:31.514945Z",
     "start_time": "2024-12-25T02:16:31.483195Z"
    }
   },
   "cell_type": "code",
   "source": [
    "from typing import List\n",
    "\n",
    "\n",
    "class Solution:\n",
    "\n",
    "    # 空间复杂度O(m+n),时间复杂度O(m+n)\n",
    "    def findMedianSortedArrays(self, nums1: List[int], nums2: List[int]) -> float:\n",
    "\n",
    "        if not nums1:\n",
    "            return nums2[len(nums2) // 2] if len(nums2) % 2 == 0 else (nums2[len(nums2) // 2] + nums2[\n",
    "                len(nums2) // 2 - 1]) / 2\n",
    "        elif not nums2:\n",
    "            return nums1[len(nums1) // 2] if len(nums1) % 2 == 0 else (nums1[len(nums1) // 2] + nums1[\n",
    "                len(nums1) // 2 - 1]) / 2\n",
    "\n",
    "        for i in nums2:\n",
    "            low = 0\n",
    "            high = len(nums1)\n",
    "\n",
    "            while low < high:\n",
    "                mid = (high - low) // 2 + low\n",
    "                if nums1[mid] < i:\n",
    "                    low = mid + 1\n",
    "                else:\n",
    "                    high = mid\n",
    "            if low == len(nums1):\n",
    "                nums1.append(i)\n",
    "            else:\n",
    "                nums1.insert(low, i)\n",
    "\n",
    "        return nums1[len(nums1) // 2] if len(nums1) % 2 != 0 else (nums1[len(nums1) // 2] + nums1[\n",
    "            len(nums1) // 2 - 1]) / 2\n",
    "\n",
    "sol = Solution()\n",
    "print(sol.findMedianSortedArrays([1, 3], [2,4]))"
   ],
   "id": "6ca629c5bec9c0d9",
   "outputs": [
    {
     "name": "stdout",
     "output_type": "stream",
     "text": [
      "3\n"
     ]
    }
   ],
   "execution_count": 5
  }
 ],
 "metadata": {
  "kernelspec": {
   "display_name": "Python 3",
   "language": "python",
   "name": "python3"
  },
  "language_info": {
   "codemirror_mode": {
    "name": "ipython",
    "version": 2
   },
   "file_extension": ".py",
   "mimetype": "text/x-python",
   "name": "python",
   "nbconvert_exporter": "python",
   "pygments_lexer": "ipython2",
   "version": "2.7.6"
  }
 },
 "nbformat": 4,
 "nbformat_minor": 5
}
