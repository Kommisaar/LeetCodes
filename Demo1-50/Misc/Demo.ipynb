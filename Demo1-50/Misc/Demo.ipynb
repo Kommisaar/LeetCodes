{
 "cells": [
  {
   "metadata": {},
   "cell_type": "code",
   "source": [
    "def longestCommonPrefix(strs):\n",
    "    longest_str = []\n",
    "    pivot_str = min(strs, key=lambda x: len(x))\n",
    "    strs.remove(pivot_str)\n",
    "    for i in range(len(pivot_str)):\n",
    "        for j in range(len(strs)):\n",
    "            if strs[j][i] != pivot_str[i]:\n",
    "                return ''.join(longest_str)\n",
    "        longest_str.append(pivot_str[i])\n",
    "    return ''.join(longest_str)\n",
    "\n",
    "\n",
    "print(longestCommonPrefix([\"abc\", \"apple\"]))"
   ],
   "id": "7dd29b236c8cb8a1",
   "outputs": [],
   "execution_count": null
  },
  {
   "metadata": {},
   "cell_type": "code",
   "source": [
    "class Animal:\n",
    "    def make_sound(self):\n",
    "        pass\n",
    "\n",
    "\n",
    "class Dog(Animal):\n",
    "    def make_sound(self):\n",
    "        print('I am a dog.')\n",
    "\n",
    "\n",
    "class Cat(Animal):\n",
    "    def make_sound(self):\n",
    "        print('I am a cat.')\n",
    "\n",
    "\n",
    "class Bird(Animal):\n",
    "    def make_sound(self):\n",
    "        print('I am a bird.')\n",
    "\n",
    "\n",
    "animal1 = Dog()\n",
    "animal2 = Cat()\n",
    "animal3 = Bird()\n",
    "animals = [animal1, animal2, animal3]\n",
    "\n",
    "for animal in animals:\n",
    "    animal.make_sound()"
   ],
   "id": "9e67c78e74a56d6d",
   "outputs": [],
   "execution_count": null
  },
  {
   "metadata": {},
   "cell_type": "code",
   "source": [
    "def isValid(s: str) -> bool:\n",
    "    str_len = len(s)\n",
    "    if str_len % 2 != 0:\n",
    "        return False\n",
    "    bracket_list = list()\n",
    "    for i in range(str_len):\n",
    "        if s[i] == '(' or s[i] == '[' or s[i] == '{':\n",
    "            bracket_list.append(s[i])\n",
    "        elif len(bracket_list) != 0:\n",
    "            if s[i] == ')':\n",
    "                if bracket_list[-1] != '(':\n",
    "                    return False\n",
    "                else:\n",
    "                    bracket_list.pop()\n",
    "            elif s[i] == ']':\n",
    "                if bracket_list[-1] != '[':\n",
    "                    return False\n",
    "                else:\n",
    "                    bracket_list.pop()\n",
    "            elif s[i] == '}':\n",
    "                if bracket_list[-1] != '{':\n",
    "                    return False\n",
    "                else:\n",
    "                    bracket_list.pop()\n",
    "        else:\n",
    "            return False\n",
    "    if len(bracket_list) == 0:\n",
    "        return True\n",
    "    return False\n",
    "\n",
    "\n",
    "print(isValid('()'))"
   ],
   "id": "19e9f8fb1ff2d8c7",
   "outputs": [],
   "execution_count": null
  },
  {
   "metadata": {},
   "cell_type": "code",
   "source": [
    "#字典配对方法\n",
    "def isValid(s: str) -> bool:\n",
    "    if len(s) % 2 != 0:\n",
    "        return False\n",
    "\n",
    "    bracket_list = list()\n",
    "    bracket_pair = {\n",
    "        ']': '[',\n",
    "        ')': '(',\n",
    "        '}': '{'\n",
    "    }\n",
    "    for i in range(len(s)):\n",
    "        if s[i] not in bracket_pair:\n",
    "            bracket_list.append(s[i])\n",
    "        elif len(bracket_list) != 0:\n",
    "            if bracket_list[-1] != bracket_pair[s[i]]:\n",
    "                return False\n",
    "            bracket_list.pop()\n",
    "        else:\n",
    "            return False\n",
    "    return True if len(bracket_list) == 0 else False\n",
    "\n",
    "\n",
    "print(isValid('([])'))\n"
   ],
   "id": "456cc890bf2a300e",
   "outputs": [],
   "execution_count": null
  },
  {
   "metadata": {},
   "cell_type": "code",
   "source": [
    "# Definition for singly-linked list.\n",
    "class ListNode:\n",
    "    def __init__(self, val=0, next=None):\n",
    "        self.val = val\n",
    "        self.next = next\n",
    "\n",
    "\n",
    "def mergeTwoLists(list1, list2):\n",
    "    head = ListNode(0)\n",
    "    current_node = head\n",
    "\n",
    "    while list1 and list2:\n",
    "        if list1.val <= list2.val:\n",
    "            current_node.next = list1\n",
    "            list1 = list1.next\n",
    "        else:\n",
    "            current_node.next = list2\n",
    "            list2 = list2.next\n",
    "        current_node = current_node.next\n",
    "\n",
    "    if list1:\n",
    "        current_node.next = list1\n",
    "    else:\n",
    "        current_node.next = list2\n",
    "\n",
    "    return head.next\n",
    "\n",
    "\n"
   ],
   "id": "4f14b8e8530af0d8",
   "outputs": [],
   "execution_count": null
  },
  {
   "metadata": {},
   "cell_type": "markdown",
   "source": "",
   "id": "c969b9e8a898626d"
  },
  {
   "metadata": {},
   "cell_type": "code",
   "source": [
    "class Solution:\n",
    "    def removeDuplicates(self, nums):\n",
    "        hashset = set(nums)\n",
    "        nums[:] = list(hashset)\n",
    "        nums.sort()\n",
    "        return len(hashset)"
   ],
   "id": "66ab9e8c2c789e1f",
   "outputs": [],
   "execution_count": null
  },
  {
   "metadata": {
    "ExecuteTime": {
     "end_time": "2024-12-17T03:07:32.945351Z",
     "start_time": "2024-12-17T03:07:32.933191Z"
    }
   },
   "cell_type": "code",
   "source": [
    "list1 =[-50,-50,-49,-48,-48,-47,-46,-45,-45,-44,-42,-41,-41,-40,-39,-38,-38,-37,-36,-30,-29,-29,-28,-28,-27,-26,-25,-25,-25,-24,-23,-23,-23,-22,-22,-20,-20,-20,-19,-18,-18,-15,-15,-15,-15,-15,-15,-13,-12,-12,-12,-12,-9,-8,-7,-6,-6,-5,-5,-2,-1,0,1,1,2,4,8,8,10,11,11,12,14,14,14,17,18,22,22,23,23,26,26,27,27,27,28,28,28,28,29,29,29,30,30,32,32,32,32,33,34,34,35,36,36,37,37,37,38,42,42,43,44,45,45,46,46,47,48,49,49,50,50]\n",
    "\n",
    "print(set(list1))"
   ],
   "id": "42129d16f880a406",
   "outputs": [
    {
     "name": "stdout",
     "output_type": "stream",
     "text": [
      "{0, 1, 2, 4, 8, 10, 11, 12, 14, 17, 18, 22, 23, 26, 27, 28, 29, 30, 32, 33, 34, 35, 36, 37, 38, 42, 43, 44, 45, 46, 47, 48, 49, 50, -50, -49, -48, -47, -46, -45, -44, -42, -41, -40, -39, -38, -37, -36, -30, -29, -28, -27, -26, -25, -24, -23, -22, -20, -19, -18, -15, -13, -12, -1, -9, -8, -7, -6, -5, -2}\n"
     ]
    }
   ],
   "execution_count": 69
  },
  {
   "metadata": {},
   "cell_type": "markdown",
   "source": "",
   "id": "a62e16a211fb5b7c"
  },
  {
   "metadata": {},
   "cell_type": "code",
   "source": [
    "class Vector:\n",
    "    @staticmethod\n",
    "    def right(l: list):\n",
    "        return [i[-1] for i in l]\n",
    "\n",
    "    @staticmethod\n",
    "    def get_attr_from_pos(x: int, y: int, l: list):\n",
    "        return l[x][y]\n",
    "\n",
    "\n",
    "list01 = [[\"01\", \"02\", \"03\", \"04\"],\n",
    "          [\"10\", \"11\", \"12\", \"13\"],\n",
    "          [\"20\", \"21\", \"22\", \"23\"],\n",
    "          [\"30\", \"31\", \"32\", \"33\"]]\n",
    "\n",
    "print((Vector.right(list01)))\n",
    "print((Vector.get_attr_from_pos(1, 3, list01)))"
   ],
   "id": "a1a75fb3e4b56762",
   "outputs": [],
   "execution_count": null
  }
 ],
 "metadata": {
  "kernelspec": {
   "display_name": "Python 3",
   "language": "python",
   "name": "python3"
  },
  "language_info": {
   "codemirror_mode": {
    "name": "ipython",
    "version": 2
   },
   "file_extension": ".py",
   "mimetype": "text/x-python",
   "name": "python",
   "nbconvert_exporter": "python",
   "pygments_lexer": "ipython2",
   "version": "2.7.6"
  }
 },
 "nbformat": 4,
 "nbformat_minor": 5
}
