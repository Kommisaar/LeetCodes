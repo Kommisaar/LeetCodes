{
 "cells": [
  {
   "cell_type": "code",
   "id": "initial_id",
   "metadata": {
    "collapsed": true
   },
   "source": [
    "import math\n",
    "\n",
    "\"\"\"\n",
    "给你一个非负整数 x ，计算并返回 x 的 算术平方根 。\n",
    "\n",
    "由于返回类型是整数，结果只保留 整数部分 ，小数部分将被 舍去 。\n",
    "\n",
    "注意：不允许使用任何内置指数函数和算符，例如 pow(x, 0.5) 或者 x ** 0.5 。\n",
    "\"\"\"\n",
    "\n",
    "\n",
    "class Solution:\n",
    "    def mySqrt(self, x: int) -> int:\n",
    "\n",
    "        if x == 0:\n",
    "            return x\n",
    "\n",
    "        low = 0\n",
    "        high = x\n",
    "\n",
    "        while high - low > 0.00001:\n",
    "            mid = (low + high) / 2\n",
    "            print(mid)\n",
    "            if mid * mid == x:\n",
    "                return int(mid)\n",
    "            elif mid * mid > x:\n",
    "                high = mid\n",
    "            else:\n",
    "                low = mid\n",
    "        if round(mid) * round(mid) == x:\n",
    "            return round(mid)\n",
    "\n",
    "        return int(mid)\n",
    "\n",
    "\n",
    "sol = Solution()\n",
    "print(sol.mySqrt(8))\n"
   ],
   "outputs": [],
   "execution_count": null
  },
  {
   "metadata": {
    "ExecuteTime": {
     "end_time": "2024-12-17T07:14:30.908052Z",
     "start_time": "2024-12-17T07:14:30.900081Z"
    }
   },
   "cell_type": "code",
   "source": [
    "def mySqrt(x: int) -> int:\n",
    "    if x < 2:\n",
    "        return x\n",
    "\n",
    "    low, high = 1, x\n",
    "    while low <= high:\n",
    "        mid = (low + high) // 2\n",
    "        mid_squared = mid * mid\n",
    "\n",
    "        if mid_squared == x:\n",
    "            return mid\n",
    "        elif mid_squared < x:\n",
    "            low = mid + 1\n",
    "        else:\n",
    "            high = mid - 1\n",
    "\n",
    "    return high\n",
    "\n",
    "\n",
    "print(mySqrt(8))"
   ],
   "id": "5e4c53c23c381333",
   "outputs": [
    {
     "name": "stdout",
     "output_type": "stream",
     "text": [
      "2\n"
     ]
    }
   ],
   "execution_count": 92
  }
 ],
 "metadata": {
  "kernelspec": {
   "display_name": "Python 3",
   "language": "python",
   "name": "python3"
  },
  "language_info": {
   "codemirror_mode": {
    "name": "ipython",
    "version": 2
   },
   "file_extension": ".py",
   "mimetype": "text/x-python",
   "name": "python",
   "nbconvert_exporter": "python",
   "pygments_lexer": "ipython2",
   "version": "2.7.6"
  }
 },
 "nbformat": 4,
 "nbformat_minor": 5
}
