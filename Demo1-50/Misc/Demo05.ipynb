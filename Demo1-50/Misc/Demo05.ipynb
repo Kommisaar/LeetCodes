{
 "cells": [
  {
   "cell_type": "code",
   "id": "initial_id",
   "metadata": {
    "collapsed": true
   },
   "source": [
    "\"\"\"\n",
    "给你两个二进制字符串 a 和 b ，以二进制字符串的形式返回它们的和。\n",
    "\"\"\"\n",
    "\n",
    "\n",
    "class Solution:\n",
    "    def addBinary(self, a: str, b: str) -> str:\n",
    "        return bin(int(a, 2) + int(b, 2))[2:]\n",
    "\n",
    "\n",
    "sol = Solution()\n",
    "print(sol.addBinary('1', '111'))"
   ],
   "outputs": [],
   "execution_count": null
  },
  {
   "metadata": {},
   "cell_type": "code",
   "source": [
    "class Solution:\n",
    "    def addBinary2(self, a: str, b: str) -> str:\n",
    "        \n",
    "\n",
    "sol = Solution()\n",
    "print(sol.addBinary('1', '111'))"
   ],
   "id": "fe74f8674cabfd0d",
   "outputs": [],
   "execution_count": null
  }
 ],
 "metadata": {
  "kernelspec": {
   "display_name": "Python 3",
   "language": "python",
   "name": "python3"
  },
  "language_info": {
   "codemirror_mode": {
    "name": "ipython",
    "version": 2
   },
   "file_extension": ".py",
   "mimetype": "text/x-python",
   "name": "python",
   "nbconvert_exporter": "python",
   "pygments_lexer": "ipython2",
   "version": "2.7.6"
  }
 },
 "nbformat": 4,
 "nbformat_minor": 5
}
