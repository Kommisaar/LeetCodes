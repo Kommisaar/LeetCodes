{
 "cells": [
  {
   "cell_type": "code",
   "id": "initial_id",
   "metadata": {
    "collapsed": true,
    "ExecuteTime": {
     "end_time": "2024-12-17T05:12:44.744383Z",
     "start_time": "2024-12-17T05:12:44.734417Z"
    }
   },
   "source": [
    "from typing import List\n",
    "\n",
    "\"\"\"\n",
    "给定一个由 整数 组成的 非空 数组所表示的非负整数，在该数的基础上加一。\n",
    "\n",
    "最高位数字存放在数组的首位， 数组中每个元素只存储单个数字。\n",
    "\n",
    "你可以假设除了整数 0 之外，这个整数不会以零开头\n",
    "\"\"\"\n",
    "\n",
    "\n",
    "def plusOne(digits: List[int]) -> List[int]:\n",
    "    digits[-1] += 1\n",
    "    for digit in range(len(digits) - 1, -1, -1):\n",
    "        if digits[digit] == 10 and digit != 0:\n",
    "            digits[digit] = 0\n",
    "            digits[digit - 1] += 1\n",
    "        else:\n",
    "            break\n",
    "    if digits[0] == 10:\n",
    "        digits[0] = 0\n",
    "        digits = [1] + digits[::]\n",
    "\n",
    "    return digits\n",
    "\n",
    "\n",
    "print(plusOne([9]))"
   ],
   "outputs": [
    {
     "name": "stdout",
     "output_type": "stream",
     "text": [
      "[1, 0]\n"
     ]
    }
   ],
   "execution_count": 18
  },
  {
   "metadata": {},
   "cell_type": "code",
   "outputs": [],
   "execution_count": null,
   "source": [
    "def plusOne2(digits: List[int]) -> List[int]:\n",
    "    for i in range(1, len(digits) + 1):\n",
    "        if digits[-i] != 9:\n",
    "            digits[-i] += 1\n",
    "            return digits\n",
    "        digits[-i] = 0\n",
    "    digits.insert(0, 1)\n",
    "    return digits\n",
    "        \n",
    "        "
   ],
   "id": "4e1c20c7e172fe4"
  }
 ],
 "metadata": {
  "kernelspec": {
   "display_name": "Python 3",
   "language": "python",
   "name": "python3"
  },
  "language_info": {
   "codemirror_mode": {
    "name": "ipython",
    "version": 2
   },
   "file_extension": ".py",
   "mimetype": "text/x-python",
   "name": "python",
   "nbconvert_exporter": "python",
   "pygments_lexer": "ipython2",
   "version": "2.7.6"
  }
 },
 "nbformat": 4,
 "nbformat_minor": 5
}
