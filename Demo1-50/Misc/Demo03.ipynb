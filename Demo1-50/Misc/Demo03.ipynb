{
 "cells": [
  {
   "cell_type": "code",
   "id": "initial_id",
   "metadata": {
    "collapsed": true,
    "ExecuteTime": {
     "end_time": "2024-12-17T05:01:26.537840Z",
     "start_time": "2024-12-17T05:01:26.530833Z"
    }
   },
   "source": [
    "\"\"\"\n",
    "给你一个字符串 s，由若干单词组成，单词前后用一些空格字符隔开。返回字符串中 最后一个 单词的长度。\n",
    "\"\"\"\n",
    "\n",
    "\n",
    "class Solution:\n",
    "    def lengthOfLastWord(self, s: str) -> int:\n",
    "        s = s.strip()\n",
    "        s = s.split()\n",
    "        return len(s[-1])\n",
    "\n",
    "    def lengthOfLastWord2(self, s: str) -> int:\n",
    "        last_word = list()\n",
    "        for i in range(len(s)):\n",
    "            if s[i] != ' ':\n",
    "                last_word.append(s[i])\n",
    "            else:\n",
    "                j = i+1\n",
    "                while j<len(s) :\n",
    "                    if s[j] ==' ':\n",
    "                        j=j+1\n",
    "                    else:\n",
    "                        last_word.clear()\n",
    "                        break\n",
    "\n",
    "        return len(last_word)\n",
    "\n",
    "\n",
    "s1 = \"Hello World\"\n",
    "s2 = \"   fly me   to   the moon  \"\n",
    "s3 = \"luffy is still joyboy\"\n",
    "\n",
    "print(Solution().lengthOfLastWord2(s1))\n",
    "print(Solution().lengthOfLastWord2(s2))\n",
    "print(Solution().lengthOfLastWord2(s3))"
   ],
   "outputs": [
    {
     "name": "stdout",
     "output_type": "stream",
     "text": [
      "5\n",
      "4\n",
      "6\n"
     ]
    }
   ],
   "execution_count": 5
  }
 ],
 "metadata": {
  "kernelspec": {
   "display_name": "Python 3",
   "language": "python",
   "name": "python3"
  },
  "language_info": {
   "codemirror_mode": {
    "name": "ipython",
    "version": 2
   },
   "file_extension": ".py",
   "mimetype": "text/x-python",
   "name": "python",
   "nbconvert_exporter": "python",
   "pygments_lexer": "ipython2",
   "version": "2.7.6"
  }
 },
 "nbformat": 4,
 "nbformat_minor": 5
}
