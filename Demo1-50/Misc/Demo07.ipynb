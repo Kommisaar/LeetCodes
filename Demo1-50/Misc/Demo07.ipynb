{
 "cells": [
  {
   "cell_type": "code",
   "id": "initial_id",
   "metadata": {
    "collapsed": true,
    "ExecuteTime": {
     "end_time": "2024-12-17T09:27:37.654746Z",
     "start_time": "2024-12-17T09:27:24.524336Z"
    }
   },
   "source": [
    "import math\n",
    "\n",
    "\"\"\"\n",
    "假设你正在爬楼梯。需要 n 阶你才能到达楼顶。\n",
    "\n",
    "每次你可以爬 1 或 2 个台阶。你有多少种不同的方法可以爬到楼顶呢？\n",
    "\"\"\"\n",
    "\n",
    "\n",
    "class Solution:\n",
    "    def climbStairs(self, n: int) -> int:\n",
    "        if n < 2:\n",
    "            return 1\n",
    "\n",
    "        return self.climbStairs(n - 1) + self.climbStairs(n - 2)\n",
    "    \n",
    "    \n",
    "sol = Solution()\n",
    "sol.climbStairs(40)\n"
   ],
   "outputs": [
    {
     "ename": "KeyboardInterrupt",
     "evalue": "",
     "output_type": "error",
     "traceback": [
      "\u001B[1;31m---------------------------------------------------------------------------\u001B[0m",
      "\u001B[1;31mKeyboardInterrupt\u001B[0m                         Traceback (most recent call last)",
      "Cell \u001B[1;32mIn[13], line 19\u001B[0m\n\u001B[0;32m     15\u001B[0m         \u001B[38;5;28;01mreturn\u001B[39;00m \u001B[38;5;28mself\u001B[39m\u001B[38;5;241m.\u001B[39mclimbStairs(n \u001B[38;5;241m-\u001B[39m \u001B[38;5;241m1\u001B[39m) \u001B[38;5;241m+\u001B[39m \u001B[38;5;28mself\u001B[39m\u001B[38;5;241m.\u001B[39mclimbStairs(n \u001B[38;5;241m-\u001B[39m \u001B[38;5;241m2\u001B[39m)\n\u001B[0;32m     18\u001B[0m sol \u001B[38;5;241m=\u001B[39m Solution()\n\u001B[1;32m---> 19\u001B[0m \u001B[43msol\u001B[49m\u001B[38;5;241;43m.\u001B[39;49m\u001B[43mclimbStairs\u001B[49m\u001B[43m(\u001B[49m\u001B[38;5;241;43m40\u001B[39;49m\u001B[43m)\u001B[49m\n",
      "Cell \u001B[1;32mIn[13], line 15\u001B[0m, in \u001B[0;36mSolution.climbStairs\u001B[1;34m(self, n)\u001B[0m\n\u001B[0;32m     12\u001B[0m \u001B[38;5;28;01mif\u001B[39;00m n \u001B[38;5;241m<\u001B[39m \u001B[38;5;241m2\u001B[39m:\n\u001B[0;32m     13\u001B[0m     \u001B[38;5;28;01mreturn\u001B[39;00m \u001B[38;5;241m1\u001B[39m\n\u001B[1;32m---> 15\u001B[0m \u001B[38;5;28;01mreturn\u001B[39;00m \u001B[38;5;28mself\u001B[39m\u001B[38;5;241m.\u001B[39mclimbStairs(n \u001B[38;5;241m-\u001B[39m \u001B[38;5;241m1\u001B[39m) \u001B[38;5;241m+\u001B[39m \u001B[38;5;28;43mself\u001B[39;49m\u001B[38;5;241;43m.\u001B[39;49m\u001B[43mclimbStairs\u001B[49m\u001B[43m(\u001B[49m\u001B[43mn\u001B[49m\u001B[43m \u001B[49m\u001B[38;5;241;43m-\u001B[39;49m\u001B[43m \u001B[49m\u001B[38;5;241;43m2\u001B[39;49m\u001B[43m)\u001B[49m\n",
      "Cell \u001B[1;32mIn[13], line 15\u001B[0m, in \u001B[0;36mSolution.climbStairs\u001B[1;34m(self, n)\u001B[0m\n\u001B[0;32m     12\u001B[0m \u001B[38;5;28;01mif\u001B[39;00m n \u001B[38;5;241m<\u001B[39m \u001B[38;5;241m2\u001B[39m:\n\u001B[0;32m     13\u001B[0m     \u001B[38;5;28;01mreturn\u001B[39;00m \u001B[38;5;241m1\u001B[39m\n\u001B[1;32m---> 15\u001B[0m \u001B[38;5;28;01mreturn\u001B[39;00m \u001B[38;5;28mself\u001B[39m\u001B[38;5;241m.\u001B[39mclimbStairs(n \u001B[38;5;241m-\u001B[39m \u001B[38;5;241m1\u001B[39m) \u001B[38;5;241m+\u001B[39m \u001B[38;5;28;43mself\u001B[39;49m\u001B[38;5;241;43m.\u001B[39;49m\u001B[43mclimbStairs\u001B[49m\u001B[43m(\u001B[49m\u001B[43mn\u001B[49m\u001B[43m \u001B[49m\u001B[38;5;241;43m-\u001B[39;49m\u001B[43m \u001B[49m\u001B[38;5;241;43m2\u001B[39;49m\u001B[43m)\u001B[49m\n",
      "    \u001B[1;31m[... skipping similar frames: Solution.climbStairs at line 15 (24 times)]\u001B[0m\n",
      "Cell \u001B[1;32mIn[13], line 15\u001B[0m, in \u001B[0;36mSolution.climbStairs\u001B[1;34m(self, n)\u001B[0m\n\u001B[0;32m     12\u001B[0m \u001B[38;5;28;01mif\u001B[39;00m n \u001B[38;5;241m<\u001B[39m \u001B[38;5;241m2\u001B[39m:\n\u001B[0;32m     13\u001B[0m     \u001B[38;5;28;01mreturn\u001B[39;00m \u001B[38;5;241m1\u001B[39m\n\u001B[1;32m---> 15\u001B[0m \u001B[38;5;28;01mreturn\u001B[39;00m \u001B[38;5;28;43mself\u001B[39;49m\u001B[38;5;241;43m.\u001B[39;49m\u001B[43mclimbStairs\u001B[49m(n \u001B[38;5;241m-\u001B[39m \u001B[38;5;241m1\u001B[39m) \u001B[38;5;241m+\u001B[39m \u001B[38;5;28mself\u001B[39m\u001B[38;5;241m.\u001B[39mclimbStairs(n \u001B[38;5;241m-\u001B[39m \u001B[38;5;241m2\u001B[39m)\n",
      "\u001B[1;31mKeyboardInterrupt\u001B[0m: "
     ]
    }
   ],
   "execution_count": 13
  },
  {
   "metadata": {
    "ExecuteTime": {
     "end_time": "2024-12-17T09:48:17.113320Z",
     "start_time": "2024-12-17T09:48:17.103356Z"
    }
   },
   "cell_type": "code",
   "source": [
    "#迭代法\n",
    "class Solution:\n",
    "    def climbStairs(self, n: int) -> int:\n",
    "        if n<2:\n",
    "            return n\n",
    "        stairs =[1,2]\n",
    "        for i in range(2,n):\n",
    "            stairs.append(stairs[i-1]+stairs[i-2])\n",
    "        return stairs[-1]\n",
    "    \n",
    "sol = Solution()\n",
    "sol.climbStairs(2)\n"
   ],
   "id": "35932f9274ce0e2",
   "outputs": [
    {
     "data": {
      "text/plain": [
       "2"
      ]
     },
     "execution_count": 19,
     "metadata": {},
     "output_type": "execute_result"
    }
   ],
   "execution_count": 19
  }
 ],
 "metadata": {
  "kernelspec": {
   "display_name": "Python 3",
   "language": "python",
   "name": "python3"
  },
  "language_info": {
   "codemirror_mode": {
    "name": "ipython",
    "version": 2
   },
   "file_extension": ".py",
   "mimetype": "text/x-python",
   "name": "python",
   "nbconvert_exporter": "python",
   "pygments_lexer": "ipython2",
   "version": "2.7.6"
  }
 },
 "nbformat": 4,
 "nbformat_minor": 5
}
