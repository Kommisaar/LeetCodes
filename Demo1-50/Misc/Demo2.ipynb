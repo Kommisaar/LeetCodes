{
 "cells": [
  {
   "cell_type": "code",
   "id": "initial_id",
   "metadata": {
    "collapsed": true
   },
   "source": [
    "from typing import List\n",
    "\n",
    "\"\"\"\n",
    "给你一个数组 nums 和一个值 val，你需要 原地 移除所有数值等于 val 的元素。元素的顺序可能发生改变。然后返回 nums 中与 val 不同的元素的数量。\n",
    "\n",
    "假设 nums 中不等于 val 的元素数量为 k，要通过此题，您需要执行以下操作：\n",
    "\n",
    "更改 nums 数组，使 nums 的前 k 个元素包含不等于 val 的元素。nums 的其余元素和 nums 的大小并不重要。\n",
    "返回 k。\n",
    "\"\"\"\n",
    "\n",
    "\n",
    "class Solution:\n",
    "    def removeElement(self, nums: List[int], val: int) -> int:\n",
    "        list_pointer = 0\n",
    "        val_pointer = 0\n",
    "\n",
    "        for i in range(len(nums)):\n",
    "            if nums[i] != val:\n",
    "                nums[list_pointer] = nums[i]\n",
    "                list_pointer += 1\n",
    "            val_pointer += 1\n",
    "        return list_pointer"
   ],
   "outputs": [],
   "execution_count": null
  },
  {
   "metadata": {},
   "cell_type": "code",
   "source": [
    "\"\"\"\n",
    "给你两个字符串 haystack 和 needle ，请你在 haystack 字符串中找出 needle 字符串的第一个匹配项的下标（下标从 0 开始）。如果 needle 不是 haystack 的一部分，则返回  -1 。\n",
    "\"\"\"\n",
    "\n",
    "\n",
    "class Solution:\n",
    "    def strStr(self, haystack: str, needle: str) -> int:\n",
    "        return haystack.find(needle)\n"
   ],
   "id": "b44fbfecc7020023",
   "outputs": [],
   "execution_count": null
  },
  {
   "metadata": {},
   "cell_type": "code",
   "source": [
    "\"\"\"\n",
    "给定一个排序数组和一个目标值，在数组中找到目标值，并返回其索引。如果目标值不存在于数组中，返回它将会被按顺序插入的位置。\n",
    "\n",
    "请必须使用时间复杂度为 O(log n) 的算法。\n",
    "\"\"\"\n",
    "\n",
    "\n",
    "class Solution:\n",
    "    def searchInsert(self, nums, target) -> int:\n",
    "        left_pointer = 0\n",
    "        right_pointer = len(nums)\n",
    "        while left_pointer < right_pointer:\n",
    "            mid = (left_pointer + right_pointer) // 2\n",
    "            if nums[mid] < target:\n",
    "                left_pointer = mid + 1\n",
    "            else:\n",
    "                right_pointer = mid\n",
    "        return left_pointer\n",
    "\n",
    "\n",
    "solution = Solution()\n",
    "list1 = [i for i in range(25) if i % 2 != 0]\n",
    "print(list1)\n",
    "print(solution.searchInsert(list1, 20))"
   ],
   "id": "d3b6af1e69ad9a1e",
   "outputs": [],
   "execution_count": null
  },
  {
   "metadata": {},
   "cell_type": "code",
   "source": [
    "class Bicycle:\n",
    "    def run(self, km):\n",
    "        print(\"人力骑了: \" + str(km) + \"千米\")\n",
    "\n",
    "\n",
    "class EBicycle(Bicycle):\n",
    "    def __init__(self, v):\n",
    "        self.volume = v\n",
    "\n",
    "    def run(self, km):\n",
    "        if self.volume > km:\n",
    "            self.volume -= km\n",
    "            print(\"电动骑了\" + str(km) + \"千米\")\n",
    "        elif km > self.volume:\n",
    "            print(\"电动骑了: \" + str(self.volume).ljust(3) + \"\" + \"千米\", end='   ')\n",
    "            self.volume = 0\n",
    "            super().run(km - self.volume)\n",
    "\n",
    "\n",
    "ebycycler = EBicycle(100)\n",
    "ebycycler.run(1000)\n",
    "ebycycler.run(1000)"
   ],
   "id": "b88d1b365085d4e",
   "outputs": [],
   "execution_count": null
  }
 ],
 "metadata": {
  "kernelspec": {
   "display_name": "Python 3",
   "language": "python",
   "name": "python3"
  },
  "language_info": {
   "codemirror_mode": {
    "name": "ipython",
    "version": 2
   },
   "file_extension": ".py",
   "mimetype": "text/x-python",
   "name": "python",
   "nbconvert_exporter": "python",
   "pygments_lexer": "ipython2",
   "version": "2.7.6"
  }
 },
 "nbformat": 4,
 "nbformat_minor": 5
}
