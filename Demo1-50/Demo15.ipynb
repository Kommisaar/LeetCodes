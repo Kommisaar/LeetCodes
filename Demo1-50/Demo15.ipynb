{
 "cells": [
  {
   "metadata": {},
   "cell_type": "markdown",
   "source": [
    "给你一个整数数组 nums \n",
    "\n",
    "判断是否存在三元组 [nums[i], nums[j], nums[k]] 满足 i != j、i != k 且 j != k \n",
    "\n",
    "同时还满足 nums[i] + nums[j] + nums[k] == 0 。\n",
    "\n",
    "请你返回所有和为 0 且不重复的三元组。"
   ],
   "id": "8f7a85df6fbadab4"
  },
  {
   "metadata": {},
   "cell_type": "code",
   "outputs": [],
   "execution_count": null,
   "source": [
    "from typing import List\n",
    "\n",
    "\n",
    "class Solution:\n",
    "    def threeSum(self, nums: List[int]) -> List[List[int]]:\n",
    "        result = []\n",
    "        index_set = set()\n",
    "        nums.sort()\n",
    "        for i in range(len(nums)-2):\n",
    "            num1 = nums[i]\n",
    "            first_pointer = i+1\n",
    "            second_pointer = len(nums)-1\n",
    "        "
   ],
   "id": "8017901c7b1daf82"
  }
 ],
 "metadata": {
  "kernelspec": {
   "display_name": "Python 3",
   "language": "python",
   "name": "python3"
  },
  "language_info": {
   "codemirror_mode": {
    "name": "ipython",
    "version": 2
   },
   "file_extension": ".py",
   "mimetype": "text/x-python",
   "name": "python",
   "nbconvert_exporter": "python",
   "pygments_lexer": "ipython2",
   "version": "2.7.6"
  }
 },
 "nbformat": 4,
 "nbformat_minor": 5
}
