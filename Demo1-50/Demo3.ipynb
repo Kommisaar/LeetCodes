{
 "cells": [
  {
   "metadata": {},
   "cell_type": "markdown",
   "source": [
    "给定一个字符串 s ，请你找出其中不含有重复字符的 最长 \n",
    "子串\n",
    " 的长度。"
   ],
   "id": "76ff6f2a30e404fe"
  },
  {
   "metadata": {},
   "cell_type": "code",
   "outputs": [],
   "execution_count": null,
   "source": [
    "class Solution:\n",
    "    def lengthOfLongestSubstring(self, s: str) -> int:\n",
    "        char_dict = {}\n",
    "        max_len = 0\n",
    "        start = 0  # 子字符串的起始位置\n",
    "\n",
    "        for i in range(len(s)):\n",
    "            if s[i] in char_dict and char_dict[s[i]] >= start:\n",
    "                start = char_dict[s[i]] + 1  # 更新起始位置到重复字符的下一个位置\n",
    "            char_dict[s[i]] = i  # 更新字符的最新位置\n",
    "            max_len = max(max_len, i - start + 1)  # 更新最大长度\n",
    "\n",
    "        return max_len\n",
    "\n",
    "    def lengthOfLongestSubstring2(self, s: str) -> int:\n",
    "        n = len(s)\n",
    "        if n < 2: return n\n",
    "        dic = {}  # 存储key元素的最右边idex\n",
    "        begin, max_len = 0, 1\n",
    "        for i, c in enumerate(s):\n",
    "            if c in dic and dic[c] >= begin:  # 当前跟之前重复，先计算之前的最大长度\n",
    "                max_len = max(max_len, i - begin)\n",
    "                begin = dic[c] + 1\n",
    "            dic[c] = i\n",
    "        max_len = max(max_len, n - begin)  # 统计最后不重复子串长度\n",
    "        return max_len\n",
    "        \n",
    "        \n",
    "print(Solution().lengthOfLongestSubstring(\"abcabcbb\"))"
   ],
   "id": "49022ffea6fc78ea"
  }
 ],
 "metadata": {
  "kernelspec": {
   "display_name": "Python 3",
   "language": "python",
   "name": "python3"
  },
  "language_info": {
   "codemirror_mode": {
    "name": "ipython",
    "version": 2
   },
   "file_extension": ".py",
   "mimetype": "text/x-python",
   "name": "python",
   "nbconvert_exporter": "python",
   "pygments_lexer": "ipython2",
   "version": "2.7.6"
  }
 },
 "nbformat": 4,
 "nbformat_minor": 5
}
