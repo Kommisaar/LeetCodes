{
 "cells": [
  {
   "cell_type": "code",
   "id": "initial_id",
   "metadata": {
    "collapsed": true,
    "ExecuteTime": {
     "end_time": "2025-01-05T11:58:47.392680Z",
     "start_time": "2025-01-05T11:58:47.377027Z"
    }
   },
   "source": [
    "from typing import Optional\n",
    "\n",
    "\"\"\"\n",
    "给你一个链表，删除链表的倒数第 n 个结点，并且返回链表的头结点。\n",
    "\n",
    "示例 1：\n",
    "输入：head = [1,2,3,4,5], n = 2\n",
    "输出：[1,2,3,5]\n",
    "\"\"\"\n",
    "\n",
    "\n",
    "class ListNode:\n",
    "    def __init__(self, val=0, next=None):\n",
    "        self.val = val\n",
    "        self.next = next\n",
    "\n",
    "\n",
    "class Solution:\n",
    "    def removeNthFromEnd(self, head: Optional[ListNode], n: int) -> Optional[ListNode]:\n",
    "        if not head or not head.next:\n",
    "            return None\n",
    "\n",
    "        prev = ListNode()\n",
    "        prev.next = head\n",
    "        slow, fast = prev, head\n",
    "\n",
    "        while fast:\n",
    "            fast = fast.next\n",
    "            n -= 1\n",
    "            if n < 0:\n",
    "                slow = slow.next\n",
    "                \n",
    "        slow.next = slow.next.next\n",
    "        \n",
    "        return prev.next\n",
    "\n",
    "\n",
    "node = ListNode(1)\n",
    "node.next = ListNode(2)\n",
    "\n",
    "node = Solution().removeNthFromEnd(node, 1)\n",
    "while node:\n",
    "    print(node.val)\n",
    "    node = node.next"
   ],
   "outputs": [
    {
     "name": "stdout",
     "output_type": "stream",
     "text": [
      "1\n"
     ]
    }
   ],
   "execution_count": 37
  }
 ],
 "metadata": {
  "kernelspec": {
   "display_name": "Python 3",
   "language": "python",
   "name": "python3"
  },
  "language_info": {
   "codemirror_mode": {
    "name": "ipython",
    "version": 2
   },
   "file_extension": ".py",
   "mimetype": "text/x-python",
   "name": "python",
   "nbconvert_exporter": "python",
   "pygments_lexer": "ipython2",
   "version": "2.7.6"
  }
 },
 "nbformat": 4,
 "nbformat_minor": 5
}
