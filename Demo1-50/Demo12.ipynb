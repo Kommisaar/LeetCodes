{
 "cells": [
  {
   "metadata": {},
   "cell_type": "markdown",
   "source": [
    "七个不同的符号代表罗马数字，其值如下：\n",
    "\n",
    "符号\t值\n",
    "\n",
    "I\t1\n",
    "\n",
    "V\t5\n",
    "\n",
    "X\t10\n",
    "\n",
    "L\t50\n",
    "\n",
    "C\t100\n",
    "\n",
    "D\t500\n",
    "\n",
    "M\t1000\n",
    "\n",
    "罗马数字是通过添加从最高到最低的小数位值的转换而形成的。将小数位值转换为罗马数字有以下规则：\n",
    "\n",
    "如果该值不是以 4 或 9 开头，请选择可以从输入中减去的最大值的符号，将该符号附加到结果，减去其值，然后将其余部分转换为罗马数字。\n",
    "\n",
    "如果该值以 4 或 9 开头，使用 减法形式，表示从以下符号中减去一个符号，例如 4 是 5 (V) 减 1 (I): IV ，9 是 10 (X) 减 1 (I)：IX。仅使用以下减法形式：4 (IV)，9 (IX)，40 (XL)，90 (XC)，400 (CD) 和 900 (CM)。\n",
    "\n",
    "只有 10 的次方（I, X, C, M）最多可以连续附加 3 次以代表 10 的倍数。你不能多次附加 5 (V)，50 (L) 或 500 (D)。如果需要将符号附加4次，请使用 减法形式。\n",
    "\n",
    "给定一个整数，将其转换为罗马数字。"
   ],
   "id": "38f1c16192b9118c"
  },
  {
   "metadata": {
    "ExecuteTime": {
     "end_time": "2024-12-26T06:04:36.381561Z",
     "start_time": "2024-12-26T06:04:36.369152Z"
    }
   },
   "cell_type": "code",
   "source": [
    "class Solution:\n",
    "    def intToRoman(self, num: int) -> str:\n",
    "        result = []\n",
    "        while num > 0:\n",
    "            if num >= 1000:\n",
    "                num -= 1000\n",
    "                result.append(\"M\")\n",
    "            elif num >= 900:\n",
    "                num -= 900\n",
    "                result.append(\"CM\")\n",
    "            elif num >= 500:\n",
    "                num -= 500\n",
    "                digit = num // 100\n",
    "                result.append(\"D\")\n",
    "            elif num >= 400:\n",
    "                num -= 400\n",
    "                result.append(\"CD\")\n",
    "            elif num >= 100:\n",
    "                num -= 100\n",
    "                result.append(\"C\")\n",
    "            elif num >= 90:\n",
    "                num -= 90\n",
    "                result.append(\"XC\")\n",
    "            elif num >= 50:\n",
    "                num -= 50\n",
    "                result.append(\"L\")\n",
    "            elif num >= 40:\n",
    "                num -= 40\n",
    "                result.append(\"XL\")\n",
    "            elif num >= 10:\n",
    "                num -= 10\n",
    "                result.append(\"X\")\n",
    "            elif num >= 9:\n",
    "                num -= 9\n",
    "                result.append(\"IX\")\n",
    "            elif num >= 5:\n",
    "                num -= 5\n",
    "                result.append(\"V\")\n",
    "            elif num >= 4:\n",
    "                num -= 4\n",
    "                result.append(\"IV\")\n",
    "            elif num >= 1:\n",
    "                num -= 1\n",
    "                result.append(\"I\")\n",
    "                \n",
    "                \n",
    "        return ''.join(result)\n",
    "\n",
    "    def intToRoman2(self, num: int) -> str:\n",
    "\n",
    "print(Solution().intToRoman(58))"
   ],
   "id": "3e74c988c14964ee",
   "outputs": [
    {
     "name": "stdout",
     "output_type": "stream",
     "text": [
      "LVIII\n"
     ]
    }
   ],
   "execution_count": 5
  }
 ],
 "metadata": {
  "kernelspec": {
   "display_name": "Python 3",
   "language": "python",
   "name": "python3"
  },
  "language_info": {
   "codemirror_mode": {
    "name": "ipython",
    "version": 2
   },
   "file_extension": ".py",
   "mimetype": "text/x-python",
   "name": "python",
   "nbconvert_exporter": "python",
   "pygments_lexer": "ipython2",
   "version": "2.7.6"
  }
 },
 "nbformat": 4,
 "nbformat_minor": 5
}
