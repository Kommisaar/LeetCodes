{
 "cells": [
  {
   "cell_type": "code",
   "id": "initial_id",
   "metadata": {
    "collapsed": true,
    "ExecuteTime": {
     "end_time": "2025-01-04T03:01:15.376454Z",
     "start_time": "2025-01-04T03:01:15.369662Z"
    }
   },
   "source": [
    "\"\"\"\n",
    "我们定义，在以下情况时，单词的大写用法是正确的：\n",
    "全部字母都是大写，比如 \"USA\" 。\n",
    "单词中所有字母都不是大写，比如 \"leetcode\" 。\n",
    "如果单词不只含有一个字母，只有首字母大写， 比如 \"Google\" 。\n",
    "给你一个字符串 word 。如果大写用法正确，返回 true ；否则，返回 false 。\n",
    "\n",
    "示例 1：\n",
    "输入：word = \"USA\"\n",
    "输出：true\n",
    "\n",
    "示例 2：\n",
    "输入：word = \"FlaG\"\n",
    "输出：false\n",
    "\"\"\"\n",
    "\n",
    "\n",
    "class Solution:\n",
    "    def detectCapitalUse(self, word: str) -> bool:\n",
    "        if len(word) == 1:\n",
    "            return True\n",
    "        first_char = word[0]\n",
    "        if first_char.isupper():\n",
    "            return (word[1:] == word[1:].lower()) or (word[1:] == word[1:].upper())\n",
    "        else:\n",
    "            return word[1:] == word[1:].lower()\n",
    "\n",
    "\n",
    "print(Solution.detectCapitalUse(Solution(), 'GooglE'))"
   ],
   "outputs": [
    {
     "name": "stdout",
     "output_type": "stream",
     "text": [
      "False\n"
     ]
    }
   ],
   "execution_count": 10
  }
 ],
 "metadata": {
  "kernelspec": {
   "display_name": "Python 3",
   "language": "python",
   "name": "python3"
  },
  "language_info": {
   "codemirror_mode": {
    "name": "ipython",
    "version": 2
   },
   "file_extension": ".py",
   "mimetype": "text/x-python",
   "name": "python",
   "nbconvert_exporter": "python",
   "pygments_lexer": "ipython2",
   "version": "2.7.6"
  }
 },
 "nbformat": 4,
 "nbformat_minor": 5
}
