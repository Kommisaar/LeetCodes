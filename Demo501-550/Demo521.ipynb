{
 "cells": [
  {
   "cell_type": "code",
   "execution_count": null,
   "id": "initial_id",
   "metadata": {
    "collapsed": true
   },
   "outputs": [],
   "source": [
    "\"\"\"\n",
    "给你两个字符串 a 和 b，请返回 这两个字符串中 最长的特殊序列  的长度。如果不存在，则返回 -1 。\n",
    "「最长特殊序列」 定义如下：该序列为 某字符串独有的最长\n",
    "子序列（即不能是其他字符串的子序列） 。\n",
    "字符串 s 的子序列是在从 s 中删除任意数量的字符后可以获得的字符串。\n",
    "例如，\"abc\" 是 \"aebdc\" 的子序列，因为删除 \"aebdc\" 中斜体加粗的字符可以得到 \"abc\" 。 \"aebdc\" 的子序列还包括 \"aebdc\" 、 \"aeb\" 和 \"\" (空字符串)。\n",
    "\n",
    "示例 1：\n",
    "输入: a = \"aba\", b = \"cdc\"\n",
    "输出: 3\n",
    "解释: 最长特殊序列可为 \"aba\" (或 \"cdc\")，两者均为自身的子序列且不是对方的子序列。\n",
    "\n",
    "示例 2：\n",
    "输入：a = \"aaa\", b = \"bbb\"\n",
    "输出：3\n",
    "解释: 最长特殊序列是 \"aaa\" 和 \"bbb\" 。\n",
    "\n",
    "示例 3：\n",
    "输入：a = \"aaa\", b = \"aaa\"\n",
    "输出：-1\n",
    "解释: 字符串 a 的每个子序列也是字符串 b 的每个子序列。同样，字符串 b 的每个子序列也是字符串 a 的子序列。\n",
    "\"\"\"\n",
    "\n",
    "\n",
    "class Solution:\n",
    "    def findLUSlength(self, a: str, b: str) -> int:\n",
    "        \"\"\"\n",
    "        如果两个字符串不相同：\n",
    "        那么较长的字符串本身就是最长特殊序列，因为它不可能是较短字符串的子序列。\n",
    "        例如，a = \"abc\"，b = \"abcd\"，b 是较长的字符串，且 b 不是 a 的子序列，因此最长特殊序列的长度为 b 的长度，即 4。\n",
    "        如果两个字符串相同：\n",
    "        那么它们没有特殊序列，因为它们的子序列完全相同，返回 -1。\n",
    "        例如，a = \"abc\"，b = \"abc\"，它们没有特殊序列，返回 -1。\n",
    "        :param a: \n",
    "        :param b: \n",
    "        :return: Bool\n",
    "        \"\"\"\n",
    "        return -1 if a == b else max(len(a), len(b))\n",
    "                "
   ]
  }
 ],
 "metadata": {
  "kernelspec": {
   "display_name": "Python 3",
   "language": "python",
   "name": "python3"
  },
  "language_info": {
   "codemirror_mode": {
    "name": "ipython",
    "version": 2
   },
   "file_extension": ".py",
   "mimetype": "text/x-python",
   "name": "python",
   "nbconvert_exporter": "python",
   "pygments_lexer": "ipython2",
   "version": "2.7.6"
  }
 },
 "nbformat": 4,
 "nbformat_minor": 5
}
