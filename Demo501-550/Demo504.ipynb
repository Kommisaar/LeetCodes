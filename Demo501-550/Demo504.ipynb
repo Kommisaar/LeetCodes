{
 "cells": [
  {
   "cell_type": "code",
   "id": "initial_id",
   "metadata": {
    "collapsed": true,
    "ExecuteTime": {
     "end_time": "2025-01-03T09:51:48.535237Z",
     "start_time": "2025-01-03T09:51:48.526012Z"
    }
   },
   "source": [
    "\"\"\"\n",
    "给定一个整数 num，将其转化为 7 进制，并以字符串形式输出。\n",
    "\n",
    "示例 1:\n",
    "输入: num = 100\n",
    "输出: \"202\"\n",
    "\n",
    "示例 2:\n",
    "输入: num = -7\n",
    "输出: \"-10\"\n",
    "\"\"\"\n",
    "\n",
    "\n",
    "class Solution:\n",
    "    def convertToBase7(self, num: int) -> str:\n",
    "        if not num:\n",
    "            return '0'\n",
    "        res = []\n",
    "        non_negative = num >= 0\n",
    "        num = abs(num)\n",
    "        while num != 0:\n",
    "            digit = num % 7\n",
    "            num //= 7\n",
    "            res.append(str(digit))\n",
    "        res = ''.join(reversed(res))\n",
    "        return res if non_negative else '-' + res\n",
    "\n",
    "\n",
    "print(Solution.convertToBase7(Solution(), 0))"
   ],
   "outputs": [
    {
     "name": "stdout",
     "output_type": "stream",
     "text": [
      "\n"
     ]
    }
   ],
   "execution_count": 30
  }
 ],
 "metadata": {
  "kernelspec": {
   "display_name": "Python 3",
   "language": "python",
   "name": "python3"
  },
  "language_info": {
   "codemirror_mode": {
    "name": "ipython",
    "version": 2
   },
   "file_extension": ".py",
   "mimetype": "text/x-python",
   "name": "python",
   "nbconvert_exporter": "python",
   "pygments_lexer": "ipython2",
   "version": "2.7.6"
  }
 },
 "nbformat": 4,
 "nbformat_minor": 5
}
