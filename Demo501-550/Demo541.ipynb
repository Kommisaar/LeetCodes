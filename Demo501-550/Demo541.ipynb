{
 "cells": [
  {
   "cell_type": "code",
   "id": "initial_id",
   "metadata": {
    "collapsed": true,
    "ExecuteTime": {
     "end_time": "2025-01-06T09:09:50.045750Z",
     "start_time": "2025-01-06T09:09:50.030976Z"
    }
   },
   "source": [
    "\"\"\"\n",
    "给定一个字符串 s 和一个整数 k，从字符串开头算起，每计数至 2k 个字符，就反转这 2k 字符中的前 k 个字符。\n",
    "如果剩余字符少于 k 个，则将剩余字符全部反转。\n",
    "如果剩余字符小于 2k 但大于或等于 k 个，则反转前 k 个字符，其余字符保持原样。\n",
    " \n",
    "\n",
    "示例 1：\n",
    "输入：s = \"abcdefg\", k = 2\n",
    "输出：\"bacdfeg\"\n",
    "\n",
    "示例 2：\n",
    "输入：s = \"abcd\", k = 2\n",
    "输出：\"bacd\"\n",
    " \n",
    "提示：\n",
    "1 <= s.length <= 104\n",
    "s 仅由小写英文组成\n",
    "1 <= k <= 104\n",
    "\"\"\"\n",
    "\n",
    "\n",
    "class Solution:\n",
    "    def reverseStr(self, s: str, k: int) -> str:\n",
    "        for i in range(0, len(s) - 1, 2 * k):\n",
    "            s = s[0:i] + s[i:k + i][::-1] + s[i + k:]\n",
    "        return s\n",
    "\n",
    "\n",
    "sol = Solution()\n",
    "print(sol.reverseStr(\"abcd\", 2))\n"
   ],
   "outputs": [
    {
     "name": "stdout",
     "output_type": "stream",
     "text": [
      "bacd\n"
     ]
    }
   ],
   "execution_count": 29
  }
 ],
 "metadata": {
  "kernelspec": {
   "display_name": "Python 3",
   "language": "python",
   "name": "python3"
  },
  "language_info": {
   "codemirror_mode": {
    "name": "ipython",
    "version": 2
   },
   "file_extension": ".py",
   "mimetype": "text/x-python",
   "name": "python",
   "nbconvert_exporter": "python",
   "pygments_lexer": "ipython2",
   "version": "2.7.6"
  }
 },
 "nbformat": 4,
 "nbformat_minor": 5
}
