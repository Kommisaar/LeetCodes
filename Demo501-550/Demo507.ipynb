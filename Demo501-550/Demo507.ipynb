{
 "cells": [
  {
   "cell_type": "code",
   "id": "initial_id",
   "metadata": {
    "collapsed": true,
    "ExecuteTime": {
     "end_time": "2025-01-03T12:19:21.150301Z",
     "start_time": "2025-01-03T12:19:21.144770Z"
    }
   },
   "source": [
    "\"\"\"\n",
    "对于一个 正整数，如果它和除了它自身以外的所有 正因子 之和相等，我们称它为 「完美数」。\n",
    "给定一个 整数 n， 如果是完美数，返回 true；否则返回 false。\n",
    "\n",
    "示例 1：\n",
    "输入：num = 28\n",
    "输出：true\n",
    "解释：28 = 1 + 2 + 4 + 7 + 14\n",
    "1, 2, 4, 7, 和 14 是 28 的所有正因子。\n",
    "\n",
    "示例 2：\n",
    "输入：num = 7\n",
    "输出：false\n",
    "\"\"\"\n",
    "\n",
    "\n",
    "class Solution:\n",
    "    def checkPerfectNumber(self, num: int) -> bool:\n",
    "        if num < 2:\n",
    "            return False  # 1 和负数不是完全数\n",
    "    \n",
    "        factors = {1}  # 使用集合存储因子，避免重复\n",
    "        num1 = int(num ** 0.5)\n",
    "    \n",
    "        for i in range(2, num1 + 1):\n",
    "            if num % i == 0:\n",
    "                factors.add(i)\n",
    "                factors.add(num // i)\n",
    "    \n",
    "        return sum(factors) == num\n",
    "\n",
    "\n",
    "print(Solution.checkPerfectNumber(Solution(), 1))\n",
    "            "
   ],
   "outputs": [
    {
     "name": "stdout",
     "output_type": "stream",
     "text": [
      "False\n"
     ]
    }
   ],
   "execution_count": 10
  }
 ],
 "metadata": {
  "kernelspec": {
   "display_name": "Python 3",
   "language": "python",
   "name": "python3"
  },
  "language_info": {
   "codemirror_mode": {
    "name": "ipython",
    "version": 2
   },
   "file_extension": ".py",
   "mimetype": "text/x-python",
   "name": "python",
   "nbconvert_exporter": "python",
   "pygments_lexer": "ipython2",
   "version": "2.7.6"
  }
 },
 "nbformat": 4,
 "nbformat_minor": 5
}
