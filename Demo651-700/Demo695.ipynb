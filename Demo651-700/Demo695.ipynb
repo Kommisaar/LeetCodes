{
 "cells": [
  {
   "cell_type": "code",
   "execution_count": null,
   "id": "initial_id",
   "metadata": {
    "collapsed": true
   },
   "outputs": [],
   "source": [
    "from collections import deque\n",
    "from typing import List\n",
    "\n",
    "\"\"\"\n",
    "给你一个大小为 m x n 的二进制矩阵 grid 。\n",
    "岛屿 是由一些相邻的 1 (代表土地) 构成的组合，这里的「相邻」要求两个 1 必须在 水平或者竖直的四个方向上 相邻。你可以假设 grid 的四个边缘都被 0（代表水）包围着。\n",
    "岛屿的面积是岛上值为 1 的单元格的数目。\n",
    "计算并返回 grid 中最大的岛屿面积。如果没有岛屿，则返回面积为 0 。\n",
    "\n",
    "示例 1：\n",
    "输入：grid = [[0,0,1,0,0,0,0,1,0,0,0,0,0],[0,0,0,0,0,0,0,1,1,1,0,0,0],[0,1,1,0,1,0,0,0,0,0,0,0,0],[0,1,0,0,1,1,0,0,1,0,1,0,0],[0,1,0,0,1,1,0,0,1,1,1,0,0],[0,0,0,0,0,0,0,0,0,0,1,0,0],[0,0,0,0,0,0,0,1,1,1,0,0,0],[0,0,0,0,0,0,0,1,1,0,0,0,0]]\n",
    "输出：6\n",
    "解释：答案不应该是 11 ，因为岛屿只能包含水平或垂直这四个方向上的 1 。\n",
    "\n",
    "示例 2：\n",
    "输入：grid = [[0,0,0,0,0,0,0,0]]\n",
    "输出：0\n",
    " \n",
    "\n",
    "提示：\n",
    "m == grid.length\n",
    "n == grid[i].length\n",
    "1 <= m, n <= 50\n",
    "grid[i][j] 为 0 或 1\n",
    "\"\"\"\n",
    "\n",
    "\n",
    "class Solution:\n",
    "    def maxAreaOfIsland(self, grid: List[List[int]]) -> int:\n",
    "        neighbor = [(-1, 0), (0, -1), (1, 0), (0, 1)]\n",
    "        max_area, m, n = 0, len(grid), len(grid[0])\n",
    "        visited = [False] * m * n\n",
    "        visit_queue = deque([])\n",
    "        for r in range(m):\n",
    "            for c in range(n):\n",
    "                if grid[r][c] == 1 and not visited[r * n + c]:\n",
    "                    visited[r * n + c] = True\n",
    "                    visit_queue.append((r,c))\n",
    "                    area = 1\n",
    "                    while visit_queue:\n",
    "                        row, col = visit_queue.popleft()\n",
    "                        for dx, dy in neighbor:\n",
    "                            new_row, new_col = row + dx, col + dy\n",
    "                            if 0 <= new_row < m and 0 <= new_col < n and grid[new_row][new_col] == 1 and not visited[new_row * n + new_col]:\n",
    "                                visited[new_row * n + new_col] = True\n",
    "                                visit_queue.append((new_row,new_col))\n",
    "                                area += 1\n",
    "                    max_area = max(area, max_area)\n",
    "        \n",
    "        return max_area"
   ]
  }
 ],
 "metadata": {
  "kernelspec": {
   "display_name": "Python 3",
   "language": "python",
   "name": "python3"
  },
  "language_info": {
   "codemirror_mode": {
    "name": "ipython",
    "version": 2
   },
   "file_extension": ".py",
   "mimetype": "text/x-python",
   "name": "python",
   "nbconvert_exporter": "python",
   "pygments_lexer": "ipython2",
   "version": "2.7.6"
  }
 },
 "nbformat": 4,
 "nbformat_minor": 5
}
