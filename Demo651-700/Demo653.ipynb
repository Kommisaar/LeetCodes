{
 "cells": [
  {
   "cell_type": "code",
   "id": "initial_id",
   "metadata": {
    "collapsed": true,
    "ExecuteTime": {
     "end_time": "2025-01-07T16:52:15.981761Z",
     "start_time": "2025-01-07T16:52:15.957589Z"
    }
   },
   "source": [
    "from collections import deque\n",
    "from typing import Optional\n",
    "\n",
    "\"\"\"\n",
    "给定一个二叉搜索树 root 和一个目标结果 k，如果二叉搜索树中存在两个元素且它们的和等于给定的目标结果，则返回 true。\n",
    "\n",
    "示例 1：\n",
    "输入: root = [5,3,6,2,4,null,7], k = 9\n",
    "输出: true\n",
    "\n",
    "示例 2：\n",
    "输入: root = [5,3,6,2,4,null,7], k = 28\n",
    "输出: false\n",
    "\"\"\"\n",
    "\n",
    "\n",
    "class TreeNode:\n",
    "    def __init__(self, val=0, left=None, right=None):\n",
    "        self.val = val\n",
    "        self.left = left\n",
    "        self.right = right\n",
    "\n",
    "\n",
    "class Solution:\n",
    "    def findTarget(self, root: Optional[TreeNode], k: int) -> bool:\n",
    "        queue = deque([root])\n",
    "        vals = set()\n",
    "        vals_dup = set()\n",
    "\n",
    "        while queue:\n",
    "            node = queue.popleft()\n",
    "            if node.val not in vals:\n",
    "                vals.add(node.val)\n",
    "            else:\n",
    "                vals_dup.add(node.val)\n",
    "                \n",
    "            if node.left:\n",
    "                queue.append(node.left)\n",
    "            if node.right:\n",
    "                queue.append(node.right)\n",
    "\n",
    "        for val in vals:\n",
    "            sub = k-val\n",
    "            if val == sub and val in vals_dup:\n",
    "                return True\n",
    "            elif val!= sub and sub in vals:\n",
    "                    return True\n",
    "        \n",
    "        return False\n",
    "\n",
    "    def findTarget2(self, root: Optional[TreeNode], k: int) -> bool:\n",
    "        vals = set()  # 用于存储所有节点的值\n",
    "        queue = deque([root])  # BFS 队列\n",
    "    \n",
    "        while queue:\n",
    "            node = queue.popleft()\n",
    "            # 检查是否存在 k - node.val\n",
    "            if k - node.val in vals:\n",
    "                return True\n",
    "            # 将当前节点的值加入集合\n",
    "            vals.add(node.val)\n",
    "            # 将左右子节点加入队列\n",
    "            if node.left:\n",
    "                queue.append(node.left)\n",
    "            if node.right:\n",
    "                queue.append(node.right)\n",
    "    \n",
    "        return False\n",
    "    \n",
    "    def findTarget3(self, root: Optional[TreeNode], k: int) -> bool:\n",
    "        def inorder(root):\n",
    "            if not root:\n",
    "                return []\n",
    "            return inorder(root.left) + [root.val] + inorder(root.right)\n",
    "        \n",
    "        nums = inorder(root)\n",
    "        left, right = 0, len(nums) - 1\n",
    "        while left < right:\n",
    "            if nums[left] + nums[right] == k:\n",
    "                return True\n",
    "            elif nums[left] + nums[right] < k:\n",
    "                left += 1\n",
    "            else:\n",
    "                right -= 1\n",
    "        return False"
   ],
   "outputs": [
    {
     "ename": "IndentationError",
     "evalue": "expected an indented block (551747884.py, line 27)",
     "output_type": "error",
     "traceback": [
      "\u001B[1;36m  Cell \u001B[1;32mIn[1], line 27\u001B[1;36m\u001B[0m\n\u001B[1;33m    \u001B[0m\n\u001B[1;37m    ^\u001B[0m\n\u001B[1;31mIndentationError\u001B[0m\u001B[1;31m:\u001B[0m expected an indented block\n"
     ]
    }
   ],
   "execution_count": 1
  }
 ],
 "metadata": {
  "kernelspec": {
   "display_name": "Python 3",
   "language": "python",
   "name": "python3"
  },
  "language_info": {
   "codemirror_mode": {
    "name": "ipython",
    "version": 2
   },
   "file_extension": ".py",
   "mimetype": "text/x-python",
   "name": "python",
   "nbconvert_exporter": "python",
   "pygments_lexer": "ipython2",
   "version": "2.7.6"
  }
 },
 "nbformat": 4,
 "nbformat_minor": 5
}
