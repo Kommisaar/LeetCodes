{
 "cells": [
  {
   "cell_type": "code",
   "id": "initial_id",
   "metadata": {
    "collapsed": true,
    "ExecuteTime": {
     "end_time": "2025-01-08T06:02:06.082274Z",
     "start_time": "2025-01-08T06:02:06.071243Z"
    }
   },
   "source": [
    "from typing import List\n",
    "\n",
    "\"\"\"\n",
    "给定一个未经排序的整数数组，找到最长且 连续递增的子序列，并返回该序列的长度。\n",
    "连续递增的子序列 可以由两个下标 l 和 r（l < r）确定，如果对于每个 l <= i < r，都有 nums[i] < nums[i + 1] ，那么子序列 [nums[l], nums[l + 1], ..., nums[r - 1], nums[r]] 就是连续递增子序列。\n",
    "\n",
    "示例 1：\n",
    "输入：nums = [1,3,5,4,7]\n",
    "输出：3\n",
    "解释：最长连续递增序列是 [1,3,5], 长度为3。\n",
    "尽管 [1,3,5,7] 也是升序的子序列, 但它不是连续的，因为 5 和 7 在原数组里被 4 隔开。 \n",
    "示例 2：\n",
    "\n",
    "输入：nums = [2,2,2,2,2]\n",
    "输出：1\n",
    "解释：最长连续递增序列是 [2], 长度为1。\n",
    " \n",
    "提示：\n",
    "1 <= nums.length <= 104\n",
    "-109 <= nums[i] <= 109\n",
    "\"\"\"\n",
    "\n",
    "\n",
    "class Solution:\n",
    "    def findLengthOfLCIS(self, nums: List[int]) -> int:\n",
    "        if len(nums) == 1:\n",
    "            return 1\n",
    "        max_len = 1\n",
    "        cur_len = 1\n",
    "        for i in range(1, len(nums)):\n",
    "            if nums[i] > nums[i - 1]:\n",
    "                cur_len += 1\n",
    "                max_len = max(max_len, cur_len)\n",
    "            else:\n",
    "                cur_len = 1\n",
    "        return max_len         \n",
    "        \n",
    "arr = [2,2,2]\n",
    "print(Solution().findLengthOfLCIS(arr))"
   ],
   "outputs": [
    {
     "name": "stdout",
     "output_type": "stream",
     "text": [
      "1\n"
     ]
    }
   ],
   "execution_count": 2
  }
 ],
 "metadata": {
  "kernelspec": {
   "display_name": "Python 3",
   "language": "python",
   "name": "python3"
  },
  "language_info": {
   "codemirror_mode": {
    "name": "ipython",
    "version": 2
   },
   "file_extension": ".py",
   "mimetype": "text/x-python",
   "name": "python",
   "nbconvert_exporter": "python",
   "pygments_lexer": "ipython2",
   "version": "2.7.6"
  }
 },
 "nbformat": 4,
 "nbformat_minor": 5
}
