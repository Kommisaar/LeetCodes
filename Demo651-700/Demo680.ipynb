{
 "cells": [
  {
   "cell_type": "code",
   "id": "initial_id",
   "metadata": {
    "collapsed": true,
    "ExecuteTime": {
     "end_time": "2025-01-08T06:30:32.208258Z",
     "start_time": "2025-01-08T06:30:32.197168Z"
    }
   },
   "source": [
    "\"\"\"\n",
    "给你一个字符串 s，最多 可以从中删除一个字符。\n",
    "请你判断 s 是否能成为回文字符串：如果能，返回 true ；否则，返回 false 。\n",
    "\n",
    "示例 1：\n",
    "\n",
    "输入：s = \"aba\"\n",
    "输出：true\n",
    "示例 2：\n",
    "\n",
    "输入：s = \"abca\"\n",
    "输出：true\n",
    "解释：你可以删除字符 'c' 。\n",
    "示例 3：\n",
    "\n",
    "输入：s = \"abc\"\n",
    "输出：false\n",
    " \n",
    "\n",
    "提示：\n",
    "\n",
    "1 <= s.length <= 105\n",
    "s 由小写英文字母组成\n",
    "\"\"\"\n",
    "\n",
    "\n",
    "class Solution:\n",
    "    def validPalindrome(self, s: str) -> bool:\n",
    "        \n",
    "        n = len(s)\n",
    "        left, right = 0, n - 1\n",
    "        skip = 1\n",
    "        while left < right:\n",
    "            if s[left] != s[right]:\n",
    "                if skip:\n",
    "                    # 没有考虑或跳过左边或者跳过右边都能相同，但是其中一边不是回文，一边是回文\n",
    "                    if s[left + 1] == s[right]:\n",
    "                        left += 1\n",
    "                    elif s[left] == s[right - 1]:\n",
    "                        right -= 1\n",
    "                    else:\n",
    "                        return False\n",
    "                    skip -= 1\n",
    "                else:\n",
    "                    return False\n",
    "            left += 1\n",
    "            right -= 1\n",
    "\n",
    "        return True\n",
    "\n",
    "    def validPalindrome2(self, s: str) -> bool:\n",
    "        def is_palindrome(s, left, right):\n",
    "            # 辅助函数，检查 s[left:right+1] 是否是回文\n",
    "            while left < right:\n",
    "                if s[left] != s[right]:\n",
    "                    return False\n",
    "                left += 1\n",
    "                right -= 1\n",
    "            return True\n",
    "\n",
    "        left, right = 0, len(s) - 1\n",
    "        while left < right:\n",
    "            if s[left] != s[right]:\n",
    "                # 尝试跳过左边或右边的一个字符，但不能同时跳过\n",
    "                # 检查跳过左边或跳过右边后的子串是否是回文\n",
    "                return is_palindrome(s, left + 1, right) or is_palindrome(s, left, right - 1)\n",
    "            left += 1\n",
    "            right -= 1\n",
    "        return True\n",
    "\n",
    "\n",
    "s = 'aguokepatgbnvfqmgmlcupuufxoohdfpgjdmysgvhmvffcnqxjjxqncffvmhvgsymdjgpfdhooxfuupuculmgmqfvnbgtapekouga'\n",
    "\n",
    "print(Solution().validPalindrome(s))\n",
    "\n"
   ],
   "outputs": [
    {
     "name": "stdout",
     "output_type": "stream",
     "text": [
      "False\n"
     ]
    }
   ],
   "execution_count": 17
  },
  {
   "metadata": {},
   "cell_type": "code",
   "outputs": [],
   "execution_count": null,
   "source": "",
   "id": "4634c3b404fb9b8e"
  }
 ],
 "metadata": {
  "kernelspec": {
   "display_name": "Python 3",
   "language": "python",
   "name": "python3"
  },
  "language_info": {
   "codemirror_mode": {
    "name": "ipython",
    "version": 2
   },
   "file_extension": ".py",
   "mimetype": "text/x-python",
   "name": "python",
   "nbconvert_exporter": "python",
   "pygments_lexer": "ipython2",
   "version": "2.7.6"
  }
 },
 "nbformat": 4,
 "nbformat_minor": 5
}
