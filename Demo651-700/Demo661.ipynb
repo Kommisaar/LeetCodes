{
 "cells": [
  {
   "cell_type": "code",
   "execution_count": null,
   "id": "initial_id",
   "metadata": {
    "collapsed": true
   },
   "outputs": [],
   "source": [
    "from typing import List\n",
    "\n",
    "\"\"\"\n",
    "图像平滑器 是大小为 3 x 3 的过滤器，用于对图像的每个单元格平滑处理，平滑处理后单元格的值为该单元格的平均灰度。\n",
    "每个单元格的  平均灰度 定义为：该单元格自身及其周围的 8 个单元格的平均值，结果需向下取整。（即，需要计算蓝色平滑器中 9 个单元格的平均值）。\n",
    "如果一个单元格周围存在单元格缺失的情况，则计算平均灰度时不考虑缺失的单元格（即，需要计算红色平滑器中 4 个单元格的平均值）。\n",
    "给你一个表示图像灰度的 m x n 整数矩阵 img ，返回对图像的每个单元格平滑处理后的图像 。\n",
    "\n",
    "示例 1:\n",
    "输入:img = [[1,1,1],[1,0,1],[1,1,1]]\n",
    "输出:[[0, 0, 0],[0, 0, 0], [0, 0, 0]]\n",
    "解释:\n",
    "对于点 (0,0), (0,2), (2,0), (2,2): 平均(3/4) = 平均(0.75) = 0\n",
    "对于点 (0,1), (1,0), (1,2), (2,1): 平均(5/6) = 平均(0.83333333) = 0\n",
    "对于点 (1,1): 平均(8/9) = 平均(0.88888889) = 0\n",
    "\n",
    "示例 2:\n",
    "输入: img = [[100,200,100],[200,50,200],[100,200,100]]\n",
    "输出: [[137,141,137],[141,138,141],[137,141,137]]\n",
    "解释:\n",
    "对于点 (0,0), (0,2), (2,0), (2,2): floor((100+200+200+50)/4) = floor(137.5) = 137\n",
    "对于点 (0,1), (1,0), (1,2), (2,1): floor((200+200+50+200+100+100)/6) = floor(141.666667) = 141\n",
    "对于点 (1,1): floor((50+200+200+200+200+100+100+100+100)/9) = floor(138.888889) = 138\n",
    " \n",
    "提示:\n",
    "m == img.length\n",
    "n == img[i].length\n",
    "1 <= m, n <= 200\n",
    "0 <= img[i][j] <= 255\n",
    "\"\"\"\n",
    "\n",
    "\n",
    "class Solution:\n",
    "    def imageSmoother(self, img: List[List[int]]) -> List[List[int]]:\n",
    "        neighbors = [(-1, -1), (-1, 0), (-1, 1), (0, -1), (0, 1), (1, -1), (1, 0), (1, 1)]\n",
    "        m, n = len(img), len(img[0])\n",
    "        new_img = [[0] * n for _ in range(m)]\n",
    "        for i in range(m):\n",
    "            for j in range(n):\n",
    "                cnt = 1\n",
    "                total = img[i][j]\n",
    "                for neighbor in neighbors:\n",
    "                    if 0 <= i+neighbor[0] < m and 0 <= j+neighbor[1] < n:\n",
    "                        cnt += 1\n",
    "                        total += img[i+neighbor[0]][j+neighbor[1]]\n",
    "                new_img[i][j] = total//cnt\n",
    "                \n",
    "        return new_img"
   ]
  }
 ],
 "metadata": {
  "kernelspec": {
   "display_name": "Python 3",
   "language": "python",
   "name": "python3"
  },
  "language_info": {
   "codemirror_mode": {
    "name": "ipython",
    "version": 2
   },
   "file_extension": ".py",
   "mimetype": "text/x-python",
   "name": "python",
   "nbconvert_exporter": "python",
   "pygments_lexer": "ipython2",
   "version": "2.7.6"
  }
 },
 "nbformat": 4,
 "nbformat_minor": 5
}
