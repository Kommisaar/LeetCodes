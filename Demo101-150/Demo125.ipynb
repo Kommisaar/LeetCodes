{
 "cells": [
  {
   "cell_type": "code",
   "id": "initial_id",
   "metadata": {
    "collapsed": true,
    "ExecuteTime": {
     "end_time": "2024-12-19T14:44:06.701660Z",
     "start_time": "2024-12-19T14:44:06.682714Z"
    }
   },
   "source": [
    "# 如果在将所有大写字符转换为小写字符、并移除所有非字母数字字符之后，短语正着读和反着读都一样。则可以认为该短语是一个 回文串 。\n",
    "# \n",
    "# 字母和数字都属于字母数字字符。\n",
    "# \n",
    "# 给你一个字符串 s，如果它是 回文串 ，返回 true ；否则，返回 false 。\n",
    "class Solution:\n",
    "    def isPalindrome(self, s: str) -> bool:\n",
    "        # s = s.lower()\n",
    "        # s_list = list(s)\n",
    "        # for char in range(len(s)):\n",
    "        #     if not s_list[char].isalnum():\n",
    "        #         s_list[char] = ' '\n",
    "        # s_list = [i for i in s_list if i.isalnum()] \n",
    "        # \n",
    "        # return s_list == s_list[::-1]\n",
    "        s = [char.lower() for char in s if char.isalnum()]\n",
    "        return s == s[::-1]\n",
    "            \n",
    "        \n",
    "\n",
    "solution = Solution()\n",
    "print(solution.isPalindrome(\"A man, a plan, a canal: Panama\"))"
   ],
   "outputs": [
    {
     "name": "stdout",
     "output_type": "stream",
     "text": [
      "True\n"
     ]
    }
   ],
   "execution_count": 11
  }
 ],
 "metadata": {
  "kernelspec": {
   "display_name": "Python 3",
   "language": "python",
   "name": "python3"
  },
  "language_info": {
   "codemirror_mode": {
    "name": "ipython",
    "version": 2
   },
   "file_extension": ".py",
   "mimetype": "text/x-python",
   "name": "python",
   "nbconvert_exporter": "python",
   "pygments_lexer": "ipython2",
   "version": "2.7.6"
  }
 },
 "nbformat": 4,
 "nbformat_minor": 5
}
