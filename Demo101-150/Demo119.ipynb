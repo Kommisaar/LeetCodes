{
 "cells": [
  {
   "cell_type": "code",
   "id": "initial_id",
   "metadata": {
    "collapsed": true,
    "ExecuteTime": {
     "end_time": "2024-12-18T15:02:09.561211Z",
     "start_time": "2024-12-18T15:02:09.539674Z"
    }
   },
   "source": [
    "from typing import List\n",
    "\n",
    "\n",
    "# 给定一个非负索引 rowIndex，返回「杨辉三角」的第 rowIndex 行。\n",
    "class Solution:\n",
    "    def getRow(self, rowIndex: int) -> List[int]:\n",
    "        numRows = rowIndex + 1\n",
    "        result = [[1]]\n",
    "        if numRows == 1:\n",
    "            return result[rowIndex]\n",
    "        result.append([1, 1])\n",
    "        if numRows == 2:\n",
    "            return result[rowIndex]\n",
    "\n",
    "        for i in range(3, numRows + 1):\n",
    "            temp = []\n",
    "            for j in range(1, i - 1):\n",
    "                temp.append(result[-1][j - 1] + result[-1][j])\n",
    "            temp.append(1)\n",
    "            temp.insert(0, 1)\n",
    "            result.append(temp)\n",
    "\n",
    "        return result[rowIndex]\n",
    "    \n",
    "    \n",
    "    \n",
    "sol = Solution()\n",
    "print(sol.getRow(5))"
   ],
   "outputs": [
    {
     "name": "stdout",
     "output_type": "stream",
     "text": [
      "[1, 5, 10, 10, 5, 1]\n"
     ]
    }
   ],
   "execution_count": 23
  },
  {
   "metadata": {},
   "cell_type": "code",
   "outputs": [],
   "execution_count": null,
   "source": "",
   "id": "b607ddac3f046a68"
  }
 ],
 "metadata": {
  "kernelspec": {
   "display_name": "Python 3",
   "language": "python",
   "name": "python3"
  },
  "language_info": {
   "codemirror_mode": {
    "name": "ipython",
    "version": 2
   },
   "file_extension": ".py",
   "mimetype": "text/x-python",
   "name": "python",
   "nbconvert_exporter": "python",
   "pygments_lexer": "ipython2",
   "version": "2.7.6"
  }
 },
 "nbformat": 4,
 "nbformat_minor": 5
}
