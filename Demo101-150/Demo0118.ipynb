{
 "cells": [
  {
   "cell_type": "code",
   "id": "initial_id",
   "metadata": {
    "collapsed": true,
    "ExecuteTime": {
     "end_time": "2024-12-18T14:48:49.090815Z",
     "start_time": "2024-12-18T14:48:49.075141Z"
    }
   },
   "source": [
    "from typing import List\n",
    "\n",
    "\"\"\"\n",
    "给定一个非负整数 numRows，生成「杨辉三角」的前 numRows 行。\n",
    "\n",
    "在「杨辉三角」中，每个数是它左上方和右上方的数的和。\n",
    "\"\"\"\n",
    "\n",
    "\n",
    "class Solution:\n",
    "    def generate(self, numRows: int) -> List[List[int]]:\n",
    "        result = [[1]]\n",
    "        if numRows == 1:\n",
    "            return result\n",
    "        result.append([1, 1])\n",
    "        if numRows == 2:\n",
    "            return result\n",
    "\n",
    "        for i in range(3, numRows + 1):\n",
    "            temp = []\n",
    "            for j in range(1, i - 1):\n",
    "                temp.append(result[-1][j - 1] + result[-1][j])\n",
    "            temp.append(1)\n",
    "            temp.insert(0, 1)\n",
    "            result.append(temp)\n",
    "\n",
    "        return result[numRows]\n",
    "    \n",
    "    def generate2(self, numRows: int) -> List[List[int]]:\n",
    "        if numRows == 0:\n",
    "            return []\n",
    "        \n",
    "        result = [[1]]  # 初始化结果列表，包含帕斯卡三角形的第0行\n",
    "        \n",
    "        for i in range(1, numRows):\n",
    "            prev_row = result[-1]  # 获取上一行\n",
    "            # 创建新行，首尾为1，中间为上一行相邻元素之和\n",
    "            new_row = [1] + [prev_row[j] + prev_row[j - 1] for j in range(1, i)] + [1]\n",
    "            result.append(new_row)\n",
    "        \n",
    "        return result\n",
    "\n",
    "sol = Solution()\n",
    "print(sol.generate(5))\n",
    "            \n",
    "        "
   ],
   "outputs": [
    {
     "name": "stdout",
     "output_type": "stream",
     "text": [
      "[[1], [1, 1], [1, 2, 1], [1, 3, 3, 1], [1, 4, 6, 4, 1]]\n"
     ]
    }
   ],
   "execution_count": 19
  }
 ],
 "metadata": {
  "kernelspec": {
   "display_name": "Python 3",
   "language": "python",
   "name": "python3"
  },
  "language_info": {
   "codemirror_mode": {
    "name": "ipython",
    "version": 2
   },
   "file_extension": ".py",
   "mimetype": "text/x-python",
   "name": "python",
   "nbconvert_exporter": "python",
   "pygments_lexer": "ipython2",
   "version": "2.7.6"
  }
 },
 "nbformat": 4,
 "nbformat_minor": 5
}
