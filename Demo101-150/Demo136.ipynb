{
 "cells": [
  {
   "cell_type": "code",
   "id": "initial_id",
   "metadata": {
    "collapsed": true,
    "ExecuteTime": {
     "end_time": "2024-12-19T14:50:22.321132Z",
     "start_time": "2024-12-19T14:50:22.310035Z"
    }
   },
   "source": [
    "from typing import List\n",
    "\n",
    "\n",
    "# 给你一个 非空 整数数组 nums ，除了某个元素只出现一次以外，其余每个元素均出现两次。找出那个只出现了一次的元素。\n",
    "# \n",
    "# 你必须设计并实现线性时间复杂度的算法来解决此问题，且该算法只使用常量额外空间。\n",
    "class Solution:\n",
    "    def singleNumber(self, nums: List[int]) -> int:\n",
    "        # stack = []\n",
    "        # for num in nums:\n",
    "        #     if num not in stack:\n",
    "        #         stack.append(num)\n",
    "        #     else:\n",
    "        #         stack.remove(num)\n",
    "        # return stack.pop()\n",
    "        # 任何数和 0 做异或运算，结果仍然是原来的数，即 a⊕0=a。\n",
    "        # 任何数和其自身做异或运算，结果是 0，即 a⊕a=0。\n",
    "        # 异或运算满足交换律和结合律，即 a⊕b⊕a=b⊕a⊕a=b⊕(a⊕a)=b⊕0=b。\n",
    "        x = 0\n",
    "        for num in nums:\n",
    "            x ^= num\n",
    "\n",
    "        return x\n",
    "\n",
    "\n",
    "solution = Solution()\n",
    "print(solution.singleNumber([3, 3, 4, 4, 1]))"
   ],
   "outputs": [
    {
     "name": "stdout",
     "output_type": "stream",
     "text": [
      "1\n"
     ]
    }
   ],
   "execution_count": 1
  }
 ],
 "metadata": {
  "kernelspec": {
   "display_name": "Python 3",
   "language": "python",
   "name": "python3"
  },
  "language_info": {
   "codemirror_mode": {
    "name": "ipython",
    "version": 2
   },
   "file_extension": ".py",
   "mimetype": "text/x-python",
   "name": "python",
   "nbconvert_exporter": "python",
   "pygments_lexer": "ipython2",
   "version": "2.7.6"
  }
 },
 "nbformat": 4,
 "nbformat_minor": 5
}
