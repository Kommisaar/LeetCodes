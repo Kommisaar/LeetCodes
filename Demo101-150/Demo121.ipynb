{
 "cells": [
  {
   "cell_type": "code",
   "id": "initial_id",
   "metadata": {
    "collapsed": true,
    "ExecuteTime": {
     "end_time": "2024-12-18T15:49:02.393147Z",
     "start_time": "2024-12-18T15:49:02.377219Z"
    }
   },
   "source": [
    "from typing import List\n",
    "\n",
    "\"\"\"\n",
    "给定一个数组 prices ，它的第 i 个元素 prices[i] 表示一支给定股票第 i 天的价格。\n",
    "\n",
    "你只能选择 某一天 买入这只股票，并选择在 未来的某一个不同的日子 卖出该股票。设计一个算法来计算你所能获取的最大利润。\n",
    "\n",
    "返回你可以从这笔交易中获取的最大利润。如果你不能获取任何利润，返回 0 。\n",
    "\n",
    "示例 1：\n",
    "\n",
    "输入：[7,1,5,3,6,4]\n",
    "输出：5\n",
    "解释：在第 2 天（股票价格 = 1）的时候买入，在第 5 天（股票价格 = 6）的时候卖出，最大利润 = 6-1 = 5 。\n",
    "     注意利润不能是 7-1 = 6, 因为卖出价格需要大于买入价格；同时，你不能在买入前卖出股票。\n",
    "示例 2：\n",
    "\n",
    "输入：prices = [7,6,4,3,1]\n",
    "输出：0\n",
    "解释：在这种情况下, 没有交易完成, 所以最大利润为 0。\n",
    "\n",
    "\"\"\"\n",
    "class Solution:\n",
    "    def maxProfit(self, prices: List[int]) -> int:\n",
    "        if len(prices) <= 1:\n",
    "            return 0\n",
    "        max_profit = 0\n",
    "        min_price = prices[0]\n",
    "        for price in prices:\n",
    "            if price < min_price:\n",
    "                min_price = price\n",
    "            if max_profit<price-min_price:\n",
    "                max_profit = price-min_price\n",
    "            \n",
    "        return max_profit\n",
    "    \n",
    "    #性能优化\n",
    "    def maxProfit2(self, prices: List[int]) -> int:\n",
    "        \"\"\"\n",
    "        买卖股票的逻辑 低买高卖\n",
    "        遍历每日的价格，如果出现了更低的价格，那之后的利润一定是用每日的价格 - 该天的价格买入，\n",
    "        如果计算出的利润高于之前存下的利润，则更新利润的最大值\n",
    "        \"\"\"\n",
    "        profit = 0 \n",
    "        min = float('inf') # 无穷大 \n",
    "        for p in prices:\n",
    "            if p <min:\n",
    "                min = p\n",
    "            if p - min > profit:\n",
    "                profit = p -min \n",
    "        return profit\n",
    "    \n",
    "    \n",
    "list1 = [i for i in range(10000,0,-1)]\n",
    "list2 = [1,2,4]\n",
    "list3 = [[4,2,1,7]]\n",
    "prices = [7,1,5,3,6,4]\n",
    "print(Solution().maxProfit(list3))\n",
    "        "
   ],
   "outputs": [
    {
     "name": "stdout",
     "output_type": "stream",
     "text": [
      "0\n"
     ]
    }
   ],
   "execution_count": 38
  }
 ],
 "metadata": {
  "kernelspec": {
   "display_name": "Python 3",
   "language": "python",
   "name": "python3"
  },
  "language_info": {
   "codemirror_mode": {
    "name": "ipython",
    "version": 2
   },
   "file_extension": ".py",
   "mimetype": "text/x-python",
   "name": "python",
   "nbconvert_exporter": "python",
   "pygments_lexer": "ipython2",
   "version": "2.7.6"
  }
 },
 "nbformat": 4,
 "nbformat_minor": 5
}
