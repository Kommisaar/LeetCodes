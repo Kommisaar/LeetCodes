{
 "cells": [
  {
   "cell_type": "code",
   "id": "initial_id",
   "metadata": {
    "collapsed": true,
    "ExecuteTime": {
     "end_time": "2025-01-06T06:30:44.609641Z",
     "start_time": "2025-01-06T06:30:44.589507Z"
    }
   },
   "source": [
    "from typing import Optional\n",
    "\n",
    "\"\"\"\n",
    "给定一个链表的头节点  head ，返回链表开始入环的第一个节点。 如果链表无环，则返回 null。\n",
    "如果链表中有某个节点，可以通过连续跟踪 next 指针再次到达，则链表中存在环。 为了表示给定链表中的环，评测系统内部使用整数 pos 来表示链表尾连接到链表中的位置（索引从 0 开始）。如果 pos 是 -1，则在该链表中没有环。注意：pos 不作为参数进行传递，仅仅是为了标识链表的实际情况。\n",
    "不允许修改链表。\n",
    "\n",
    "示例 1：\n",
    "输入：head = [3,2,0,-4], pos = 1\n",
    "输出：返回索引为 1 的链表节点\n",
    "解释：链表中有一个环，其尾部连接到第二个节点。\n",
    "\n",
    "示例 2：\n",
    "输入：head = [1,2], pos = 0\n",
    "输出：返回索引为 0 的链表节点\n",
    "解释：链表中有一个环，其尾部连接到第一个节点。\n",
    "\n",
    "示例 3：\n",
    "输入：head = [1], pos = -1\n",
    "输出：返回 null\n",
    "解释：链表中没有环。\n",
    "\n",
    "提示：\n",
    "链表中节点的数目范围在范围 [0, 104] 内\n",
    "-105 <= Node.val <= 105\n",
    "pos 的值为 -1 或者链表中的一个有效索引\n",
    "\"\"\"\n",
    "\n",
    "\n",
    "# Definition for singly-linked list.\n",
    "class ListNode:\n",
    "    def __init__(self, x):\n",
    "        self.val = x\n",
    "        self.next = None\n",
    "\n",
    "\n",
    "class Solution:\n",
    "    def detectCycle(self, head: Optional[ListNode]) -> Optional[ListNode]:\n",
    "        if not head or not head.next:\n",
    "            return None\n",
    "\n",
    "        slow = fast = head\n",
    "\n",
    "        while fast and fast.next:\n",
    "            slow = slow.next\n",
    "            fast = fast.next.next\n",
    "            if slow == fast:\n",
    "                break\n",
    "\n",
    "        if slow != fast:\n",
    "            return None\n",
    "\n",
    "        curr = head\n",
    "        while curr != slow:\n",
    "            curr = curr.next\n",
    "            slow = slow.next\n",
    "        return curr\n",
    "        \n",
    "node1 = ListNode(1)\n",
    "node2 = ListNode(2)\n",
    "node1.next = node2\n",
    "node2.next = node1\n",
    "print(Solution().detectCycle(node1))\n"
   ],
   "outputs": [
    {
     "name": "stdout",
     "output_type": "stream",
     "text": [
      "<__main__.ListNode object at 0x00000241EF0580A0>\n"
     ]
    }
   ],
   "execution_count": 11
  }
 ],
 "metadata": {
  "kernelspec": {
   "display_name": "Python 3",
   "language": "python",
   "name": "python3"
  },
  "language_info": {
   "codemirror_mode": {
    "name": "ipython",
    "version": 2
   },
   "file_extension": ".py",
   "mimetype": "text/x-python",
   "name": "python",
   "nbconvert_exporter": "python",
   "pygments_lexer": "ipython2",
   "version": "2.7.6"
  }
 },
 "nbformat": 4,
 "nbformat_minor": 5
}
