{
 "cells": [
  {
   "metadata": {},
   "cell_type": "markdown",
   "source": [
    "给你一个链表的头节点 head ，判断链表中是否有环。\n",
    "\n",
    "如果链表中有某个节点，可以通过连续跟踪 next 指针再次到达，则链表中存在环。 为了表示给定链表中的环，评测系统内部使用整数 pos 来表示链表尾连接到链表中的位置（索引从 0 开始）。注意：pos 不作为参数进行传递 。仅仅是为了标识链表的实际情况。\n",
    "\n",
    "如果链表中存在环 ，则返回 true 。 否则，返回 false 。"
   ],
   "id": "ce00fe19f08b94e4"
  },
  {
   "metadata": {
    "ExecuteTime": {
     "end_time": "2024-12-19T14:58:21.219241Z",
     "start_time": "2024-12-19T14:58:21.210073Z"
    }
   },
   "cell_type": "code",
   "source": [
    "from typing import Optional\n",
    "\n",
    "\n",
    "# Definition for singly-linked list.\n",
    "class ListNode:\n",
    "    def __init__(self, x):\n",
    "        self.val = x\n",
    "        self.next = None\n",
    "\n",
    "\n",
    "class Solution:\n",
    "    def hasCycle(self, head: Optional[ListNode]) -> bool:\n",
    "        # 哈希表\n",
    "        # if head is None:\n",
    "        #     return False\n",
    "        # node_list = {head}\n",
    "        # while head.next is not None:\n",
    "        #     if head.next not in node_list:\n",
    "        #         node_list.add(head.next)\n",
    "        #     else:\n",
    "        #         return True\n",
    "        #     head = head.next\n",
    "        # return False\n",
    "        \n",
    "        # 快慢指针Floyd判圈法\n",
    "        if head is None or head.next is None:\n",
    "            return False\n",
    "        slow_pointer = head\n",
    "        fast_pointer = head.next\n",
    "        \n",
    "        while fast_pointer.next is not None and fast_pointer.next.next is not None:\n",
    "            if fast_pointer is slow_pointer:\n",
    "                return True\n",
    "            else:\n",
    "                slow_pointer = slow_pointer.next\n",
    "                fast_pointer = fast_pointer.next.next\n",
    "        \n",
    "        return False\n",
    "        "
   ],
   "id": "initial_id",
   "outputs": [
    {
     "ename": "IndentationError",
     "evalue": "expected an indented block (3892692190.py, line 9)",
     "output_type": "error",
     "traceback": [
      "\u001B[1;36m  Cell \u001B[1;32mIn[1], line 9\u001B[1;36m\u001B[0m\n\u001B[1;33m    \u001B[0m\n\u001B[1;37m    ^\u001B[0m\n\u001B[1;31mIndentationError\u001B[0m\u001B[1;31m:\u001B[0m expected an indented block\n"
     ]
    }
   ],
   "execution_count": 1
  }
 ],
 "metadata": {
  "kernelspec": {
   "display_name": "Python 3",
   "language": "python",
   "name": "python3"
  },
  "language_info": {
   "codemirror_mode": {
    "name": "ipython",
    "version": 2
   },
   "file_extension": ".py",
   "mimetype": "text/x-python",
   "name": "python",
   "nbconvert_exporter": "python",
   "pygments_lexer": "ipython2",
   "version": "2.7.6"
  }
 },
 "nbformat": 4,
 "nbformat_minor": 5
}
