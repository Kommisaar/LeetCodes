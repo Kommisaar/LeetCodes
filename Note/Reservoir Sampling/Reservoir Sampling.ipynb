{
 "cells": [
  {
   "cell_type": "code",
   "id": "initial_id",
   "metadata": {
    "collapsed": true,
    "ExecuteTime": {
     "end_time": "2025-01-08T03:05:20.707805Z",
     "start_time": "2025-01-08T03:05:20.702136Z"
    }
   },
   "source": [
    "\"\"\"\n",
    "水塘抽样（Reservoir Sampling）是一种用于从大量数据流中随机抽取固定数量样本的算法。其核心思想是在不知道数据总量或数据流长度的情况下，公平地选择样本。\n",
    "\n",
    "适用场景\n",
    "数据流长度未知或无法一次性加载到内存。\n",
    "\n",
    "需要从大规模数据中随机抽取固定数量的样本。\n",
    "\n",
    "算法步骤\n",
    "初始化：创建一个大小为 k 的“水塘”（数组），用于存储样本。\n",
    "\n",
    "填充水塘：将数据流的前k个元素直接放入水塘。\n",
    "\n",
    "遍历数据流：对于第 i 个元素（i>k），以 k/i的概率决定是否替换水塘中的某个元素。\n",
    "\n",
    "随机替换：若决定替换，则随机选择水塘中的一个元素进行替换。\n",
    "\"\"\"\n",
    "import random\n",
    "\n",
    "def reservoir_sampling(stream, k):\n",
    "    reservoir = []\n",
    "    for i, item in enumerate(stream):\n",
    "        if i < k:\n",
    "            reservoir.append(item)\n",
    "        else:\n",
    "            j = random.randint(0, i)\n",
    "            if j < k:\n",
    "                reservoir[j] = item\n",
    "    return reservoir\n",
    "\n",
    "print(reservoir_sampling([1, 2, 3, 4, 5, 6, 7, 8, 9, 10],1))"
   ],
   "outputs": [
    {
     "name": "stdout",
     "output_type": "stream",
     "text": [
      "[1]\n"
     ]
    }
   ],
   "execution_count": 12
  }
 ],
 "metadata": {
  "kernelspec": {
   "display_name": "Python 3",
   "language": "python",
   "name": "python3"
  },
  "language_info": {
   "codemirror_mode": {
    "name": "ipython",
    "version": 2
   },
   "file_extension": ".py",
   "mimetype": "text/x-python",
   "name": "python",
   "nbconvert_exporter": "python",
   "pygments_lexer": "ipython2",
   "version": "2.7.6"
  }
 },
 "nbformat": 4,
 "nbformat_minor": 5
}
