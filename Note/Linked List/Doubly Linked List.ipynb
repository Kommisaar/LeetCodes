{
 "cells": [
  {
   "cell_type": "code",
   "execution_count": null,
   "id": "initial_id",
   "metadata": {
    "collapsed": true
   },
   "outputs": [],
   "source": [
    "\"\"\"\n",
    "双向链表（Doubly Linked List）是一种常见的数据结构，它由一系列节点组成，每个节点包含三个部分：\n",
    "\n",
    "数据域（Data）：存储节点的数据。\n",
    "\n",
    "前驱指针（Previous Pointer）：指向前一个节点的指针。\n",
    "\n",
    "后继指针（Next Pointer）：指向后一个节点的指针。\n",
    "\n",
    "与单向链表不同，双向链表的每个节点都有两个指针，分别指向前一个节点和后一个节点，这使得双向链表可以从两个方向遍历。\n",
    "\n",
    "插入操作\n",
    "    在双向链表的头部插入一个节点。\n",
    "    \n",
    "    在双向链表的尾部插入一个节点。\n",
    "    \n",
    "    在指定位置插入一个节点。\n",
    "\n",
    "2. 删除操作\n",
    "删除双向链表的头部节点。\n",
    "\n",
    "删除双向链表的尾部节点。\n",
    "\n",
    "删除指定值的节点。\n",
    "\n",
    "3. 查找操作\n",
    "查找链表中是否存在某个值。\n",
    "\n",
    "查找链表中某个位置的节点。\n",
    "\n",
    "4. 遍历操作\n",
    "从头到尾遍历链表并打印节点值。\n",
    "\n",
    "从尾到头遍历链表并打印节点值。\n",
    "\n",
    "5. 反转链表\n",
    "将双向链表反转。\n",
    "\"\"\""
   ]
  }
 ],
 "metadata": {
  "kernelspec": {
   "display_name": "Python 3",
   "language": "python",
   "name": "python3"
  },
  "language_info": {
   "codemirror_mode": {
    "name": "ipython",
    "version": 2
   },
   "file_extension": ".py",
   "mimetype": "text/x-python",
   "name": "python",
   "nbconvert_exporter": "python",
   "pygments_lexer": "ipython2",
   "version": "2.7.6"
  }
 },
 "nbformat": 4,
 "nbformat_minor": 5
}
