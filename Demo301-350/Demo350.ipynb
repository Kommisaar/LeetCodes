{
 "cells": [
  {
   "cell_type": "code",
   "execution_count": null,
   "id": "initial_id",
   "metadata": {
    "collapsed": true
   },
   "outputs": [],
   "source": [
    "from collections import defaultdict\n",
    "from typing import List\n",
    "\n",
    "\"\"\"\n",
    "给你两个整数数组 nums1 和 nums2 ，请你以数组形式返回两数组的交集。返回结果中每个元素出现的次数，应与元素在两个数组中都出现的次数一致（如果出现次数不一致，则考虑取较小值）。可以不考虑输出结果的顺序。\n",
    "\n",
    "示例 1：\n",
    "输入：nums1 = [1,2,2,1], nums2 = [2,2]\n",
    "输出：[2,2]\n",
    "示例 2:\n",
    "\n",
    "输入：nums1 = [4,9,5], nums2 = [9,4,9,8,4]\n",
    "输出：[4,9]\n",
    "\"\"\"\n",
    "\n",
    "\n",
    "class Solution:\n",
    "    def intersect(self, nums1: List[int], nums2: List[int]) -> List[int]:\n",
    "        nums2.sort()\n",
    "        res = []\n",
    "        for i in nums1:\n",
    "            left = 0\n",
    "            right = len(nums2)\n",
    "            while left < right:\n",
    "                mid = left + (right - left) // 2\n",
    "                if nums2[mid] == i:\n",
    "                    res.append(nums2.pop(mid))\n",
    "                    break\n",
    "                elif nums2[mid] > i:\n",
    "                    right = mid\n",
    "                else:\n",
    "                    left = mid + 1\n",
    "        return res\n",
    "\n",
    "    def intersect2(self, nums1: List[int], nums2: List[int]) -> List[int]:\n",
    "        freq = {}\n",
    "        for num in nums2:\n",
    "            freq[num] = freq.get(num, 0) + 1\n",
    "        res = []\n",
    "        for num in nums1:\n",
    "            if freq.get(num, 0) > 0:\n",
    "                res.append(num)\n",
    "                freq[num] -= 1\n",
    "        return res\n",
    "                "
   ]
  }
 ],
 "metadata": {
  "kernelspec": {
   "display_name": "Python 3",
   "language": "python",
   "name": "python3"
  },
  "language_info": {
   "codemirror_mode": {
    "name": "ipython",
    "version": 2
   },
   "file_extension": ".py",
   "mimetype": "text/x-python",
   "name": "python",
   "nbconvert_exporter": "python",
   "pygments_lexer": "ipython2",
   "version": "2.7.6"
  }
 },
 "nbformat": 4,
 "nbformat_minor": 5
}
