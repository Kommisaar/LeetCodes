{
 "cells": [
  {
   "cell_type": "code",
   "id": "initial_id",
   "metadata": {
    "collapsed": true,
    "ExecuteTime": {
     "end_time": "2025-01-02T06:47:15.909096Z",
     "start_time": "2025-01-02T06:47:15.893009Z"
    }
   },
   "source": [
    "from typing import List\n",
    "\n",
    "\"\"\"\n",
    "给定两个数组 nums1 和 nums2 ，返回 它们的 \n",
    "交集\n",
    " 。输出结果中的每个元素一定是 唯一 的。我们可以 不考虑输出结果的顺序 。\n",
    "\n",
    "示例 1：\n",
    "输入：nums1 = [1,2,2,1], nums2 = [2,2]\n",
    "输出：[2]\n",
    "\n",
    "示例 2：\n",
    "输入：nums1 = [4,9,5], nums2 = [9,4,9,8,4]\n",
    "输出：[9,4]\n",
    "解释：[4,9] 也是可通过的\n",
    "\"\"\"\n",
    "class Solution:\n",
    "    def intersection(self, nums1: List[int], nums2: List[int]) -> List[int]:\n",
    "        nums1_s = set(nums1)\n",
    "        nums2.sort()\n",
    "        res = []\n",
    "        for i in nums1_s:\n",
    "            left = 0\n",
    "            right = len(nums2)\n",
    "            while left < right:\n",
    "                mid = left + (right - left) // 2\n",
    "                if nums2[mid] == i:\n",
    "                    res.append(i)\n",
    "                    break\n",
    "                elif nums2[mid] > i:\n",
    "                    right = mid\n",
    "                else:\n",
    "                    left = mid + 1\n",
    "        return res\n",
    "\n",
    "if __name__ == '__main__':\n",
    "    # print(Solution().intersection([1,2,2,1], [2,2]))\n",
    "    print(Solution().intersection([4,9,5], [9,4,9,8,4]))"
   ],
   "outputs": [
    {
     "name": "stdout",
     "output_type": "stream",
     "text": [
      "[9, 4]\n"
     ]
    }
   ],
   "execution_count": 8
  }
 ],
 "metadata": {
  "kernelspec": {
   "display_name": "Python 3",
   "language": "python",
   "name": "python3"
  },
  "language_info": {
   "codemirror_mode": {
    "name": "ipython",
    "version": 2
   },
   "file_extension": ".py",
   "mimetype": "text/x-python",
   "name": "python",
   "nbconvert_exporter": "python",
   "pygments_lexer": "ipython2",
   "version": "2.7.6"
  }
 },
 "nbformat": 4,
 "nbformat_minor": 5
}
