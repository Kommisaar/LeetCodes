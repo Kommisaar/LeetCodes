{
 "cells": [
  {
   "cell_type": "code",
   "id": "initial_id",
   "metadata": {
    "collapsed": true,
    "ExecuteTime": {
     "end_time": "2025-01-02T06:32:31.926829Z",
     "start_time": "2025-01-02T06:32:31.895022Z"
    }
   },
   "source": [
    "\"\"\"\n",
    "给你一个字符串 s ，仅反转字符串中的所有元音字母，并返回结果字符串。\n",
    "元音字母包括 'a'、'e'、'i'、'o'、'u'，且可能以大小写两种形式出现不止一次。\n",
    "\n",
    "示例 1：\n",
    "输入：s = \"IceCreAm\"\n",
    "输出：\"AceCreIm\"\n",
    "解释：\n",
    "s 中的元音是 ['I', 'e', 'e', 'A']。反转这些元音，s 变为 \"AceCreIm\".\n",
    "\n",
    "示例 2：\n",
    "输入：s = \"leetcode\"\n",
    "输出：\"leotcede\"\n",
    "\"\"\"\n",
    "\n",
    "\n",
    "class Solution:\n",
    "    def reverseVowels(self, s: str) -> str:\n",
    "        s = list(s)\n",
    "        vowels = {'a', 'e', 'i', 'o', 'u', 'A', 'E', 'I', 'O', 'U'}\n",
    "        left, right = 0, len(s) - 1\n",
    "        while left < right:\n",
    "            while s[left] not in vowels and left < right:\n",
    "                left += 1\n",
    "            while s[right] not in vowels and left < right:\n",
    "                right -= 1\n",
    "            s[left], s[right] = s[right], s[left]\n",
    "            left += 1\n",
    "            right -= 1\n",
    "        return ''.join(s)\n",
    "\n",
    "\n",
    "if __name__ == '__main__':\n",
    "    print(Solution().reverseVowels(\"IceCreAm\"))"
   ],
   "outputs": [
    {
     "name": "stdout",
     "output_type": "stream",
     "text": [
      "AceCreIm\n"
     ]
    }
   ],
   "execution_count": 8
  }
 ],
 "metadata": {
  "kernelspec": {
   "display_name": "Python 3",
   "language": "python",
   "name": "python3"
  },
  "language_info": {
   "codemirror_mode": {
    "name": "ipython",
    "version": 2
   },
   "file_extension": ".py",
   "mimetype": "text/x-python",
   "name": "python",
   "nbconvert_exporter": "python",
   "pygments_lexer": "ipython2",
   "version": "2.7.6"
  }
 },
 "nbformat": 4,
 "nbformat_minor": 5
}
