{
 "cells": [
  {
   "cell_type": "code",
   "id": "initial_id",
   "metadata": {
    "collapsed": true,
    "ExecuteTime": {
     "end_time": "2025-01-02T13:25:57.673454Z",
     "start_time": "2025-01-02T13:25:57.643758Z"
    }
   },
   "source": [
    "import math\n",
    "\n",
    "\"\"\"\n",
    "给定一个整数，写一个函数来判断它是否是 4 的幂次方。如果是，返回 true ；否则，返回 false 。\n",
    "整数 n 是 4 的幂次方需满足：存在整数 x 使得 n == 4^x\n",
    "lg(n) = xlg(4)\n",
    "示例 1：\n",
    "输入：n = 16\n",
    "输出：true\n",
    "\n",
    "示例 2：\n",
    "输入：n = 5\n",
    "输出：false\n",
    "\n",
    "示例 3：\n",
    "输入：n = 1\n",
    "输出：true\n",
    "\"\"\"\n",
    "\n",
    "\n",
    "class Solution:\n",
    "    def isPowerOfFour(self, n: int) -> bool:\n",
    "        #二分查找\n",
    "        if n<=0: return False\n",
    "        low, high = 0, n\n",
    "        while low <= high:\n",
    "            mid = low + (high - low) // 2\n",
    "            if mid == (math.log(n) / math.log(4)):\n",
    "                return True\n",
    "            elif mid < (math.log(n) / math.log(4)):\n",
    "                low = mid + 1\n",
    "            else:\n",
    "                high = mid - 1\n",
    "\n",
    "        return False\n",
    "\n",
    "if __name__ == '__main__':\n",
    "    print(Solution().isPowerOfFour(387420488))"
   ],
   "outputs": [
    {
     "name": "stdout",
     "output_type": "stream",
     "text": [
      "False\n"
     ]
    }
   ],
   "execution_count": 11
  }
 ],
 "metadata": {
  "kernelspec": {
   "display_name": "Python 3",
   "language": "python",
   "name": "python3"
  },
  "language_info": {
   "codemirror_mode": {
    "name": "ipython",
    "version": 2
   },
   "file_extension": ".py",
   "mimetype": "text/x-python",
   "name": "python",
   "nbconvert_exporter": "python",
   "pygments_lexer": "ipython2",
   "version": "2.7.6"
  }
 },
 "nbformat": 4,
 "nbformat_minor": 5
}
