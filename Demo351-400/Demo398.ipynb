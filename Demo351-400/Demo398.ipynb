{
 "cells": [
  {
   "cell_type": "code",
   "execution_count": null,
   "id": "initial_id",
   "metadata": {
    "collapsed": true
   },
   "outputs": [],
   "source": [
    "import random\n",
    "from typing import List\n",
    "\n",
    "\"\"\"\n",
    "给你一个可能含有 重复元素 的整数数组 nums ，请你随机输出给定的目标数字 target 的索引。你可以假设给定的数字一定存在于数组中。\n",
    "\n",
    "实现 Solution 类：\n",
    "\n",
    "Solution(int[] nums) 用数组 nums 初始化对象。\n",
    "int pick(int target) 从 nums 中选出一个满足 nums[i] == target 的随机索引 i 。如果存在多个有效的索引，则每个索引的返回概率应当相等。\n",
    "\n",
    "示例：\n",
    "\n",
    "输入\n",
    "[\"Solution\", \"pick\", \"pick\", \"pick\"]\n",
    "[[[1, 2, 3, 3, 3]], [3], [1], [3]]\n",
    "输出\n",
    "[null, 4, 0, 2]\n",
    "\n",
    "解释\n",
    "Solution solution = new Solution([1, 2, 3, 3, 3]);\n",
    "solution.pick(3); // 随机返回索引 2, 3 或者 4 之一。每个索引的返回概率应该相等。\n",
    "solution.pick(1); // 返回 0 。因为只有 nums[0] 等于 1 。\n",
    "solution.pick(3); // 随机返回索引 2, 3 或者 4 之一。每个索引的返回概率应该相等。\n",
    " \n",
    "\n",
    "提示：\n",
    "\n",
    "1 <= nums.length <= 2 * 104\n",
    "-231 <= nums[i] <= 231 - 1\n",
    "target 是 nums 中的一个整数\n",
    "最多调用 pick 函数 104 次\n",
    "\"\"\"\n",
    "\n",
    "\n",
    "class Solution:\n",
    "\n",
    "    def __init__(self, nums: List[int]):\n",
    "        self.nums = nums\n",
    "\n",
    "    def pick(self, target: int) -> int:\n",
    "        total = 0\n",
    "        res = None\n",
    "        for i, num in enumerate(self.nums):\n",
    "            if num == target:\n",
    "                total += 1\n",
    "                rand = random.randrange(0, total)\n",
    "                if rand == 0:\n",
    "                    res = i\n",
    "\n",
    "        return res\n",
    "        "
   ]
  }
 ],
 "metadata": {
  "kernelspec": {
   "display_name": "Python 3",
   "language": "python",
   "name": "python3"
  },
  "language_info": {
   "codemirror_mode": {
    "name": "ipython",
    "version": 2
   },
   "file_extension": ".py",
   "mimetype": "text/x-python",
   "name": "python",
   "nbconvert_exporter": "python",
   "pygments_lexer": "ipython2",
   "version": "2.7.6"
  }
 },
 "nbformat": 4,
 "nbformat_minor": 5
}
