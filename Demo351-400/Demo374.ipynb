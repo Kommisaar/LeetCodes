{
 "cells": [
  {
   "cell_type": "code",
   "execution_count": null,
   "id": "initial_id",
   "metadata": {
    "collapsed": true
   },
   "outputs": [],
   "source": [
    "\"\"\"\n",
    "我们正在玩猜数字游戏。猜数字游戏的规则如下：\n",
    "\n",
    "我会从 1 到 n 随机选择一个数字。 请你猜选出的是哪个数字。\n",
    "\n",
    "如果你猜错了，我会告诉你，我选出的数字比你猜测的数字大了还是小了。\n",
    "\n",
    "你可以通过调用一个预先定义好的接口 int guess(int num) 来获取猜测结果，返回值一共有三种可能的情况：\n",
    "\n",
    "-1：你猜的数字比我选出的数字大 （即 num > pick）。\n",
    "1：你猜的数字比我选出的数字小 （即 num < pick）。\n",
    "0：你猜的数字与我选出的数字相等。（即 num == pick）。\n",
    "返回我选出的数字。\n",
    "\"\"\"\n",
    "# The guess API is already defined for you.\n",
    "# @param num, your guess\n",
    "# @return -1 if num is higher than the picked number\n",
    "#          1 if num is lower than the picked number\n",
    "#          otherwise return 0\n",
    "def guess(num: int) -> int:\n",
    "    pass\n",
    "class Solution:\n",
    "    def guessNumber(self, n: int) -> int:\n",
    "        low, high = 1, n\n",
    "        while low <= high:\n",
    "            mid = (low + high) // 2\n",
    "            if guess(mid) == -1:\n",
    "                high = mid - 1\n",
    "            elif guess(mid) == 1:\n",
    "                low = mid + 1\n",
    "            elif guess(mid) == 0:\n",
    "                return mid"
   ]
  }
 ],
 "metadata": {
  "kernelspec": {
   "display_name": "Python 3",
   "language": "python",
   "name": "python3"
  },
  "language_info": {
   "codemirror_mode": {
    "name": "ipython",
    "version": 2
   },
   "file_extension": ".py",
   "mimetype": "text/x-python",
   "name": "python",
   "nbconvert_exporter": "python",
   "pygments_lexer": "ipython2",
   "version": "2.7.6"
  }
 },
 "nbformat": 4,
 "nbformat_minor": 5
}
