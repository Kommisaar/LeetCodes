{
 "cells": [
  {
   "cell_type": "code",
   "id": "initial_id",
   "metadata": {
    "collapsed": true,
    "ExecuteTime": {
     "end_time": "2025-01-02T08:03:25.838293Z",
     "start_time": "2025-01-02T08:03:25.822377Z"
    }
   },
   "source": [
    "\"\"\"\n",
    "给定一个字符串 s ，找到 它的第一个不重复的字符，并返回它的索引 。如果不存在，则返回 -1 。\n",
    "\n",
    "示例 1：\n",
    "输入: s = \"leetcode\"\n",
    "输出: 0\n",
    "\n",
    "示例 2:\n",
    "输入: s = \"loveleetcode\"\n",
    "输出: 2\n",
    "\n",
    "示例 3:\n",
    "输入: s = \"aabb\"\n",
    "输出: -1\n",
    "\"\"\"\n",
    "\n",
    "\n",
    "class Solution:\n",
    "    def firstUniqChar(self, s: str) -> int:\n",
    "        dic = {}\n",
    "        for c in s:\n",
    "            dic[c] = not c in dic\n",
    "        for i, c in enumerate(s):\n",
    "            if dic[c]: return i\n",
    "        return -1\n",
    "\n",
    "\n",
    "if __name__ == '__main__':\n",
    "    print(Solution().firstUniqChar(\"loveleetcode\"))"
   ],
   "outputs": [
    {
     "name": "stdout",
     "output_type": "stream",
     "text": [
      "2\n"
     ]
    }
   ],
   "execution_count": 10
  },
  {
   "metadata": {},
   "cell_type": "code",
   "outputs": [],
   "execution_count": null,
   "source": "",
   "id": "e8bf5d7d80c326ca"
  }
 ],
 "metadata": {
  "kernelspec": {
   "display_name": "Python 3",
   "language": "python",
   "name": "python3"
  },
  "language_info": {
   "codemirror_mode": {
    "name": "ipython",
    "version": 2
   },
   "file_extension": ".py",
   "mimetype": "text/x-python",
   "name": "python",
   "nbconvert_exporter": "python",
   "pygments_lexer": "ipython2",
   "version": "2.7.6"
  }
 },
 "nbformat": 4,
 "nbformat_minor": 5
}
