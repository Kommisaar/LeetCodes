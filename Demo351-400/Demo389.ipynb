{
 "cells": [
  {
   "cell_type": "code",
   "id": "initial_id",
   "metadata": {
    "collapsed": true,
    "ExecuteTime": {
     "end_time": "2025-01-02T08:21:07.019563Z",
     "start_time": "2025-01-02T08:21:07.005535Z"
    }
   },
   "source": [
    "from collections import Counter\n",
    "\n",
    "\"\"\"\n",
    "给定两个字符串 s 和 t ，它们只包含小写字母。\n",
    "字符串 t 由字符串 s 随机重排，然后在随机位置添加一个字母。\n",
    "请找出在 t 中被添加的字母。\n",
    "\n",
    " \n",
    "\n",
    "示例 1：\n",
    "输入：s = \"abcd\", t = \"abcde\"\n",
    "输出：\"e\"\n",
    "解释：'e' 是那个被添加的字母。\n",
    "\n",
    "示例 2：\n",
    "输入：s = \"\", t = \"y\"\n",
    "输出：\"y\"\n",
    "\"\"\"\n",
    "\n",
    "\n",
    "class Solution:\n",
    "    def findTheDifference(self, s: str, t: str) -> str:\n",
    "\n",
    "        return (Counter(t)-Counter(s)).popitem()[0]\n",
    "\n",
    "\n",
    "if __name__ == '__main__':\n",
    "    s = Solution()\n",
    "    print(s.findTheDifference(\"abcd\", \"abcde\"))\n",
    "        "
   ],
   "outputs": [
    {
     "name": "stdout",
     "output_type": "stream",
     "text": [
      "e\n"
     ]
    }
   ],
   "execution_count": 20
  }
 ],
 "metadata": {
  "kernelspec": {
   "display_name": "Python 3",
   "language": "python",
   "name": "python3"
  },
  "language_info": {
   "codemirror_mode": {
    "name": "ipython",
    "version": 2
   },
   "file_extension": ".py",
   "mimetype": "text/x-python",
   "name": "python",
   "nbconvert_exporter": "python",
   "pygments_lexer": "ipython2",
   "version": "2.7.6"
  }
 },
 "nbformat": 4,
 "nbformat_minor": 5
}
