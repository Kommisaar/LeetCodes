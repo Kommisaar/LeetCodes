{
 "cells": [
  {
   "cell_type": "code",
   "id": "initial_id",
   "metadata": {
    "collapsed": true,
    "ExecuteTime": {
     "end_time": "2025-01-02T07:26:26.143218Z",
     "start_time": "2025-01-02T07:26:26.127115Z"
    }
   },
   "source": [
    "from collections import Counter\n",
    "\n",
    "\"\"\"\n",
    "给你两个字符串：ransomNote 和 magazine ，判断 ransomNote 能不能由 magazine 里面的字符构成。\n",
    "如果可以，返回 true ；否则返回 false 。\n",
    "magazine 中的每个字符只能在 ransomNote 中使用一次。\n",
    "\n",
    " \n",
    "\n",
    "示例 1：\n",
    "输入：ransomNote = \"a\", magazine = \"b\"\n",
    "输出：false\n",
    "\n",
    "示例 2：\n",
    "输入：ransomNote = \"aa\", magazine = \"ab\"\n",
    "输出：false\n",
    "\n",
    "示例 3：\n",
    "输入：ransomNote = \"aa\", magazine = \"aab\"\n",
    "输出：true\n",
    " \n",
    "\n",
    "提示：\n",
    "\n",
    "1 <= ransomNote.length, magazine.length <= 105\n",
    "ransomNote 和 magazine 由小写英文字母组成\n",
    "\"\"\"\n",
    "\n",
    "\n",
    "class Solution:\n",
    "    def canConstruct(self, ransomNote: str, magazine: str) -> bool:\n",
    "        dict_magazine = Counter(magazine)\n",
    "        for char in ransomNote:\n",
    "            if dict_magazine.get(char, 0) < 1:\n",
    "                return False\n",
    "            else:\n",
    "                dict_magazine[char] -= 1\n",
    "        return True\n",
    "\n",
    "\n",
    "if __name__ == '__main__':\n",
    "    print(Solution().canConstruct(\"aa\", \"aab\"))"
   ],
   "outputs": [
    {
     "name": "stdout",
     "output_type": "stream",
     "text": [
      "True\n"
     ]
    }
   ],
   "execution_count": 4
  }
 ],
 "metadata": {
  "kernelspec": {
   "display_name": "Python 3",
   "language": "python",
   "name": "python3"
  },
  "language_info": {
   "codemirror_mode": {
    "name": "ipython",
    "version": 2
   },
   "file_extension": ".py",
   "mimetype": "text/x-python",
   "name": "python",
   "nbconvert_exporter": "python",
   "pygments_lexer": "ipython2",
   "version": "2.7.6"
  }
 },
 "nbformat": 4,
 "nbformat_minor": 5
}
