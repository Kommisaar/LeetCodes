{
 "cells": [
  {
   "cell_type": "code",
   "id": "initial_id",
   "metadata": {
    "collapsed": true,
    "ExecuteTime": {
     "end_time": "2025-01-02T10:40:07.927439Z",
     "start_time": "2025-01-02T10:40:00.440985Z"
    }
   },
   "source": [
    "import string\n",
    "import random\n",
    "import time\n",
    "\n",
    "\"\"\"\n",
    "给定字符串 s 和 t ，判断 s 是否为 t 的子序列。\n",
    "字符串的一个子序列是原始字符串删除一些（也可以不删除）字符而不改变剩余字符相对位置形成的新字符串。（例如，\"ace\"是\"abcde\"的一个子序列，而\"aec\"不是）。\n",
    "\n",
    "进阶：\n",
    "如果有大量输入的 S，称作 S1, S2, ... , Sk 其中 k >= 10亿，你需要依次检查它们是否为 T 的子序列。在这种情况下，你会怎样改变代码？\n",
    "\"\"\"\n",
    "\n",
    "\n",
    "class Solution:\n",
    "    def isSubsequence(self, s: str, t: str) -> bool:\n",
    "        t_index = 0\n",
    "        for i in range(len(s)):\n",
    "            for j in range(t_index, len(t)):\n",
    "                if s[i] == t[j]:\n",
    "                    t_index = j + 1\n",
    "                    break\n",
    "            else:\n",
    "                return False\n",
    "        return True\n",
    "\n",
    "\n",
    "if __name__ == '__main__':\n",
    "\n",
    "\n",
    "    # 生成一个巨大的字符串 t\n",
    "    def generate_large_t(length):\n",
    "        # 使用随机字母生成字符串\n",
    "        return ''.join(random.choices(string.ascii_lowercase, k=length))\n",
    "    \n",
    "    \n",
    "    # 生成一个子序列 s\n",
    "    def generate_subsequence_s(t, s_length):\n",
    "        # 从 t 中随机选择字符作为 s\n",
    "        indices = sorted(random.sample(range(len(t)), s_length))\n",
    "        return ''.join(t[i] for i in indices)\n",
    "\n",
    "\n",
    "    # 生成测试数据\n",
    "    t = generate_large_t(1_000_000_00)  # t 的长度为 1,000,000\n",
    "    s = generate_subsequence_s(t, 100_000_0)  # s 的长度为 100,000\n",
    "    time1 = time.time()\n",
    "    print(Solution().isSubsequence(s, t))\n",
    "    print(time.time() - time1)"
   ],
   "outputs": [
    {
     "name": "stdout",
     "output_type": "stream",
     "text": [
      "True\n",
      "0.8606986999511719\n"
     ]
    }
   ],
   "execution_count": 26
  },
  {
   "metadata": {},
   "cell_type": "code",
   "outputs": [],
   "execution_count": null,
   "source": "",
   "id": "e3e9dc62a5f7fa37"
  }
 ],
 "metadata": {
  "kernelspec": {
   "display_name": "Python 3",
   "language": "python",
   "name": "python3"
  },
  "language_info": {
   "codemirror_mode": {
    "name": "ipython",
    "version": 2
   },
   "file_extension": ".py",
   "mimetype": "text/x-python",
   "name": "python",
   "nbconvert_exporter": "python",
   "pygments_lexer": "ipython2",
   "version": "2.7.6"
  }
 },
 "nbformat": 4,
 "nbformat_minor": 5
}
