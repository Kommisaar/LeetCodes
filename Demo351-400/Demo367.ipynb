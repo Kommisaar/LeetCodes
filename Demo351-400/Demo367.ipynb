{
 "cells": [
  {
   "cell_type": "code",
   "id": "initial_id",
   "metadata": {
    "collapsed": true,
    "ExecuteTime": {
     "end_time": "2025-01-02T07:11:22.480099Z",
     "start_time": "2025-01-02T07:11:22.464330Z"
    }
   },
   "source": [
    "\"\"\"\n",
    "给你一个正整数 num 。如果 num 是一个完全平方数，则返回 true ，否则返回 false 。\n",
    "完全平方数 是一个可以写成某个整数的平方的整数。换句话说，它可以写成某个整数和自身的乘积。\n",
    "不能使用任何内置的库函数，如  sqrt 。\n",
    "\n",
    " \n",
    "\n",
    "示例 1：\n",
    "输入：num = 16\n",
    "输出：true\n",
    "解释：返回 true ，因为 4 * 4 = 16 且 4 是一个整数。\n",
    "\n",
    "示例 2：\n",
    "输入：num = 14\n",
    "输出：false\n",
    "解释：返回 false ，因为 3.742 * 3.742 = 14 但 3.742 不是一个整数。\n",
    "\"\"\"\n",
    "\n",
    "\n",
    "class Solution:\n",
    "    def isPerfectSquare(self, num: int) -> bool:\n",
    "        low, high = 1, num\n",
    "        while low <= high:\n",
    "            mid = (low + high) // 2\n",
    "            if mid ** 2 == num:\n",
    "                return True\n",
    "            elif mid ** 2 < num:\n",
    "                low = mid + 1\n",
    "            else:\n",
    "                high = mid - 1\n",
    "        return False\n",
    "\n",
    "\n",
    "if __name__ == '__main__':\n",
    "    print(Solution().isPerfectSquare(16))"
   ],
   "outputs": [
    {
     "name": "stdout",
     "output_type": "stream",
     "text": [
      "True\n"
     ]
    }
   ],
   "execution_count": 15
  }
 ],
 "metadata": {
  "kernelspec": {
   "display_name": "Python 3",
   "language": "python",
   "name": "python3"
  },
  "language_info": {
   "codemirror_mode": {
    "name": "ipython",
    "version": 2
   },
   "file_extension": ".py",
   "mimetype": "text/x-python",
   "name": "python",
   "nbconvert_exporter": "python",
   "pygments_lexer": "ipython2",
   "version": "2.7.6"
  }
 },
 "nbformat": 4,
 "nbformat_minor": 5
}
