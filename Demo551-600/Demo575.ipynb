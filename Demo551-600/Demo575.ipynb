{
 "cells": [
  {
   "cell_type": "code",
   "id": "initial_id",
   "metadata": {
    "collapsed": true,
    "ExecuteTime": {
     "end_time": "2025-01-07T00:51:08.761782Z",
     "start_time": "2025-01-07T00:51:08.746111Z"
    }
   },
   "source": [
    "import heapq\n",
    "from typing import List\n",
    "\n",
    "\"\"\"\n",
    "Alice 有 n 枚糖，其中第 i 枚糖的类型为 candyType[i] 。Alice 注意到她的体重正在增长，所以前去拜访了一位医生。\n",
    "医生建议 Alice 要少摄入糖分，只吃掉她所有糖的 n / 2 即可（n 是一个偶数）。Alice 非常喜欢这些糖，她想要在遵循医生建议的情况下，尽可能吃到最多不同种类的糖。\n",
    "给你一个长度为 n 的整数数组 candyType ，返回： Alice 在仅吃掉 n / 2 枚糖的情况下，可以吃到糖的 最多 种类数。\n",
    "\n",
    "示例 1：\n",
    "输入：candyType = [1,1,2,2,3,3]\n",
    "输出：3\n",
    "解释：Alice 只能吃 6 / 2 = 3 枚糖，由于只有 3 种糖，她可以每种吃一枚。\n",
    "\n",
    "示例 2：\n",
    "输入：candyType = [1,1,2,3]\n",
    "输出：2\n",
    "解释：Alice 只能吃 4 / 2 = 2 枚糖，不管她选择吃的种类是 [1,2]、[1,3] 还是 [2,3]，她只能吃到两种不同类的糖。\n",
    "\n",
    "示例 3：\n",
    "输入：candyType = [6,6,6,6]\n",
    "输出：1\n",
    "解释：Alice 只能吃 4 / 2 = 2 枚糖，尽管她能吃 2 枚，但只能吃到 1 种糖。\n",
    " \n",
    "\n",
    "提示：\n",
    "\n",
    "n == candyType.length\n",
    "2 <= n <= 104\n",
    "n 是一个偶数\n",
    "-105 <= candyType[i] <= 105\n",
    "\"\"\"\n",
    "\n",
    "\n",
    "class Solution:\n",
    "    def distributeCandies(self, candyType: List[int]) -> int:\n",
    "        return min(len(set(candyType)), len(candyType) // 2)\n",
    "\n",
    "\n",
    "solution = Solution()\n",
    "print(solution.distributeCandies([1, 1, 2, 2, 3, 3]))"
   ],
   "outputs": [
    {
     "name": "stdout",
     "output_type": "stream",
     "text": [
      "3\n"
     ]
    }
   ],
   "execution_count": 5
  }
 ],
 "metadata": {
  "kernelspec": {
   "display_name": "Python 3",
   "language": "python",
   "name": "python3"
  },
  "language_info": {
   "codemirror_mode": {
    "name": "ipython",
    "version": 2
   },
   "file_extension": ".py",
   "mimetype": "text/x-python",
   "name": "python",
   "nbconvert_exporter": "python",
   "pygments_lexer": "ipython2",
   "version": "2.7.6"
  }
 },
 "nbformat": 4,
 "nbformat_minor": 5
}
