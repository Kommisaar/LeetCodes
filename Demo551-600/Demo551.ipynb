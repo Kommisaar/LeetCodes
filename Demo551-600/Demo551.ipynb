{
 "cells": [
  {
   "cell_type": "code",
   "execution_count": null,
   "id": "initial_id",
   "metadata": {
    "collapsed": true
   },
   "outputs": [],
   "source": [
    "\"\"\"\n",
    "给你一个字符串 s 表示一个学生的出勤记录，其中的每个字符用来标记当天的出勤情况（缺勤、迟到、到场）。记录中只含下面三种字符：\n",
    "\n",
    "'A'：Absent，缺勤\n",
    "'L'：Late，迟到\n",
    "'P'：Present，到场\n",
    "\n",
    "如果学生能够 同时 满足下面两个条件，则可以获得出勤奖励：\n",
    "\n",
    "    按总出勤计，学生缺勤（'A'）严格 少于两天。\n",
    "    学生不存在连续3天或连续3天以上的迟到（'L'）记录。\n",
    "    如果学生可以获得出勤奖励，返回 true ；否则，返回 false 。\n",
    "\n",
    "示例 1：\n",
    "\n",
    "输入：s = \"PPALLP\"\n",
    "输出：true\n",
    "解释：学生缺勤次数少于 2 次，且不存在 3 天或以上的连续迟到记录。\n",
    "\n",
    "示例 2：\n",
    "输入：s = \"PPALLL\"\n",
    "输出：false\n",
    "解释：学生最后三天连续迟到，所以不满足出勤奖励的条件。\n",
    "\n",
    "提示：\n",
    "\n",
    "1 <= s.length <= 1000\n",
    "s[i] 为 'A'、'L' 或 'P'\n",
    "\"\"\"\n",
    "\n",
    "\n",
    "class Solution:\n",
    "    def checkRecord(self, s: str) -> bool:\n",
    "\n",
    "        absent = 0\n",
    "        late = 0\n",
    "        for i in range(len(s)):\n",
    "            if s[i] == 'L':\n",
    "                late += 1\n",
    "                if late > 2:\n",
    "                    return False\n",
    "            elif s[i] == 'A':\n",
    "                absent += 1\n",
    "                if absent > 1:\n",
    "                    return False\n",
    "                late = 0\n",
    "            elif s[i] == 'P':\n",
    "                late = 0\n",
    "        return True\n",
    "                \n",
    "        "
   ]
  }
 ],
 "metadata": {
  "kernelspec": {
   "display_name": "Python 3",
   "language": "python",
   "name": "python3"
  },
  "language_info": {
   "codemirror_mode": {
    "name": "ipython",
    "version": 2
   },
   "file_extension": ".py",
   "mimetype": "text/x-python",
   "name": "python",
   "nbconvert_exporter": "python",
   "pygments_lexer": "ipython2",
   "version": "2.7.6"
  }
 },
 "nbformat": 4,
 "nbformat_minor": 5
}
