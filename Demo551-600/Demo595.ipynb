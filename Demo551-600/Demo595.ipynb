{
 "cells": [
  {
   "cell_type": "code",
   "execution_count": null,
   "id": "initial_id",
   "metadata": {
    "collapsed": true
   },
   "outputs": [],
   "source": [
    "\"\"\"\n",
    "World 表：\n",
    "\n",
    "+-------------+---------+\n",
    "| Column Name | Type    |\n",
    "+-------------+---------+\n",
    "| name        | varchar |\n",
    "| continent   | varchar |\n",
    "| area        | int     |\n",
    "| population  | int     |\n",
    "| gdp         | bigint  |\n",
    "+-------------+---------+\n",
    "name 是该表的主键（具有唯一值的列）。\n",
    "这张表的每一行提供：国家名称、所属大陆、面积、人口和 GDP 值。\n",
    " \n",
    "如果一个国家满足下述两个条件之一，则认为该国是 大国 ：\n",
    "    面积至少为 300 万平方公里（即，3000000 km2），或者\n",
    "    人口至少为 2500 万（即 25000000）\n",
    "    编写解决方案找出 大国 的国家名称、人口和面积。\n",
    "    \n",
    "按任意顺序返回结果表。\n",
    "返回结果格式如下例所示。\n",
    "\n",
    "示例：\n",
    "输入：\n",
    "World 表：\n",
    "+-------------+-----------+---------+------------+--------------+\n",
    "| name        | continent | area    | population | gdp          |\n",
    "+-------------+-----------+---------+------------+--------------+\n",
    "| Afghanistan | Asia      | 652230  | 25500100   | 20343000000  |\n",
    "| Albania     | Europe    | 28748   | 2831741    | 12960000000  |\n",
    "| Algeria     | Africa    | 2381741 | 37100000   | 188681000000 |\n",
    "| Andorra     | Europe    | 468     | 78115      | 3712000000   |\n",
    "| Angola      | Africa    | 1246700 | 20609294   | 100990000000 |\n",
    "+-------------+-----------+---------+------------+--------------+\n",
    "输出：\n",
    "+-------------+------------+---------+\n",
    "| name        | population | area    |\n",
    "+-------------+------------+---------+\n",
    "| Afghanistan | 25500100   | 652230  |\n",
    "| Algeria     | 37100000   | 2381741 |\n",
    "+-------------+------------+---------+\n",
    "\"\"\"\n",
    "import pandas as pd\n",
    "\n",
    "\n",
    "def big_countries(world: pd.DataFrame) -> pd.DataFrame:\n",
    "    res = world[(world['area']>3000000) or (world['population']>25000000)]\n",
    "    return res"
   ]
  }
 ],
 "metadata": {
  "kernelspec": {
   "display_name": "Python 3",
   "language": "python",
   "name": "python3"
  },
  "language_info": {
   "codemirror_mode": {
    "name": "ipython",
    "version": 2
   },
   "file_extension": ".py",
   "mimetype": "text/x-python",
   "name": "python",
   "nbconvert_exporter": "python",
   "pygments_lexer": "ipython2",
   "version": "2.7.6"
  }
 },
 "nbformat": 4,
 "nbformat_minor": 5
}
