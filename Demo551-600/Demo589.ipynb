{
 "cells": [
  {
   "cell_type": "code",
   "id": "initial_id",
   "metadata": {
    "collapsed": true,
    "ExecuteTime": {
     "end_time": "2025-01-07T01:34:45.183432Z",
     "start_time": "2025-01-07T01:34:45.171653Z"
    }
   },
   "source": [
    "from collections import deque\n",
    "from itertools import chain\n",
    "from typing import List, Optional\n",
    "\n",
    "\"\"\"\n",
    "给定一个 n 叉树的根节点  root ，返回 其节点值的 前序遍历 。\n",
    "n 叉树 在输入中按层序遍历进行序列化表示，每组子节点由空值 null 分隔（请参见示例）。\n",
    "\n",
    "示例 1：\n",
    "输入：root = [1,null,3,2,4,null,5,6]\n",
    "输出：[1,3,5,6,2,4]\n",
    "\n",
    "示例 2：\n",
    "输入：root = [1,null,2,3,4,5,null,null,6,7,null,8,null,9,10,null,null,11,null,12,null,13,null,null,14]\n",
    "输出：[1,2,3,6,7,11,14,4,8,12,5,9,13,10]\n",
    " \n",
    "提示：\n",
    "节点总数在范围 [0, 104]内\n",
    "0 <= Node.val <= 104\n",
    "n 叉树的高度小于或等于 1000\n",
    " \n",
    "进阶：递归法很简单，你可以使用迭代法完成此题吗?\n",
    "\"\"\"\n",
    "\n",
    "\n",
    "class Node:\n",
    "    def __init__(self, val: Optional[int] = None, children: Optional[List['Node']] = None):\n",
    "        self.val = val\n",
    "        self.children = children\n",
    "\n",
    "\n",
    "class Solution:\n",
    "    def preorder(self, root: 'Node') -> List[int]:\n",
    "        res = [root.val]\n",
    "        if root.children:\n",
    "            # res.extend(self.preorder(child) for child in root.children)\n",
    "            # self.preorder(child) for child in root.children返回的是一个嵌套列表[[]],使用chain.from_iterable展平成一维数组\n",
    "            res.extend(chain.from_iterable(self.preorder(child) for child in root.children))\n",
    "\n",
    "        return res\n",
    "\n",
    "    def preorder2(self, root: 'Node') -> List[int]:\n",
    "        if not root:\n",
    "            return []\n",
    "        res = [root.val]\n",
    "        queue = deque([root])\n",
    "        while queue:\n",
    "            node = queue.popleft()\n",
    "            # 将子节点按顺序添加到队列中\n",
    "            if node.children:\n",
    "                queue.extend(node.children)\n",
    "            # 将子节点的值添加到结果中\n",
    "            if node.children:\n",
    "                res.extend( child.val for child in node.children )\n",
    "        return res\n",
    "\n",
    "    def preorder3(self, root: 'Node') -> List[int]:\n",
    "        if root is None:\n",
    "            return []\n",
    "        \n",
    "        res = []\n",
    "        stack = [root]\n",
    "        while stack:\n",
    "            node = stack.pop()\n",
    "            res.append(node.val)\n",
    "            if node.children:\n",
    "                stack.extend(node.children[::-1])\n",
    "        \n",
    "        return res\n",
    "\n",
    "\n",
    "solution = Solution()\n",
    "node1 = Node(1)\n",
    "node2 = Node(2)\n",
    "node3 = Node(3)\n",
    "node4 = Node(4)\n",
    "node5 = Node(5)\n",
    "node6 = Node(6)\n",
    "node1.children = [node2, node3, node4, node5, node6]\n",
    "print(solution.preorder2(node1))"
   ],
   "outputs": [
    {
     "name": "stdout",
     "output_type": "stream",
     "text": [
      "[1, 2, 3, 4, 5, 6]\n"
     ]
    }
   ],
   "execution_count": 37
  }
 ],
 "metadata": {
  "kernelspec": {
   "display_name": "Python 3",
   "language": "python",
   "name": "python3"
  },
  "language_info": {
   "codemirror_mode": {
    "name": "ipython",
    "version": 2
   },
   "file_extension": ".py",
   "mimetype": "text/x-python",
   "name": "python",
   "nbconvert_exporter": "python",
   "pygments_lexer": "ipython2",
   "version": "2.7.6"
  }
 },
 "nbformat": 4,
 "nbformat_minor": 5
}
