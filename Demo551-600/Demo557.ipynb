{
 "cells": [
  {
   "cell_type": "code",
   "id": "initial_id",
   "metadata": {
    "collapsed": true,
    "ExecuteTime": {
     "end_time": "2025-01-06T10:14:08.757646Z",
     "start_time": "2025-01-06T10:14:08.743383Z"
    }
   },
   "source": [
    "\"\"\"\n",
    "给定一个字符串 s ，你需要反转字符串中每个单词的字符顺序，同时仍保留空格和单词的初始顺序。\n",
    "\n",
    "示例 1：\n",
    "输入：s = \"Let's take LeetCode contest\"\n",
    "输出：\"s'teL ekat edoCteeL tsetnoc\"\n",
    "\n",
    "示例 2:\n",
    "输入： s = \"Mr Ding\"\n",
    "输出：\"rM gniD\"\n",
    " \n",
    "提示：\n",
    "1 <= s.length <= 5 * 104\n",
    "s 包含可打印的 ASCII 字符。\n",
    "s 不包含任何开头或结尾空格。\n",
    "s 里 至少 有一个词。\n",
    "s 中的所有单词都用一个空格隔开。\n",
    "\"\"\"\n",
    "\n",
    "\n",
    "class Solution:\n",
    "    def reverseWords(self, s: str) -> str:\n",
    "        start, end = 0, 0\n",
    "\n",
    "        while end < len(s):\n",
    "            while end < len(s) and s[end] != ' ':\n",
    "                end += 1\n",
    "            s = s[0:start] + s[start:end][::-1] + s[end:]\n",
    "            end += 1\n",
    "            start = end\n",
    "            \n",
    "        return s\n",
    "    \n",
    "    def reverseWords2(self, s: str) -> str:\n",
    "        \n",
    "        return ' '.join(s.split()[::-1])[::-1]\n",
    "\n",
    "solution = Solution()\n",
    "print(solution.reverseWords2(\"Let's take LeetCode contest\"))"
   ],
   "outputs": [
    {
     "name": "stdout",
     "output_type": "stream",
     "text": [
      "s'teL ekat edoCteeL tsetnoc\n"
     ]
    }
   ],
   "execution_count": 13
  }
 ],
 "metadata": {
  "kernelspec": {
   "display_name": "Python 3",
   "language": "python",
   "name": "python3"
  },
  "language_info": {
   "codemirror_mode": {
    "name": "ipython",
    "version": 2
   },
   "file_extension": ".py",
   "mimetype": "text/x-python",
   "name": "python",
   "nbconvert_exporter": "python",
   "pygments_lexer": "ipython2",
   "version": "2.7.6"
  }
 },
 "nbformat": 4,
 "nbformat_minor": 5
}
