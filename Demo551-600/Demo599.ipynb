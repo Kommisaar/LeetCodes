{
 "cells": [
  {
   "cell_type": "code",
   "id": "initial_id",
   "metadata": {
    "collapsed": true,
    "ExecuteTime": {
     "end_time": "2025-01-07T07:27:42.401110Z",
     "start_time": "2025-01-07T07:27:42.372263Z"
    }
   },
   "source": [
    "from typing import List\n",
    "\n",
    "\"\"\"\n",
    "假设 Andy 和 Doris 想在晚餐时选择一家餐厅，并且他们都有一个表示最喜爱餐厅的列表，每个餐厅的名字用字符串表示。\n",
    "你需要帮助他们用最少的索引和找出他们共同喜爱的餐厅。 如果答案不止一个，则输出所有答案并且不考虑顺序。 你可以假设答案总是存在。\n",
    "\n",
    "示例 1:\n",
    "输入: list1 = [\"Shogun\", \"Tapioca Express\", \"Burger King\", \"KFC\"]，list2 = [\"Piatti\", \"The Grill at Torrey Pines\", \"Hungry Hunter Steakhouse\", \"Shogun\"]\n",
    "输出: [\"Shogun\"]\n",
    "解释: 他们唯一共同喜爱的餐厅是“Shogun”。\n",
    "\n",
    "示例 2:\n",
    "输入:list1 = [\"Shogun\", \"Tapioca Express\", \"Burger King\", \"KFC\"]，list2 = [\"KFC\", \"Shogun\", \"Burger King\"]\n",
    "输出: [\"Shogun\"]\n",
    "解释: 他们共同喜爱且具有最小索引和的餐厅是“Shogun”，它有最小的索引和1(0+1)。\n",
    "\n",
    "提示:\n",
    "1 <= list1.length, list2.length <= 1000\n",
    "1 <= list1[i].length, list2[i].length <= 30 \n",
    "list1[i] 和 list2[i] 由空格 ' ' 和英文字母组成。\n",
    "list1 的所有字符串都是 唯一 的。\n",
    "list2 中的所有字符串都是 唯一 的。\n",
    "\"\"\"\n",
    "\n",
    "\n",
    "class Solution:\n",
    "    def findRestaurant(self, list1: List[str], list2: List[str]) -> List[str]:\n",
    "        min_index_sum = len(list1) + len(list2) - 2\n",
    "\n",
    "        res = []\n",
    "        for i in range(len(list1)):\n",
    "            for j in range(len(list2)):\n",
    "                if i + j > min_index_sum:\n",
    "                    break\n",
    "                if list1[i] == list2[j]:\n",
    "                    if min_index_sum > min(min_index_sum, i + j):\n",
    "                        min_index_sum = min(min_index_sum, i + j)\n",
    "                        res.clear()\n",
    "                    res.append(list1[i])     \n",
    "        \n",
    "        return res\n",
    "    \n",
    "    def findRestaurant2(self, list1: List[str], list2: List[str]) -> List[str]:\n",
    "        # 将列表转换为字典，存储餐厅名称及其索引\n",
    "        d1 = {restaurant: idx for idx, restaurant in enumerate(list1)}\n",
    "        d2 = {restaurant: idx for idx, restaurant in enumerate(list2)}\n",
    "\n",
    "        # 找到两个字典的公共键（即两个列表中都存在的餐厅）\n",
    "        common_restaurants = d1.keys() & d2.keys()\n",
    "\n",
    "        # 如果没有公共餐厅，直接返回空列表\n",
    "        if not common_restaurants:\n",
    "            return []\n",
    "\n",
    "        # 找到公共餐厅中索引和最小的餐厅\n",
    "        min_restaurant = min(common_restaurants, key=lambda x: d1[x] + d2[x])\n",
    "\n",
    "        # 计算最小索引和\n",
    "        min_index_sum = d1[min_restaurant] + d2[min_restaurant]\n",
    "\n",
    "        # 返回所有索引和等于最小索引和的餐厅\n",
    "        return [restaurant for restaurant in common_restaurants if d1[restaurant] + d2[restaurant] == min_index_sum]\n",
    "        \n",
    "                 \n",
    "list1 = [\"Shogun\", \"Burger King\", \"KFC\"]\n",
    "list2 = [\"KFC\", \"Shogun\", \"Burger King\"]\n",
    "\n",
    "print(Solution().findRestaurant2(list1, list2))\n",
    "        "
   ],
   "outputs": [
    {
     "ename": "AttributeError",
     "evalue": "'set' object has no attribute 'keys'",
     "output_type": "error",
     "traceback": [
      "\u001B[1;31m---------------------------------------------------------------------------\u001B[0m",
      "\u001B[1;31mAttributeError\u001B[0m                            Traceback (most recent call last)",
      "Cell \u001B[1;32mIn[5], line 58\u001B[0m\n\u001B[0;32m     55\u001B[0m list1 \u001B[38;5;241m=\u001B[39m [\u001B[38;5;124m\"\u001B[39m\u001B[38;5;124mShogun\u001B[39m\u001B[38;5;124m\"\u001B[39m, \u001B[38;5;124m\"\u001B[39m\u001B[38;5;124mBurger King\u001B[39m\u001B[38;5;124m\"\u001B[39m, \u001B[38;5;124m\"\u001B[39m\u001B[38;5;124mKFC\u001B[39m\u001B[38;5;124m\"\u001B[39m]\n\u001B[0;32m     56\u001B[0m list2 \u001B[38;5;241m=\u001B[39m [\u001B[38;5;124m\"\u001B[39m\u001B[38;5;124mKFC\u001B[39m\u001B[38;5;124m\"\u001B[39m, \u001B[38;5;124m\"\u001B[39m\u001B[38;5;124mShogun\u001B[39m\u001B[38;5;124m\"\u001B[39m, \u001B[38;5;124m\"\u001B[39m\u001B[38;5;124mBurger King\u001B[39m\u001B[38;5;124m\"\u001B[39m]\n\u001B[1;32m---> 58\u001B[0m \u001B[38;5;28mprint\u001B[39m(\u001B[43mSolution\u001B[49m\u001B[43m(\u001B[49m\u001B[43m)\u001B[49m\u001B[38;5;241;43m.\u001B[39;49m\u001B[43mfindRestaurant2\u001B[49m\u001B[43m(\u001B[49m\u001B[43mlist1\u001B[49m\u001B[43m,\u001B[49m\u001B[43m \u001B[49m\u001B[43mlist2\u001B[49m\u001B[43m)\u001B[49m)\n",
      "Cell \u001B[1;32mIn[5], line 50\u001B[0m, in \u001B[0;36mSolution.findRestaurant2\u001B[1;34m(self, list1, list2)\u001B[0m\n\u001B[0;32m     43\u001B[0m \u001B[38;5;28;01mdef\u001B[39;00m \u001B[38;5;21mfindRestaurant2\u001B[39m(\u001B[38;5;28mself\u001B[39m, list1: List[\u001B[38;5;28mstr\u001B[39m], list2: List[\u001B[38;5;28mstr\u001B[39m]) \u001B[38;5;241m-\u001B[39m\u001B[38;5;241m>\u001B[39m List[\u001B[38;5;28mstr\u001B[39m]:\n\u001B[0;32m     44\u001B[0m     dict1,dict2 \u001B[38;5;241m=\u001B[39m {i \u001B[38;5;28;01mfor\u001B[39;00m i \u001B[38;5;129;01min\u001B[39;00m list1},{i \u001B[38;5;28;01mfor\u001B[39;00m i \u001B[38;5;129;01min\u001B[39;00m list2}\n\u001B[0;32m     46\u001B[0m     \u001B[38;5;28;01mreturn\u001B[39;00m (\n\u001B[0;32m     47\u001B[0m     \u001B[38;5;66;03m# 返回所有公共键中值之和等于 `v` 的键列表\u001B[39;00m\n\u001B[0;32m     48\u001B[0m     [c \u001B[38;5;28;01mfor\u001B[39;00m c \u001B[38;5;129;01min\u001B[39;00m dict1\u001B[38;5;241m.\u001B[39mkeys() \u001B[38;5;241m&\u001B[39m dict2\u001B[38;5;241m.\u001B[39mkeys() \u001B[38;5;28;01mif\u001B[39;00m dict1[c] \u001B[38;5;241m+\u001B[39m dict2[c] \u001B[38;5;241m==\u001B[39m v]\n\u001B[0;32m     49\u001B[0m     \u001B[38;5;66;03m# 检查是否存在最小键 `k`，并且其值之和 `v` 是否 >= 0\u001B[39;00m\n\u001B[1;32m---> 50\u001B[0m     \u001B[38;5;28;01mif\u001B[39;00m (k \u001B[38;5;241m:=\u001B[39m \u001B[38;5;28mmin\u001B[39m(\u001B[43mdict1\u001B[49m\u001B[38;5;241;43m.\u001B[39;49m\u001B[43mkeys\u001B[49m() \u001B[38;5;241m&\u001B[39m dict2\u001B[38;5;241m.\u001B[39mkeys(), key\u001B[38;5;241m=\u001B[39m\u001B[38;5;28;01mlambda\u001B[39;00m x: dict1[x] \u001B[38;5;241m+\u001B[39m dict2[x])) \u001B[38;5;129;01mand\u001B[39;00m (v \u001B[38;5;241m:=\u001B[39m dict1[k] \u001B[38;5;241m+\u001B[39m dict2[k]) \u001B[38;5;241m>\u001B[39m\u001B[38;5;241m=\u001B[39m \u001B[38;5;241m0\u001B[39m\n\u001B[0;32m     51\u001B[0m     \u001B[38;5;66;03m# 否则返回空列表\u001B[39;00m\n\u001B[0;32m     52\u001B[0m     \u001B[38;5;28;01melse\u001B[39;00m []\n\u001B[0;32m     53\u001B[0m )\n",
      "\u001B[1;31mAttributeError\u001B[0m: 'set' object has no attribute 'keys'"
     ]
    }
   ],
   "execution_count": 5
  }
 ],
 "metadata": {
  "kernelspec": {
   "display_name": "Python 3",
   "language": "python",
   "name": "python3"
  },
  "language_info": {
   "codemirror_mode": {
    "name": "ipython",
    "version": 2
   },
   "file_extension": ".py",
   "mimetype": "text/x-python",
   "name": "python",
   "nbconvert_exporter": "python",
   "pygments_lexer": "ipython2",
   "version": "2.7.6"
  }
 },
 "nbformat": 4,
 "nbformat_minor": 5
}
