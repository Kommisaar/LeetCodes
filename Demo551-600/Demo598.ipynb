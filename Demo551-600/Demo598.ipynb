{
 "cells": [
  {
   "cell_type": "code",
   "execution_count": null,
   "id": "initial_id",
   "metadata": {
    "collapsed": true
   },
   "outputs": [],
   "source": [
    "from typing import List\n",
    "\n",
    "\"\"\"\n",
    "给你一个 m x n 的矩阵 M 和一个操作数组 op 。矩阵初始化时所有的单元格都为 0 。ops[i] = [ai, bi] 意味着当所有的 0 <= x < ai 和 0 <= y < bi 时， M[x][y] 应该加 1。\n",
    "在 执行完所有操作后 ，计算并返回 矩阵中最大整数的个数 。\n",
    "\n",
    "示例 1:\n",
    "输入: m = 3, n = 3，ops = [[2,2],[3,3]]\n",
    "输出: 4\n",
    "解释: M 中最大的整数是 2, 而且 M 中有4个值为2的元素。因此返回 4。\n",
    "\n",
    "示例 2:\n",
    "输入: m = 3, n = 3, ops = [[2,2],[3,3],[3,3],[3,3],[2,2],[3,3],[3,3],[3,3],[2,2],[3,3],[3,3],[3,3]]\n",
    "输出: 4\n",
    "\n",
    "示例 3:\n",
    "输入: m = 3, n = 3, ops = []\n",
    "输出: 9\n",
    "\n",
    "提示:\n",
    "1 <= m, n <= 4 * 104\n",
    "0 <= ops.length <= 104\n",
    "ops[i].length == 2\n",
    "1 <= ai <= m\n",
    "1 <= bi <= n\n",
    "\"\"\"\n",
    "\n",
    "\n",
    "class Solution:\n",
    "    def maxCount(self, m: int, n: int, ops: List[List[int]]) -> int:\n",
    "        return m * n if not ops else min((z := list(zip(*ops)))[0]) * min(z[1])\n",
    "        "
   ]
  }
 ],
 "metadata": {
  "kernelspec": {
   "display_name": "Python 3",
   "language": "python",
   "name": "python3"
  },
  "language_info": {
   "codemirror_mode": {
    "name": "ipython",
    "version": 2
   },
   "file_extension": ".py",
   "mimetype": "text/x-python",
   "name": "python",
   "nbconvert_exporter": "python",
   "pygments_lexer": "ipython2",
   "version": "2.7.6"
  }
 },
 "nbformat": 4,
 "nbformat_minor": 5
}
