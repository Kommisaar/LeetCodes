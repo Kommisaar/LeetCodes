{
 "cells": [
  {
   "cell_type": "code",
   "id": "initial_id",
   "metadata": {
    "collapsed": true,
    "ExecuteTime": {
     "end_time": "2025-01-07T08:46:10.147622Z",
     "start_time": "2025-01-07T08:46:10.138977Z"
    }
   },
   "source": [
    "from typing import List, Optional\n",
    "\n",
    "\"\"\"\n",
    "给定一个 n 叉树的根节点 root ，返回 其节点值的 后序遍历 。\n",
    "\n",
    "n 叉树 在输入中按层序遍历进行序列化表示，每组子节点由空值 null 分隔（请参见示例）。\n",
    "\n",
    "示例 1：\n",
    "输入：root = [1,null,3,2,4,null,5,6]\n",
    "输出：[5,6,3,2,4,1]\n",
    "\n",
    "示例 2：\n",
    "输入：root = [1,null,2,3,4,5,null,null,6,7,null,8,null,9,10,null,null,11,null,12,null,13,null,null,14]\n",
    "输出：[2,6,14,11,7,3,12,8,4,13,9,10,5,1]\n",
    " \n",
    "\n",
    "提示：\n",
    "节点总数在范围 [0, 104] 内\n",
    "0 <= Node.val <= 104\n",
    "n 叉树的高度小于或等于 1000\n",
    "\n",
    "进阶：递归法很简单，你可以使用迭代法完成此题吗?\n",
    "\"\"\"\n",
    "\n",
    "\n",
    "class Node:\n",
    "    def __init__(self, val: Optional[int] = None, children: Optional[List['Node']] = None):\n",
    "        self.val = val\n",
    "        self.children = children\n",
    "\n",
    "\n",
    "class Solution:\n",
    "    def postorder(self, root: 'Node') -> List[int]:\n",
    "        if not root:\n",
    "            return []\n",
    "        \n",
    "        stack1 = [root]\n",
    "        stack2 = []\n",
    "        res = []\n",
    "        \n",
    "        while stack1:\n",
    "            node = stack1.pop()\n",
    "            stack2.append(node) #压入stack2\n",
    "            if node.children:   #注意这里是最右节点在栈顶，压入stack2的时候才会是栈底\n",
    "                stack1.extend(node.children)\n",
    "        \n",
    "        while stack2:\n",
    "            node = stack2.pop()\n",
    "            res.append(node.val)\n",
    "        \n",
    "        return res\n",
    "\n",
    "solution = Solution()\n",
    "node1 = Node(1)\n",
    "node2 = Node(2)\n",
    "node3 = Node(3)\n",
    "node4 = Node(4)\n",
    "node5 = Node(5)\n",
    "node6 = Node(6)\n",
    "node1.children = [node2, node3, node4, node5, node6]\n",
    "print(solution.postorder(node1))"
   ],
   "outputs": [
    {
     "name": "stdout",
     "output_type": "stream",
     "text": [
      "[2, 3, 4, 5, 6, 1]\n"
     ]
    }
   ],
   "execution_count": 11
  }
 ],
 "metadata": {
  "kernelspec": {
   "display_name": "Python 3",
   "language": "python",
   "name": "python3"
  },
  "language_info": {
   "codemirror_mode": {
    "name": "ipython",
    "version": 2
   },
   "file_extension": ".py",
   "mimetype": "text/x-python",
   "name": "python",
   "nbconvert_exporter": "python",
   "pygments_lexer": "ipython2",
   "version": "2.7.6"
  }
 },
 "nbformat": 4,
 "nbformat_minor": 5
}
