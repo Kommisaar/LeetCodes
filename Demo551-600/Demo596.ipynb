{
 "cells": [
  {
   "cell_type": "code",
   "id": "initial_id",
   "metadata": {
    "collapsed": true,
    "ExecuteTime": {
     "end_time": "2025-01-07T05:01:15.694567Z",
     "start_time": "2025-01-07T05:01:15.671553Z"
    }
   },
   "source": [
    "\"\"\"\n",
    "表: Courses\n",
    "+-------------+---------+\n",
    "| Column Name | Type    |\n",
    "+-------------+---------+\n",
    "| student     | varchar |\n",
    "| class       | varchar |\n",
    "+-------------+---------+\n",
    "(student, class)是该表的主键（不同值的列的组合）。\n",
    "该表的每一行表示学生的名字和他们注册的班级。\n",
    "\n",
    "查询 至少有 5 个学生 的所有班级。\n",
    "以 任意顺序 返回结果表。\n",
    "结果格式如下所示。\n",
    "\n",
    "示例 1:\n",
    "输入: \n",
    "Courses table:\n",
    "+---------+----------+\n",
    "| student | class    |\n",
    "+---------+----------+\n",
    "| A       | Math     |\n",
    "| B       | English  |\n",
    "| C       | Math     |\n",
    "| D       | Biology  |\n",
    "| E       | Math     |\n",
    "| F       | Computer |\n",
    "| G       | Math     |\n",
    "| H       | Math     |\n",
    "| I       | Math     |\n",
    "+---------+----------+\n",
    "输出: \n",
    "+---------+ \n",
    "| class   | \n",
    "+---------+ \n",
    "| Math    | \n",
    "+---------+\n",
    "解释: \n",
    "-数学课有 6 个学生，所以我们包括它。\n",
    "-英语课有 1 名学生，所以我们不包括它。\n",
    "-生物课有 1 名学生，所以我们不包括它。\n",
    "-计算机课有 1 个学生，所以我们不包括它。\n",
    "\"\"\"\n",
    "import pandas as pd\n",
    "\n",
    "\n",
    "def find_classes(courses: pd.DataFrame) -> pd.DataFrame:\n",
    "    courses = courses.groupby(['class']).count()\n",
    "    return pd.DataFrame(courses[courses['student'] >= 5].reset_index()['class'])\n",
    "\n",
    "\n",
    "courses = pd.DataFrame(data=[['A', '']], columns=['student', 'class'])\n",
    "classes = find_classes(courses)\n",
    "print(classes)"
   ],
   "outputs": [
    {
     "name": "stdout",
     "output_type": "stream",
     "text": [
      "<class 'pandas.core.frame.DataFrame'>\n"
     ]
    }
   ],
   "execution_count": 24
  }
 ],
 "metadata": {
  "kernelspec": {
   "display_name": "Python 3",
   "language": "python",
   "name": "python3"
  },
  "language_info": {
   "codemirror_mode": {
    "name": "ipython",
    "version": 2
   },
   "file_extension": ".py",
   "mimetype": "text/x-python",
   "name": "python",
   "nbconvert_exporter": "python",
   "pygments_lexer": "ipython2",
   "version": "2.7.6"
  }
 },
 "nbformat": 4,
 "nbformat_minor": 5
}
