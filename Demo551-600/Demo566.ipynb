{
 "cells": [
  {
   "cell_type": "code",
   "id": "initial_id",
   "metadata": {
    "collapsed": true,
    "ExecuteTime": {
     "end_time": "2025-01-06T14:22:52.395914Z",
     "start_time": "2025-01-06T14:22:52.382199Z"
    }
   },
   "source": [
    "from typing import List\n",
    "\n",
    "\"\"\"\n",
    "在 MATLAB 中，有一个非常有用的函数 reshape ，它可以将一个 m x n 矩阵重塑为另一个大小不同（r x c）的新矩阵，但保留其原始数据。\n",
    "给你一个由二维数组 mat 表示的 m x n 矩阵，以及两个正整数 r 和 c ，分别表示想要的重构的矩阵的行数和列数。\n",
    "重构后的矩阵需要将原始矩阵的所有元素以相同的 行遍历顺序 填充。\n",
    "如果具有给定参数的 reshape 操作是可行且合理的，则输出新的重塑矩阵；否则，输出原始矩阵。\n",
    "\n",
    "示例 1：\n",
    "输入：mat = [[1,2],[3,4]], r = 1, c = 4\n",
    "输出：[[1,2,3,4]]\n",
    "\n",
    "示例 2：\n",
    "输入：mat = [[1,2],[3,4]], r = 2, c = 4\n",
    "输出：[[1,2],[3,4]]\n",
    "\n",
    "提示：\n",
    "m == mat.length\n",
    "n == mat[i].length\n",
    "1 <= m, n <= 100\n",
    "-1000 <= mat[i][j] <= 1000\n",
    "1 <= r, c <= 300\n",
    "\"\"\"\n",
    "\n",
    "\n",
    "class Solution:\n",
    "    def matrixReshape(self, mat: List[List[int]], r: int, c: int) -> List[List[int]]:\n",
    "        if len(mat) * len(mat[0]) != r * c:\n",
    "            return mat\n",
    "\n",
    "        new_mat = [[0 for _ in range(c)] for _ in range(r)]\n",
    "        x = 0\n",
    "        y = 0\n",
    "        for i in range(len(new_mat)):\n",
    "            for j in range(len(new_mat[0])):\n",
    "                print(x,y)\n",
    "                new_mat[i][j] = mat[x][y]\n",
    "\n",
    "                y += 1\n",
    "                if y > len(mat[0]) - 1:\n",
    "                    x += 1\n",
    "                    y = 0\n",
    "                # print(new_mat)\n",
    "\n",
    "        return new_mat\n",
    "    \n",
    "    \n",
    "    def matrixReshape2(self, mat: List[List[int]], r: int, c: int) -> List[List[int]]:\n",
    "        m, n = len(mat), len(mat[0])  # 原矩阵的行数和列数\n",
    "        if m * n != r * c:  # 如果元素总数不匹配，直接返回原矩阵\n",
    "            return mat\n",
    "    \n",
    "        # 将原矩阵展开为一维列表\n",
    "        flat = [elem for row in mat for elem in row]\n",
    "        \n",
    "        # 将一维列表重塑为 r x c 的新矩阵\n",
    "        new_mat = [flat[i * c:(i + 1) * c] for i in range(r)]\n",
    "        \n",
    "        return new_mat\n",
    "    \n",
    "    def matrixReshape3(self, mat: List[List[int]], r: int, c: int) -> List[List[int]]:\n",
    "        m, n = len(mat), len(mat[0])\n",
    "        if m*n != r*c:\n",
    "            return mat\n",
    "        \n",
    "        ans = [[0] * c for _ in range(r)]\n",
    "        for x in range(m*n):\n",
    "            ans[x // c][x % c] = mat[x // n][x % n]\n",
    "        return ans\n",
    "\n",
    "\n",
    "solution = Solution()\n",
    "print(solution.matrixReshape2([[1, 2, 3, 4]], r=2, c=2))"
   ],
   "outputs": [
    {
     "name": "stdout",
     "output_type": "stream",
     "text": [
      "[[1, 2], [3, 4]]\n"
     ]
    }
   ],
   "execution_count": 41
  }
 ],
 "metadata": {
  "kernelspec": {
   "display_name": "Python 3",
   "language": "python",
   "name": "python3"
  },
  "language_info": {
   "codemirror_mode": {
    "name": "ipython",
    "version": 2
   },
   "file_extension": ".py",
   "mimetype": "text/x-python",
   "name": "python",
   "nbconvert_exporter": "python",
   "pygments_lexer": "ipython2",
   "version": "2.7.6"
  }
 },
 "nbformat": 4,
 "nbformat_minor": 5
}
