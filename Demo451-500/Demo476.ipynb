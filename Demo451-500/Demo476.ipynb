{
 "cells": [
  {
   "cell_type": "code",
   "id": "initial_id",
   "metadata": {
    "collapsed": true,
    "ExecuteTime": {
     "end_time": "2025-01-03T05:38:00.098514Z",
     "start_time": "2025-01-03T05:38:00.092403Z"
    }
   },
   "source": [
    "\"\"\"\n",
    "对整数的二进制表示取反（0 变 1 ，1 变 0）后，再转换为十进制表示，可以得到这个整数的补数。\n",
    "例如，整数 5 的二进制表示是 \"101\" ，取反后得到 \"010\" ，再转回十进制表示得到补数 2 。\n",
    "给你一个整数 num ，输出它的补数。\n",
    "\n",
    " \n",
    "\n",
    "示例 1：\n",
    "输入：num = 5\n",
    "输出：2\n",
    "解释：5 的二进制表示为 101（没有前导零位），其补数为 010。所以你需要输出 2 。\n",
    "\n",
    "示例 2：\n",
    "输入：num = 1\n",
    "输出：0\n",
    "解释：1 的二进制表示为 1（没有前导零位），其补数为 0。所以你需要输出 0 。\n",
    "\"\"\"\n",
    "\n",
    "\n",
    "class Solution:\n",
    "    def findComplement(self, num: int) -> int:\n",
    "        \"\"\"字符串操作\"\"\"\n",
    "        b_list = list(bin(num)[2:])\n",
    "        for i in range(len(b_list)):\n",
    "            if b_list[i] == '0':\n",
    "                b_list[i] = '1'\n",
    "            else:\n",
    "                b_list[i] = '0'\n",
    "        print(b_list)\n",
    "        return int(''.join(b_list),2)\n",
    "    \n",
    "    def findComplement2(self,num:int) -> int:\n",
    "        \"\"\"取反操作符\"\"\"\n",
    "        return ~num & ((1 << num.bit_length()) - 1)\n",
    "    \n",
    "    def findComplement3(self,num:int) -> int:\n",
    "        \"\"\"掩码和位运算\"\"\"\n",
    "        mask = (1 << num.bit_length()) - 1  # 创建一个掩码，保留有效位\n",
    "        return num ^ mask  # 使用异或操作实现取反\n",
    "    \n",
    "    def findComplement4(self,num:int) -> int:\n",
    "        \"\"\"maketrans方法\"\"\"\n",
    "        binary_str = bin(num)[2:]  # 获取二进制字符串（去掉 '0b' 前缀）\n",
    "        inverted_str = binary_str.translate(str.maketrans('01', '10'))  # 快速替换\n",
    "        return int(inverted_str, 2)\n",
    "\n",
    "print(Solution.findComplement(Solution(), 5))"
   ],
   "outputs": [
    {
     "name": "stdout",
     "output_type": "stream",
     "text": [
      "['0', '1', '0']\n",
      "2\n"
     ]
    }
   ],
   "execution_count": 25
  }
 ],
 "metadata": {
  "kernelspec": {
   "display_name": "Python 3",
   "language": "python",
   "name": "python3"
  },
  "language_info": {
   "codemirror_mode": {
    "name": "ipython",
    "version": 2
   },
   "file_extension": ".py",
   "mimetype": "text/x-python",
   "name": "python",
   "nbconvert_exporter": "python",
   "pygments_lexer": "ipython2",
   "version": "2.7.6"
  }
 },
 "nbformat": 4,
 "nbformat_minor": 5
}
