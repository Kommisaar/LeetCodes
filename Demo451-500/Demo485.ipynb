{
 "cells": [
  {
   "cell_type": "code",
   "id": "initial_id",
   "metadata": {
    "collapsed": true,
    "ExecuteTime": {
     "end_time": "2025-01-03T06:13:16.208909Z",
     "start_time": "2025-01-03T06:13:16.197004Z"
    }
   },
   "source": [
    "from typing import List\n",
    "\n",
    "\"\"\"\n",
    "给定一个二进制数组 nums ， 计算其中最大连续 1 的个数。\n",
    "\n",
    " \n",
    "\n",
    "示例 1：\n",
    "输入：nums = [1,1,0,1,1,1]\n",
    "输出：3\n",
    "解释：开头的两位和最后的三位都是连续 1 ，所以最大连续 1 的个数是 3.\n",
    "\n",
    "示例 2:\n",
    "输入：nums = [1,0,1,1,0,1]\n",
    "输出：2\n",
    "\"\"\"\n",
    "\n",
    "\n",
    "class Solution:\n",
    "    def findMaxConsecutiveOnes(self, nums: List[int]) -> int:\n",
    "        max_len = 0\n",
    "        cur_len = 0\n",
    "        for i in range(len(nums)):\n",
    "            if nums[i] == 1:\n",
    "                cur_len += 1\n",
    "                max_len = max(cur_len, max_len)\n",
    "            else:\n",
    "                cur_len = 0\n",
    "        return max_len\n",
    "\n",
    "\n",
    "print(Solution.findMaxConsecutiveOnes(Solution(), [1, 1, 0, 1, 1, 1]))"
   ],
   "outputs": [
    {
     "name": "stdout",
     "output_type": "stream",
     "text": [
      "3\n"
     ]
    }
   ],
   "execution_count": 1
  }
 ],
 "metadata": {
  "kernelspec": {
   "display_name": "Python 3",
   "language": "python",
   "name": "python3"
  },
  "language_info": {
   "codemirror_mode": {
    "name": "ipython",
    "version": 2
   },
   "file_extension": ".py",
   "mimetype": "text/x-python",
   "name": "python",
   "nbconvert_exporter": "python",
   "pygments_lexer": "ipython2",
   "version": "2.7.6"
  }
 },
 "nbformat": 4,
 "nbformat_minor": 5
}
