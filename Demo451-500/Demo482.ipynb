{
 "cells": [
  {
   "cell_type": "code",
   "id": "initial_id",
   "metadata": {
    "collapsed": true,
    "ExecuteTime": {
     "end_time": "2025-01-03T06:04:52.919106Z",
     "start_time": "2025-01-03T06:04:52.904235Z"
    }
   },
   "source": [
    "\"\"\"\n",
    "给定一个许可密钥字符串 s，仅由字母、数字字符和破折号组成。字符串由 n 个破折号分成 n + 1 组。你也会得到一个整数 k 。\n",
    "我们想要重新格式化字符串 s，使每一组包含 k 个字符，除了第一组，它可以比 k 短，但仍然必须包含至少一个字符。此外，两组之间必须插入破折号，并且应该将所有小写字母转换为大写字母。\n",
    "返回 重新格式化的许可密钥 。\n",
    "\n",
    "示例 1：\n",
    "输入：S = \"5F3Z-2e-9-w\", k = 4\n",
    "输出：\"5F3Z-2E9W\"\n",
    "解释：字符串 S 被分成了两个部分，每部分 4 个字符；\n",
    "     注意，两个额外的破折号需要删掉。\n",
    "     \n",
    "示例 2：\n",
    "输入：S = \"2-5g-3-J\", k = 2\n",
    "输出：\"2-5G-3J\"\n",
    "解释：字符串 S 被分成了 3 个部分，按照前面的规则描述，第一部分的字符可以少于给定的数量，其余部分皆为 2 个字符。\n",
    "\"\"\"\n",
    "\n",
    "\n",
    "class Solution:\n",
    "    def licenseKeyFormatting(self, s: str, k: int) -> str:\n",
    "        # 移除所有 '-' 并转换为大写\n",
    "        s = s.replace('-', '').upper()\n",
    "        n = len(s)\n",
    "        # 计算第一个分组的长度\n",
    "        rest = n % k\n",
    "        # 构建结果列表\n",
    "        res = []\n",
    "        # 添加第一个分组\n",
    "        if rest:\n",
    "            res.append(s[:rest])\n",
    "        # 添加剩余分组\n",
    "        for i in range(rest, n, k):\n",
    "            res.append(s[i:i + k])\n",
    "        # 用 '-' 连接分组\n",
    "        return '-'.join(res)\n",
    "\n",
    "\n",
    "print(Solution.licenseKeyFormatting(Solution(), '-', 3))"
   ],
   "outputs": [
    {
     "name": "stdout",
     "output_type": "stream",
     "text": [
      "-\n"
     ]
    }
   ],
   "execution_count": 38
  }
 ],
 "metadata": {
  "kernelspec": {
   "display_name": "Python 3",
   "language": "python",
   "name": "python3"
  },
  "language_info": {
   "codemirror_mode": {
    "name": "ipython",
    "version": 2
   },
   "file_extension": ".py",
   "mimetype": "text/x-python",
   "name": "python",
   "nbconvert_exporter": "python",
   "pygments_lexer": "ipython2",
   "version": "2.7.6"
  }
 },
 "nbformat": 4,
 "nbformat_minor": 5
}
