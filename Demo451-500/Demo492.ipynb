{
 "cells": [
  {
   "cell_type": "code",
   "id": "initial_id",
   "metadata": {
    "collapsed": true,
    "ExecuteTime": {
     "end_time": "2025-01-03T06:26:06.468462Z",
     "start_time": "2025-01-03T06:26:06.453173Z"
    }
   },
   "source": [
    "from typing import List\n",
    "\n",
    "\"\"\"\n",
    "作为一位web开发者， 懂得怎样去规划一个页面的尺寸是很重要的。 所以，现给定一个具体的矩形页面面积，你的任务是设计一个长度为 L 和宽度为 W 且满足以下要求的矩形的页面。要求：\n",
    "你设计的矩形页面必须等于给定的目标面积。\n",
    "宽度 W 不应大于长度 L ，换言之，要求 L >= W 。\n",
    "长度 L 和宽度 W 之间的差距应当尽可能小。\n",
    "返回一个 数组 [L, W]，其中 L 和 W 是你按照顺序设计的网页的长度和宽度。\n",
    " \n",
    "示例1：\n",
    "输入: 4\n",
    "输出: [2, 2]\n",
    "解释: 目标面积是 4， 所有可能的构造方案有 [1,4], [2,2], [4,1]。\n",
    "但是根据要求2，[1,4] 不符合要求; 根据要求3，[2,2] 比 [4,1] 更能符合要求. 所以输出长度 L 为 2， 宽度 W 为 2。\n",
    "\n",
    "示例 2:\n",
    "输入: area = 37\n",
    "输出: [37,1]\n",
    "\n",
    "示例 3:\n",
    "输入: area = 122122\n",
    "输出: [427,286]\n",
    "\"\"\"\n",
    "\n",
    "\n",
    "class Solution:\n",
    "    def constructRectangle(self, area: int) -> List[int]:\n",
    "        if area == 0: return []\n",
    "        possible = [i for i in range(1, int(area ** 0.5) + 1) if area % i == 0]\n",
    "        return [area // possible[-1], possible[-1], ]\n",
    "    \n",
    "    def constructRectangle2(self, area: int) -> List[int]:\n",
    "        if area == 0:\n",
    "            return []\n",
    "        # 从 sqrt(area) 向下遍历，找到第一个满足条件的宽度\n",
    "        for width in range(int(math.sqrt(area)), 0, -1):\n",
    "            if area % width == 0:\n",
    "                return [area // width, width]\n",
    "        return [area, 1]  # 如果 area 是质数，返回 [area, 1]\n",
    "\n",
    "\n",
    "print(Solution.constructRectangle(Solution(), 0))"
   ],
   "outputs": [
    {
     "name": "stdout",
     "output_type": "stream",
     "text": [
      "[]\n"
     ]
    }
   ],
   "execution_count": 17
  }
 ],
 "metadata": {
  "kernelspec": {
   "display_name": "Python 3",
   "language": "python",
   "name": "python3"
  },
  "language_info": {
   "codemirror_mode": {
    "name": "ipython",
    "version": 2
   },
   "file_extension": ".py",
   "mimetype": "text/x-python",
   "name": "python",
   "nbconvert_exporter": "python",
   "pygments_lexer": "ipython2",
   "version": "2.7.6"
  }
 },
 "nbformat": 4,
 "nbformat_minor": 5
}
