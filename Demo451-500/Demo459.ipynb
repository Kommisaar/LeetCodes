{
 "cells": [
  {
   "metadata": {
    "ExecuteTime": {
     "end_time": "2025-01-03T05:19:44.198108Z",
     "start_time": "2025-01-03T05:19:44.188371Z"
    }
   },
   "cell_type": "code",
   "source": [
    "\"\"\"\n",
    "给定一个非空的字符串 s ，检查是否可以通过由它的一个子串重复多次构成。\n",
    "\n",
    "示例 1:\n",
    "输入: s = \"abab\"\n",
    "输出: true\n",
    "解释: 可由子串 \"ab\" 重复两次构成。\n",
    "\n",
    "示例 2:\n",
    "输入: s = \"aba\"\n",
    "输出: false\n",
    "\n",
    "示例 3:\n",
    "输入: s = \"abcabcabcabc\"\n",
    "输出: true\n",
    "解释: 可由子串 \"abc\" 重复四次构成。 (或子串 \"abcabc\" 重复两次构成。)\n",
    "\"\"\"\n",
    "\n",
    "\n",
    "class Solution:\n",
    "    def repeatedSubstringPattern(self, s: str) -> bool:\n",
    "\n",
    "\n",
    "\n",
    "if __name__ == '__main__':\n",
    "    print(Solution().repeatedSubstringPattern(\"aba\"))"
   ],
   "id": "initial_id",
   "outputs": [
    {
     "name": "stdout",
     "output_type": "stream",
     "text": [
      "False\n"
     ]
    }
   ],
   "execution_count": 36
  }
 ],
 "metadata": {
  "kernelspec": {
   "display_name": "Python 3",
   "language": "python",
   "name": "python3"
  },
  "language_info": {
   "codemirror_mode": {
    "name": "ipython",
    "version": 2
   },
   "file_extension": ".py",
   "mimetype": "text/x-python",
   "name": "python",
   "nbconvert_exporter": "python",
   "pygments_lexer": "ipython2",
   "version": "2.7.6"
  }
 },
 "nbformat": 4,
 "nbformat_minor": 5
}
