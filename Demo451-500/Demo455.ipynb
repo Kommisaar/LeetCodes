{
 "cells": [
  {
   "cell_type": "code",
   "execution_count": null,
   "id": "initial_id",
   "metadata": {
    "collapsed": true
   },
   "outputs": [],
   "source": [
    "from typing import List\n",
    "\n",
    "\"\"\"\n",
    "假设你是一位很棒的家长，想要给你的孩子们一些小饼干。但是，每个孩子最多只能给一块饼干。\n",
    "对每个孩子 i，都有一个胃口值 g[i]，这是能让孩子们满足胃口的饼干的最小尺寸；并且每块饼干 j，都有一个尺寸 s[j] 。如果 s[j] >= g[i]，我们可以将这个饼干 j 分配给孩子 i ，这个孩子会得到满足。你的目标是满足尽可能多的孩子，并输出这个最大数值。\n",
    "\n",
    "示例 1:\n",
    "输入: g = [1,2,3], s = [1,1]\n",
    "输出: 1\n",
    "解释: \n",
    "你有三个孩子和两块小饼干，3 个孩子的胃口值分别是：1,2,3。\n",
    "虽然你有两块小饼干，由于他们的尺寸都是 1，你只能让胃口值是 1 的孩子满足。\n",
    "所以你应该输出 1。\n",
    "\n",
    "示例 2:\n",
    "输入: g = [1,2], s = [1,2,3]\n",
    "输出: 2\n",
    "解释: \n",
    "你有两个孩子和三块小饼干，2 个孩子的胃口值分别是 1,2。\n",
    "你拥有的饼干数量和尺寸都足以让所有孩子满足。\n",
    "所以你应该输出 2。\n",
    "\"\"\"\n",
    "\n",
    "\n",
    "class Solution:\n",
    "    def findContentChildren(self, g: List[int], s: List[int]) -> int:\n",
    "        g.sort()\n",
    "        s.sort()\n",
    "        g_index, s_index = 0, 0\n",
    "        while g_index<len(g) and s_index<len(s):\n",
    "            if g[g_index] <= s[s_index]:\n",
    "                g_index += 1\n",
    "            s_index += 1\n",
    "        return g_index"
   ]
  }
 ],
 "metadata": {
  "kernelspec": {
   "display_name": "Python 3",
   "language": "python",
   "name": "python3"
  },
  "language_info": {
   "codemirror_mode": {
    "name": "ipython",
    "version": 2
   },
   "file_extension": ".py",
   "mimetype": "text/x-python",
   "name": "python",
   "nbconvert_exporter": "python",
   "pygments_lexer": "ipython2",
   "version": "2.7.6"
  }
 },
 "nbformat": 4,
 "nbformat_minor": 5
}
