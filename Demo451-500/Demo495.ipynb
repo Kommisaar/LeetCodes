{
 "cells": [
  {
   "cell_type": "code",
   "id": "initial_id",
   "metadata": {
    "collapsed": true,
    "ExecuteTime": {
     "end_time": "2025-01-03T07:12:28.393424Z",
     "start_time": "2025-01-03T07:12:28.381572Z"
    }
   },
   "source": [
    "from typing import List\n",
    "\n",
    "\"\"\"\n",
    "在《英雄联盟》的世界中，有一个叫 “提莫” 的英雄。他的攻击可以让敌方英雄艾希（编者注：寒冰射手）进入中毒状态。当提莫攻击艾希，艾希的中毒状态正好持续 duration 秒。\n",
    "\n",
    "正式地讲，提莫在 t 发起攻击意味着艾希在时间区间 [t, t + duration - 1]（含 t 和 t + duration - 1）处于中毒状态。如果提莫在中毒影响结束前再次攻击，中毒状态计时器将会 重置 ，在新攻击之后，中毒影响将会在duration秒后结束。\n",
    "\n",
    "给你一个非递减的整数数组 timeSeries ，其中 timeSeries[i] 表示提莫在 timeSeries[i] 秒时对艾希发起攻击，以及一个表示中毒持续时间的整数 duration 。\n",
    "返回艾希处于中毒状态的总秒数。\n",
    "\n",
    " \n",
    "示例 1：\n",
    "\n",
    "输入：timeSeries = [1,4], duration = 2\n",
    "输出：4\n",
    "解释：提莫攻击对艾希的影响如下：\n",
    "- 第 1 秒，提莫攻击艾希并使其立即中毒。中毒状态会维持 2 秒，即第 1 秒和第 2 秒。\n",
    "- 第 4 秒，提莫再次攻击艾希，艾希中毒状态又持续 2 秒，即第 4 秒和第 5 秒。\n",
    "艾希在第 1、2、4、5 秒处于中毒状态，所以总中毒秒数是 4 。\n",
    "示例 2：\n",
    "\n",
    "输入：timeSeries = [1,2], duration = 2\n",
    "输出：3\n",
    "解释：提莫攻击对艾希的影响如下：\n",
    "- 第 1 秒，提莫攻击艾希并使其立即中毒。中毒状态会维持 2 秒，即第 1 秒和第 2 秒。\n",
    "- 第 2 秒，提莫再次攻击艾希，并重置中毒计时器，艾希中毒状态需要持续 2 秒，即第 2 秒和第 3 秒。\n",
    "艾希在第 1、2、3 秒处于中毒状态，所以总中毒秒数是 3 。\n",
    "\"\"\"\n",
    "\n",
    "\n",
    "class Solution:\n",
    "    def findPoisonedDuration(self, timeSeries: List[int], duration: int) -> int:\n",
    "        poisoned_second = 0\n",
    "        left_second = 0\n",
    "\n",
    "        for i in range(len(timeSeries)):\n",
    "            if i > 0:\n",
    "                passed_poison = timeSeries[i] - timeSeries[i - 1]\n",
    "            else:\n",
    "                passed_poison = 0\n",
    "            poisoned_second += min(left_second, passed_poison)\n",
    "            left_second = duration\n",
    "        poisoned_second += duration\n",
    "\n",
    "        return poisoned_second\n",
    "    \n",
    "    def findPoisonedDuration2(self, timeSeries: List[int], duration: int) -> int:\n",
    "        \"\"\"优化\"\"\"\n",
    "        poisoned_second = 0\n",
    "        for i in range(1, len(timeSeries)):\n",
    "            # 计算当前时间点与上一个时间点的时间差\n",
    "            time_diff = timeSeries[i] - timeSeries[i - 1]\n",
    "            # 累加重叠的中毒时间\n",
    "            poisoned_second += min(time_diff, duration)\n",
    "        # 加上最后一次中毒的持续时间\n",
    "        poisoned_second += duration\n",
    "        return poisoned_second\n",
    "\n",
    "\n",
    "print(Solution.findPoisonedDuration(Solution(), [5, 12, 18, 23, 34, 45, 56, 67, 78, 89], 4))\n",
    "\n",
    "            \n",
    "            \n",
    "        "
   ],
   "outputs": [
    {
     "name": "stdout",
     "output_type": "stream",
     "text": [
      "20\n"
     ]
    }
   ],
   "execution_count": 16
  }
 ],
 "metadata": {
  "kernelspec": {
   "display_name": "Python 3",
   "language": "python",
   "name": "python3"
  },
  "language_info": {
   "codemirror_mode": {
    "name": "ipython",
    "version": 2
   },
   "file_extension": ".py",
   "mimetype": "text/x-python",
   "name": "python",
   "nbconvert_exporter": "python",
   "pygments_lexer": "ipython2",
   "version": "2.7.6"
  }
 },
 "nbformat": 4,
 "nbformat_minor": 5
}
