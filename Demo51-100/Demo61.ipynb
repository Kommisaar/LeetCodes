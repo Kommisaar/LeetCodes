{
 "cells": [
  {
   "cell_type": "code",
   "id": "initial_id",
   "metadata": {
    "collapsed": true,
    "ExecuteTime": {
     "end_time": "2025-01-05T16:29:47.341513Z",
     "start_time": "2025-01-05T16:29:47.327998Z"
    }
   },
   "source": [
    "from typing import Optional\n",
    "\n",
    "\"\"\"\n",
    "给你一个链表的头节点 head ，旋转链表，将链表每个节点向右移动 k 个位置。\n",
    "示例 1：\n",
    "输入：head = [1,2,3,4,5], k = 2\n",
    "输出：[4,5,1,2,3]\n",
    "\n",
    "示例 2：\n",
    "输入：head = [0,1,2], k = 4\n",
    "输出：[2,0,1]\n",
    "\"\"\"\n",
    "\n",
    "\n",
    "class ListNode:\n",
    "    def __init__(self, val=0, next=None):\n",
    "        self.val = val\n",
    "        self.next = next\n",
    "\n",
    "\n",
    "class Solution:\n",
    "    def rotateRight(self, head: Optional[ListNode], k: int) -> Optional[ListNode]:\n",
    "        if not head or not head.next:\n",
    "            return head\n",
    "\n",
    "        dummy = ListNode(0)\n",
    "        dummy.next = head\n",
    "\n",
    "        #计算链表长度\n",
    "        curr = head\n",
    "        length = 0\n",
    "        while curr:\n",
    "            length += 1\n",
    "            curr = curr.next\n",
    "\n",
    "        #取余计算节点移动了多少\n",
    "        n = k % length\n",
    "        \n",
    "        if n == 0:\n",
    "            return dummy.next\n",
    "        \n",
    "        #获取新的头节点前驱节点slow，和最后一个节点fast\n",
    "        slow, fast = dummy, dummy\n",
    "        while fast.next:\n",
    "            if n < 1:\n",
    "                slow = slow.next\n",
    "            n -= 1\n",
    "            fast = fast.next\n",
    "\n",
    "        dummy.next = slow.next\n",
    "        slow.next = None\n",
    "        fast.next = head\n",
    "\n",
    "        return dummy.next\n",
    "        \n",
    "\n",
    "node1 = ListNode(1)\n",
    "node2 = ListNode(2)\n",
    "node3 = ListNode(3)\n",
    "node4 = ListNode(4)\n",
    "node5 = ListNode(5)\n",
    "node1.next = node2\n",
    "node2.next = node3\n",
    "node3.next = node4\n",
    "node4.next = node5\n",
    "\n",
    "result = Solution().rotateRight(node1, 2)\n",
    "while result:\n",
    "    print(result.val)\n",
    "    result = result.next"
   ],
   "outputs": [
    {
     "name": "stdout",
     "output_type": "stream",
     "text": [
      "4\n",
      "5\n",
      "1\n",
      "2\n",
      "3\n"
     ]
    }
   ],
   "execution_count": 10
  }
 ],
 "metadata": {
  "kernelspec": {
   "display_name": "Python 3",
   "language": "python",
   "name": "python3"
  },
  "language_info": {
   "codemirror_mode": {
    "name": "ipython",
    "version": 2
   },
   "file_extension": ".py",
   "mimetype": "text/x-python",
   "name": "python",
   "nbconvert_exporter": "python",
   "pygments_lexer": "ipython2",
   "version": "2.7.6"
  }
 },
 "nbformat": 4,
 "nbformat_minor": 5
}
