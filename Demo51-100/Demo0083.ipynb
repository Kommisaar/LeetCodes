{
 "cells": [
  {
   "cell_type": "code",
   "id": "initial_id",
   "metadata": {
    "collapsed": true,
    "ExecuteTime": {
     "end_time": "2024-12-17T10:43:45.535146Z",
     "start_time": "2024-12-17T10:43:45.518996Z"
    }
   },
   "source": [
    "from typing import Optional\n",
    "\n",
    "\n",
    "# 给定一个已排序的链表的头 head ， 删除所有重复的元素，使每个元素只出现一次 。返回 已排序的链表 。\n",
    "# Definition for singly-linked list.\n",
    "class ListNode:\n",
    "    def __init__(self, val=0, next=None):\n",
    "        self.val = val\n",
    "        self.next = next\n",
    "\n",
    "\n",
    "class Solution:\n",
    "    def deleteDuplicates(self, head: Optional[ListNode]) -> Optional[ListNode]:\n",
    "        if not head:\n",
    "            return head\n",
    "        pre_head = ListNode()\n",
    "        pre_head.next = head\n",
    "        pre = head\n",
    "        \n",
    "        while head:\n",
    "            if head.val != pre.val:\n",
    "                pre.next = head\n",
    "                pre = pre.next\n",
    "            head = head.next\n",
    "        \n",
    "        pre.next = None\n",
    "            \n",
    "        return pre_head.next\n",
    "    \n",
    "    def deleteDuplicates2(self, head: Optional[ListNode]) -> Optional[ListNode]:\n",
    "        if not head:\n",
    "            return head\n",
    "        \n",
    "        pre_head = head\n",
    "        \n",
    "        while head.next:\n",
    "            #如果当前值等于下一个节点的值，则当前节点指向下一个节点的下一个节点，也就是略过中间的哪个节点\n",
    "            #如果值不相等，则前进到下一个节点\n",
    "            if head.val == head.next.val:\n",
    "                head.next = head.next.next\n",
    "            else:\n",
    "                head = head.next\n",
    "                \n",
    "        return pre_head.next\n",
    "    \n",
    "            "
   ],
   "outputs": [],
   "execution_count": 1
  },
  {
   "metadata": {},
   "cell_type": "code",
   "outputs": [],
   "execution_count": null,
   "source": "",
   "id": "db99052ffa32454"
  }
 ],
 "metadata": {
  "kernelspec": {
   "display_name": "Python 3",
   "language": "python",
   "name": "python3"
  },
  "language_info": {
   "codemirror_mode": {
    "name": "ipython",
    "version": 2
   },
   "file_extension": ".py",
   "mimetype": "text/x-python",
   "name": "python",
   "nbconvert_exporter": "python",
   "pygments_lexer": "ipython2",
   "version": "2.7.6"
  }
 },
 "nbformat": 4,
 "nbformat_minor": 5
}
