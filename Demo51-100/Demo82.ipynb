{
 "cells": [
  {
   "cell_type": "code",
   "id": "initial_id",
   "metadata": {
    "collapsed": true,
    "ExecuteTime": {
     "end_time": "2025-01-06T02:16:28.715528Z",
     "start_time": "2025-01-06T02:16:28.701979Z"
    }
   },
   "source": [
    "from typing import Optional\n",
    "\n",
    "\"\"\"\n",
    "给定一个已排序的链表的头 head ， 删除原始链表中所有重复数字的节点，只留下不同的数字 。返回 已排序的链表 。\n",
    "\n",
    "示例 1：\n",
    "输入：head = [1,2,3,3,4,4,5]\n",
    "输出：[1,2,5]\n",
    "\n",
    "示例 2：\n",
    "输入：head = [1,1,1,2,3]\n",
    "输出：[2,3]\n",
    "\"\"\"\n",
    "\n",
    "\n",
    "class ListNode:\n",
    "    def __init__(self, val=0, next=None):\n",
    "        self.val = val\n",
    "        self.next = next\n",
    "\n",
    "\n",
    "class Solution:\n",
    "    def deleteDuplicates(self, head: Optional[ListNode]) -> Optional[ListNode]:\n",
    "        if not head or not head.next:\n",
    "            return head\n",
    "\n",
    "        dummy = ListNode()\n",
    "        dummy.next = head\n",
    "        prev = dummy\n",
    "\n",
    "        while head:\n",
    "\n",
    "            if head.next and head.val == head.next.val:\n",
    "                while head.val == head.next.val:\n",
    "                    head = head.next\n",
    "                prev.next = head.next\n",
    "            else:\n",
    "                prev = head\n",
    "\n",
    "            head = head.next\n",
    "\n",
    "        return dummy.next\n",
    "\n",
    "\n",
    "node1 = ListNode(1)\n",
    "node2 = ListNode(2)\n",
    "node3 = ListNode(3)\n",
    "node4 = ListNode(3)\n",
    "node5 = ListNode(4)\n",
    "node6 = ListNode(4)\n",
    "node7 = ListNode(5)\n",
    "node1.next = node2\n",
    "node2.next = node3\n",
    "node3.next = node4\n",
    "node4.next = node5\n",
    "node5.next = node6\n",
    "node6.next = node7\n",
    "\n",
    "result = Solution().deleteDuplicates(node1)\n",
    "while result:\n",
    "    print(result.val)\n",
    "    result = result.next"
   ],
   "outputs": [
    {
     "name": "stdout",
     "output_type": "stream",
     "text": [
      "1\n",
      "2\n",
      "5\n"
     ]
    }
   ],
   "execution_count": 46
  }
 ],
 "metadata": {
  "kernelspec": {
   "display_name": "Python 3",
   "language": "python",
   "name": "python3"
  },
  "language_info": {
   "codemirror_mode": {
    "name": "ipython",
    "version": 2
   },
   "file_extension": ".py",
   "mimetype": "text/x-python",
   "name": "python",
   "nbconvert_exporter": "python",
   "pygments_lexer": "ipython2",
   "version": "2.7.6"
  }
 },
 "nbformat": 4,
 "nbformat_minor": 5
}
