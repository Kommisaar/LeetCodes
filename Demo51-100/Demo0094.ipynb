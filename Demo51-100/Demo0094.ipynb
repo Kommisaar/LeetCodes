{
 "cells": [
  {
   "cell_type": "code",
   "execution_count": null,
   "id": "initial_id",
   "metadata": {
    "collapsed": true
   },
   "outputs": [],
   "source": [
    "from typing import Optional, List\n",
    "\n",
    "\n",
    "# Definition for a binary tree node.\n",
    "# 给定一个二叉树的根节点 root ，返回 它的 中序 遍历 。\n",
    "\n",
    "class TreeNode:\n",
    "    def __init__(self, val=0, left=None, right=None):\n",
    "        self.val = val\n",
    "        self.left = left\n",
    "        self.right = right\n",
    "\n",
    "\n",
    "class Solution:\n",
    "    def inorderTraversal(self, root: Optional[TreeNode]) -> List[int]:\n",
    "        if root is None:\n",
    "            return []\n",
    "        traversal_list = list()\n",
    "\n",
    "        if root.left:\n",
    "            traversal_list.extend(self.inorderTraversal(root.left))\n",
    "        traversal_list.append(root.val)\n",
    "        if root.right:\n",
    "            traversal_list.extend(self.inorderTraversal(root.right))\n",
    "\n",
    "        return traversal_list\n",
    "        \n",
    "        "
   ]
  },
  {
   "metadata": {},
   "cell_type": "code",
   "outputs": [],
   "execution_count": null,
   "source": [
    "#迭代法    \n",
    "#前序遍历\n",
    "def preorder_traversal(root: Optional[TreeNode]) -> List[int]:\n",
    "    results = []\n",
    "    stack = [root] if root else []\n",
    "    \n",
    "    while stack:\n",
    "        node = stack.pop()\n",
    "        results.append(node.val)\n",
    "        if node.right:\n",
    "            stack.append(node.right)\n",
    "        if node.left:\n",
    "            stack.append(node.left)\n",
    "    return results    "
   ],
   "id": "47d43c1a2c27e803"
  },
  {
   "metadata": {},
   "cell_type": "code",
   "outputs": [],
   "execution_count": null,
   "source": [
    "#中序遍历\n",
    "def inorder_traversal(root: Optional[TreeNode]) -> List[int]:\n",
    "    results = []\n",
    "    stack = [root] if root else []\n",
    "    \n",
    "    while stack:\n",
    "        node = stack.pop()\n",
    "        results.append(node.val)\n",
    "        if node.right:\n",
    "            stack.append(node.right)\n",
    "        if node.left:\n",
    "            stack.append(node.left)\n",
    "    return results    "
   ],
   "id": "46accdcdf0fea192"
  },
  {
   "metadata": {},
   "cell_type": "code",
   "outputs": [],
   "execution_count": null,
   "source": [
    "#后序遍历\n",
    "def afterorder_traversal(root: Optional[TreeNode]) -> List[int]:\n",
    "    results = []\n",
    "    stack = [root] if root else []\n",
    "    \n",
    "    while stack:\n",
    "        node = stack.pop()\n",
    "        results.append(node.val)\n",
    "        if node.right:\n",
    "            stack.append(node.right)\n",
    "        if node.left:\n",
    "            stack.append(node.left)\n",
    "    return results   "
   ],
   "id": "93ba6064dca0442b"
  }
 ],
 "metadata": {
  "kernelspec": {
   "display_name": "Python 3",
   "language": "python",
   "name": "python3"
  },
  "language_info": {
   "codemirror_mode": {
    "name": "ipython",
    "version": 2
   },
   "file_extension": ".py",
   "mimetype": "text/x-python",
   "name": "python",
   "nbconvert_exporter": "python",
   "pygments_lexer": "ipython2",
   "version": "2.7.6"
  }
 },
 "nbformat": 4,
 "nbformat_minor": 5
}
