{
 "cells": [
  {
   "cell_type": "code",
   "id": "initial_id",
   "metadata": {
    "collapsed": true,
    "ExecuteTime": {
     "end_time": "2025-01-07T16:48:03.752176Z",
     "start_time": "2025-01-07T16:48:03.734347Z"
    }
   },
   "source": [
    "\"\"\"\n",
    "给你一个字符串 num ，表示一个大整数。如果一个整数满足下述所有条件，则认为该整数是一个 优质整数 ：\n",
    "该整数是 num 的一个长度为 3 的 子字符串 。\n",
    "该整数由唯一一个数字重复 3 次组成。\n",
    "以字符串形式返回 最大的优质整数 。如果不存在满足要求的整数，则返回一个空字符串 \"\" 。\n",
    "\n",
    "注意：\n",
    "子字符串 是字符串中的一个连续字符序列。\n",
    "num或优质整数中可能存在前导零 。\n",
    "\n",
    "示例 1：\n",
    "输入：num = \"6777133339\"\n",
    "输出：\"777\"\n",
    "解释：num 中存在两个优质整数：\"777\" 和 \"333\" 。\n",
    "\"777\" 是最大的那个，所以返回 \"777\" 。\n",
    "\n",
    "示例 2：\n",
    "输入：num = \"2300019\"\n",
    "输出：\"000\"\n",
    "解释：\"000\" 是唯一一个优质整数。\n",
    "\n",
    "示例 3：\n",
    "输入：num = \"42352338\"\n",
    "输出：\"\"\n",
    "解释：不存在长度为 3 且仅由一个唯一数字组成的整数。因此，不存在优质整数。\n",
    "\n",
    "3 <= num.length <= 1000\n",
    "num 仅由数字（0 - 9）组成\n",
    "\"\"\"\n",
    "\n",
    "\n",
    "class Solution:\n",
    "    def largestGoodInteger(self, num: str) -> str:\n",
    "        max_num = -1\n",
    "        slow = fast = 0\n",
    "        while fast < len(num):\n",
    "            if num[slow] == num[fast]:\n",
    "                fast += 1\n",
    "            else:\n",
    "                slow = fast\n",
    "            if fast - slow == 3:\n",
    "                max_num = max(max_num, int(num[slow]))\n",
    "                slow = fast\n",
    "\n",
    "        return str(max_num) * 3 if max_num >= 0 else ''\n",
    "\n",
    "\n",
    "solution = Solution()\n",
    "print(solution.largestGoodInteger('6777133339'))"
   ],
   "outputs": [
    {
     "name": "stdout",
     "output_type": "stream",
     "text": [
      "777\n"
     ]
    }
   ],
   "execution_count": 21
  }
 ],
 "metadata": {
  "kernelspec": {
   "display_name": "Python 3",
   "language": "python",
   "name": "python3"
  },
  "language_info": {
   "codemirror_mode": {
    "name": "ipython",
    "version": 2
   },
   "file_extension": ".py",
   "mimetype": "text/x-python",
   "name": "python",
   "nbconvert_exporter": "python",
   "pygments_lexer": "ipython2",
   "version": "2.7.6"
  }
 },
 "nbformat": 4,
 "nbformat_minor": 5
}
