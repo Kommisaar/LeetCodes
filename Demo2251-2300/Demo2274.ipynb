{
 "cells": [
  {
   "cell_type": "code",
   "id": "initial_id",
   "metadata": {
    "collapsed": true,
    "ExecuteTime": {
     "end_time": "2025-01-06T01:27:54.864851Z",
     "start_time": "2025-01-06T01:27:54.852296Z"
    }
   },
   "source": [
    "from typing import List\n",
    "\n",
    "\"\"\"\n",
    "Alice 管理着一家公司，并租用大楼的部分楼层作为办公空间。Alice 决定将一些楼层作为 特殊楼层 ，仅用于放松。\n",
    "给你两个整数 bottom 和 top ，表示 Alice 租用了从 bottom 到 top（含 bottom 和 top 在内）的所有楼层。另给你一个整数数组 special ，其中 special[i] 表示  Alice 指定用于放松的特殊楼层。\n",
    "返回不含特殊楼层的 最大 连续楼层数。\n",
    "\n",
    "示例 1：\n",
    "输入：bottom = 2, top = 9, special = [4,6]\n",
    "输出：3\n",
    "解释：下面列出的是不含特殊楼层的连续楼层范围：\n",
    "- (2, 3) ，楼层数为 2 。\n",
    "- (5, 5) ，楼层数为 1 。\n",
    "- (7, 9) ，楼层数为 3 。\n",
    "因此，返回最大连续楼层数 3 。\n",
    "\n",
    "示例 2：\n",
    "输入：bottom = 6, top = 8, special = [7,6,8]\n",
    "输出：0\n",
    "解释：每层楼都被规划为特殊楼层，所以返回 0 。\n",
    " \n",
    "提示\n",
    "1 <= special.length <= 105\n",
    "1 <= bottom <= special[i] <= top <= 109\n",
    "special 中的所有值 互不相同\n",
    "\"\"\"\n",
    "\n",
    "\n",
    "class Solution:\n",
    "    def maxConsecutive(self, bottom: int, top: int, special: List[int]) -> int:\n",
    "        \"\"\"效率太低\"\"\"\n",
    "        floor_list = [[bottom, top]]\n",
    "        special.sort()\n",
    "        for num in special:\n",
    "            curr = 0\n",
    "            while curr < len(floor_list):\n",
    "                # 检查当前特殊楼层是否在当前范围内\n",
    "                if floor_list[curr][0] <= num <= floor_list[curr][1]:\n",
    "                    # 如果特殊楼层在当前范围内，将当前范围分割为左右两部分\n",
    "                    left = None\n",
    "                    right = None\n",
    "                    \n",
    "                    # 如果特殊楼层不等于当前范围的起始楼层，生成左半部分\n",
    "                    if num != floor_list[curr][0]:\n",
    "                        left = [floor_list[curr][0], num - 1]\n",
    "                    \n",
    "                    # 如果特殊楼层不等于当前范围的结束楼层，生成右半部分\n",
    "                    if num != floor_list[curr][1]:\n",
    "                        right = [num + 1, floor_list[curr][1]]\n",
    "                    \n",
    "                    # 根据左右部分的情况更新 floor_list\n",
    "                    if left and right:\n",
    "                        floor_list[curr:curr + 1] = [left, right]\n",
    "                    elif left:\n",
    "                        floor_list[curr:curr + 1] = [left]\n",
    "                    elif right:\n",
    "                        floor_list[curr:curr + 1] = [right]\n",
    "                    else:\n",
    "                        # 如果左右部分都为空，移除当前范围\n",
    "                        floor_list.pop(curr)\n",
    "                        curr -= 1  # 因为移除了一个元素，需要调整 curr\n",
    "                curr += 1\n",
    "        max_floor = max(floor_list, key=lambda x: x[1] - x[0])\n",
    "        return max_floor[1] - max_floor[0] + 1\n",
    "    def maxConsecutive2(self, bottom: int, top: int, special: List[int]) -> int:\n",
    "        # 将 bottom 和 top 加入 special 列表\n",
    "        special.append(bottom - 1)  # 添加虚拟起始点\n",
    "        special.append(top + 1)     # 添加虚拟结束点\n",
    "        special.sort()              # 排序\n",
    "    \n",
    "        max_gap = 0\n",
    "        for i in range(1, len(special)):\n",
    "            # 计算相邻两个特殊楼层之间的区间长度\n",
    "            gap = special[i] - special[i - 1] - 1\n",
    "            if gap > max_gap:\n",
    "                max_gap = gap\n",
    "    \n",
    "        return max_gap\n",
    "\n",
    "\n",
    "solution = Solution()\n",
    "print(solution.maxConsecutive(2, 9, [4, 6]))"
   ],
   "outputs": [
    {
     "name": "stdout",
     "output_type": "stream",
     "text": [
      "3\n"
     ]
    }
   ],
   "execution_count": 40
  }
 ],
 "metadata": {
  "kernelspec": {
   "display_name": "Python 3",
   "language": "python",
   "name": "python3"
  },
  "language_info": {
   "codemirror_mode": {
    "name": "ipython",
    "version": 2
   },
   "file_extension": ".py",
   "mimetype": "text/x-python",
   "name": "python",
   "nbconvert_exporter": "python",
   "pygments_lexer": "ipython2",
   "version": "2.7.6"
  }
 },
 "nbformat": 4,
 "nbformat_minor": 5
}
