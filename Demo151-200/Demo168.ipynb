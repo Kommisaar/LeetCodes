{
 "cells": [
  {
   "metadata": {},
   "cell_type": "markdown",
   "source": [
    "给你一个整数 columnNumber ，返回它在 Excel 表中相对应的列名称。\n",
    "\n",
    "例如：\n",
    "\n",
    "A -> 1\n",
    "B -> 2\n",
    "C -> 3\n",
    "...\n",
    "Z -> 26\n",
    "AA -> 27\n",
    "AB -> 28 \n",
    "...\n",
    " "
   ],
   "id": "8378b626986205f5"
  },
  {
   "metadata": {
    "ExecuteTime": {
     "end_time": "2024-12-20T12:04:56.919509Z",
     "start_time": "2024-12-20T12:04:56.901452Z"
    }
   },
   "cell_type": "code",
   "source": [
    "import string\n",
    "\n",
    "\n",
    "class Solution:\n",
    "    def convertToTitle(self, columnNumber: int) -> str:\n",
    " \n",
    "\n",
    "\n",
    "solution = Solution()\n",
    "# for i in range(100):\n",
    "    # print(solution.convertToTitle(i), end=' ')\n",
    "print(solution.convertToTitle(2147483647), end=' ')"
   ],
   "id": "initial_id",
   "outputs": [
    {
     "name": "stdout",
     "output_type": "stream",
     "text": [
      "[10, 20, 12, 23, 17, 14, 5]\n",
      "[4, 7, 10, 15, 6, 20, 5]\n",
      "['D', 'G', 'J', 'O', 'F', 'T', 'E']\n",
      "ETFOJGD "
     ]
    }
   ],
   "execution_count": 88
  }
 ],
 "metadata": {
  "kernelspec": {
   "display_name": "Python 3",
   "language": "python",
   "name": "python3"
  },
  "language_info": {
   "codemirror_mode": {
    "name": "ipython",
    "version": 2
   },
   "file_extension": ".py",
   "mimetype": "text/x-python",
   "name": "python",
   "nbconvert_exporter": "python",
   "pygments_lexer": "ipython2",
   "version": "2.7.6"
  }
 },
 "nbformat": 4,
 "nbformat_minor": 5
}
