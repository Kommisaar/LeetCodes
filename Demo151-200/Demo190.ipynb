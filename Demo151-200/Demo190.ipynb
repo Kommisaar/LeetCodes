{
 "cells": [
  {
   "metadata": {},
   "cell_type": "markdown",
   "source": [
    "颠倒给定的 32 位无符号整数的二进制位。\n",
    "\n",
    "提示：\n",
    "\n",
    "请注意，在某些语言（如 Java）中，没有无符号整数类型。在这种情况下，输入和输出都将被指定为有符号整数类型，并且不应影响您的实现，因为无论整数是有符号的还是无符号的，其内部的二进制表示形式都是相同的。\n",
    "在 Java 中，编译器使用二进制补码记法来表示有符号整数。因此，在 示例 2 中，输入表示有符号整数 -3，输出表示有符号整数 -1073741825。"
   ],
   "id": "308aa628e3ca14e1"
  },
  {
   "metadata": {
    "ExecuteTime": {
     "end_time": "2024-12-25T05:31:00.205707Z",
     "start_time": "2024-12-25T05:31:00.175401Z"
    }
   },
   "cell_type": "code",
   "source": [
    "class Solution:\n",
    "    def reverseBits(self, n: int) -> int:\n",
    "        # 00000010100101000001111010011100\n",
    "        binary = bin(n)[2:][::-1].ljust(32, '0')\n",
    "        return int(''.join(binary), 2)\n",
    "\n",
    "\n",
    "sol = Solution()    \n",
    "sol.reverseBits(int(0b00000010100101000001111010011100))"
   ],
   "id": "initial_id",
   "outputs": [
    {
     "data": {
      "text/plain": [
       "964176192"
      ]
     },
     "execution_count": 7,
     "metadata": {},
     "output_type": "execute_result"
    }
   ],
   "execution_count": 7
  }
 ],
 "metadata": {
  "kernelspec": {
   "display_name": "Python 3",
   "language": "python",
   "name": "python3"
  },
  "language_info": {
   "codemirror_mode": {
    "name": "ipython",
    "version": 2
   },
   "file_extension": ".py",
   "mimetype": "text/x-python",
   "name": "python",
   "nbconvert_exporter": "python",
   "pygments_lexer": "ipython2",
   "version": "2.7.6"
  }
 },
 "nbformat": 4,
 "nbformat_minor": 5
}
