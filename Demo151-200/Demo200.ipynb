{
 "cells": [
  {
   "cell_type": "code",
   "id": "initial_id",
   "metadata": {
    "collapsed": true,
    "ExecuteTime": {
     "end_time": "2025-01-09T02:25:20.590529Z",
     "start_time": "2025-01-09T02:25:20.563109Z"
    }
   },
   "source": [
    "from collections import deque\n",
    "from typing import List\n",
    "\n",
    "\"\"\"\n",
    "给你一个由 '1'（陆地）和 '0'（水）组成的的二维网格，请你计算网格中岛屿的数量。\n",
    "岛屿总是被水包围，并且每座岛屿只能由水平方向和/或竖直方向上相邻的陆地连接形成。\n",
    "此外，你可以假设该网格的四条边均被水包围。\n",
    "\n",
    "示例 1：\n",
    "输入：grid = [\n",
    "  [\"1\",\"1\",\"1\",\"1\",\"0\"],\n",
    "  [\"1\",\"1\",\"0\",\"1\",\"0\"],\n",
    "  [\"1\",\"1\",\"0\",\"0\",\"0\"],\n",
    "  [\"0\",\"0\",\"0\",\"0\",\"0\"]\n",
    "]\n",
    "输出：1\n",
    "示例 2：\n",
    "\n",
    "输入：grid = [\n",
    "  [\"1\",\"1\",\"0\",\"0\",\"0\"],\n",
    "  [\"1\",\"1\",\"0\",\"0\",\"0\"],\n",
    "  [\"0\",\"0\",\"1\",\"0\",\"0\"],\n",
    "  [\"0\",\"0\",\"0\",\"1\",\"1\"]\n",
    "]\n",
    "输出：3\n",
    " \n",
    "\n",
    "提示：\n",
    "\n",
    "m == grid.length\n",
    "n == grid[i].length\n",
    "1 <= m, n <= 300\n",
    "grid[i][j] 的值为 '0' 或 '1'\n",
    "\"\"\"\n",
    "\n",
    "\n",
    "class Solution:\n",
    "    def numIslands(self, grid: List[List[str]]) -> int:\n",
    "        if not grid:\n",
    "            return 0\n",
    "\n",
    "        m, n = len(grid), len(grid[0])\n",
    "        neighbors = [(-1, 0), (0, -1), (0, 1), (1, 0)]\n",
    "        visited = [False] * m * n\n",
    "        visit_queue = deque([])\n",
    "        islands_count = 0\n",
    "\n",
    "        for r in range(m):\n",
    "            for c in range(n):\n",
    "                if grid[r][c] == '1' and not visited[r * n + c]:\n",
    "                    visit_queue.append((r, c))\n",
    "                    visited[r * n + c] = True\n",
    "                    while visit_queue:\n",
    "                        row, col = visit_queue.popleft()\n",
    "                        for dx, dy in neighbors:\n",
    "                            nr, nc = row + dx, col + dy\n",
    "                            if 0 <= nr < m and 0 <= nc < n and grid[nr][nc] == '1' and not visited[nr * n + nc]:\n",
    "                                visit_queue.append((nr, nc))\n",
    "                                visited[nr * n + nc] = True\n",
    "                                \n",
    "\n",
    "                    islands_count += 1\n",
    "\n",
    "        return islands_count\n",
    "\n",
    "\n",
    "arr = [[\"1\"],[\"1\"]]\n",
    "print(Solution().numIslands(arr))"
   ],
   "outputs": [
    {
     "name": "stdout",
     "output_type": "stream",
     "text": [
      "1\n"
     ]
    }
   ],
   "execution_count": 22
  },
  {
   "metadata": {},
   "cell_type": "code",
   "outputs": [],
   "execution_count": null,
   "source": "",
   "id": "185cf316aead36c8"
  }
 ],
 "metadata": {
  "kernelspec": {
   "display_name": "Python 3",
   "language": "python",
   "name": "python3"
  },
  "language_info": {
   "codemirror_mode": {
    "name": "ipython",
    "version": 2
   },
   "file_extension": ".py",
   "mimetype": "text/x-python",
   "name": "python",
   "nbconvert_exporter": "python",
   "pygments_lexer": "ipython2",
   "version": "2.7.6"
  }
 },
 "nbformat": 4,
 "nbformat_minor": 5
}
