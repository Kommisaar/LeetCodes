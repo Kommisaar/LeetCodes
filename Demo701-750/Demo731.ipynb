{
 "cells": [
  {
   "cell_type": "code",
   "id": "initial_id",
   "metadata": {
    "collapsed": true,
    "ExecuteTime": {
     "end_time": "2025-01-03T02:06:47.731763Z",
     "start_time": "2025-01-03T02:06:47.715730Z"
    }
   },
   "source": [
    "\"\"\"\n",
    "实现一个程序来存放你的日程安排。如果要添加的时间内不会导致三重预订时，则可以存储这个新的日程安排。\n",
    "\n",
    "当三个日程安排有一些时间上的交叉时（例如三个日程安排都在同一时间内），就会产生 三重预订。\n",
    "\n",
    "事件能够用一对整数 startTime 和 endTime 表示，在一个半开区间的时间 [startTime, endTime) 上预定。实数 x 的范围为  startTime <= x < endTime。\n",
    "\n",
    "实现 MyCalendarTwo 类：\n",
    "\n",
    "MyCalendarTwo() 初始化日历对象。\n",
    "boolean book(int startTime, int endTime) 如果可以将日程安排成功添加到日历中而不会导致三重预订，返回 true。否则，返回 false 并且不要将该日程安排添加到日历中。\n",
    " \n",
    "\n",
    "示例 1：\n",
    "\n",
    "输入：\n",
    "[\"MyCalendarTwo\", \"book\", \"book\", \"book\", \"book\", \"book\", \"book\"]\n",
    "[[], [10, 20], [50, 60], [10, 40], [5, 15], [5, 10], [25, 55]]\n",
    "输出：\n",
    "[null, true, true, true, false, true, true]\n",
    "\n",
    "解释：\n",
    "MyCalendarTwo myCalendarTwo = new MyCalendarTwo();\n",
    "myCalendarTwo.book(10, 20); // 返回 True，能够预定该日程。\n",
    "myCalendarTwo.book(50, 60); // 返回 True，能够预定该日程。\n",
    "myCalendarTwo.book(10, 40); // 返回 True，该日程能够被重复预定。\n",
    "myCalendarTwo.book(5, 15);  // 返回 False，该日程导致了三重预定，所以不能预定。\n",
    "myCalendarTwo.book(5, 10); // 返回 True，能够预定该日程，因为它不使用已经双重预订的时间 10。\n",
    "myCalendarTwo.book(25, 55); // 返回 True，能够预定该日程，因为时间段 [25, 40) 将被第三个日程重复预定，时间段 [40, 50) 将被单独预定，而时间段 [50, 55) 将被第二个日程重复预定。\n",
    "\"\"\"\n"
   ],
   "outputs": [
    {
     "data": {
      "text/plain": [
       "''"
      ]
     },
     "execution_count": 1,
     "metadata": {},
     "output_type": "execute_result"
    }
   ],
   "execution_count": 1
  }
 ],
 "metadata": {
  "kernelspec": {
   "display_name": "Python 3",
   "language": "python",
   "name": "python3"
  },
  "language_info": {
   "codemirror_mode": {
    "name": "ipython",
    "version": 2
   },
   "file_extension": ".py",
   "mimetype": "text/x-python",
   "name": "python",
   "nbconvert_exporter": "python",
   "pygments_lexer": "ipython2",
   "version": "2.7.6"
  }
 },
 "nbformat": 4,
 "nbformat_minor": 5
}
