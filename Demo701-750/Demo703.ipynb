{
 "cells": [
  {
   "cell_type": "code",
   "id": "initial_id",
   "metadata": {
    "collapsed": true,
    "ExecuteTime": {
     "end_time": "2025-01-08T12:26:00.314471Z",
     "start_time": "2025-01-08T12:26:00.286301Z"
    }
   },
   "source": [
    "from typing import List\n",
    "\n",
    "\"\"\"\n",
    "设计一个找到数据流中第 k 大元素的类（class）。注意是排序后的第 k 大元素，不是第 k 个不同的元素。\n",
    "请实现 KthLargest 类：\n",
    "KthLargest(int k, int[] nums) 使用整数 k 和整数流 nums 初始化对象。\n",
    "int add(int val) 将 val 插入数据流 nums 后，返回当前数据流中第 k 大的元素。\n",
    " \n",
    "\n",
    "示例 1：\n",
    "\n",
    "输入：\n",
    "[\"KthLargest\", \"add\", \"add\", \"add\", \"add\", \"add\"]\n",
    "[[3, [4, 5, 8, 2]], [3], [5], [10], [9], [4]]\n",
    "输出：[null, 4, 5, 5, 8, 8]\n",
    "解释：\n",
    "KthLargest kthLargest = new KthLargest(3, [4, 5, 8, 2]);\n",
    "kthLargest.add(3); // 返回 4\n",
    "kthLargest.add(5); // 返回 5\n",
    "kthLargest.add(10); // 返回 5\n",
    "kthLargest.add(9); // 返回 8\n",
    "kthLargest.add(4); // 返回 8\n",
    "\n",
    "示例 2：\n",
    "输入：\n",
    "[\"KthLargest\", \"add\", \"add\", \"add\", \"add\"]\n",
    "[[4, [7, 7, 7, 7, 8, 3]], [2], [10], [9], [9]]\n",
    "\n",
    "输出：[null, 7, 7, 7, 8]\n",
    "\n",
    "解释：\n",
    "KthLargest kthLargest = new KthLargest(4, [7, 7, 7, 7, 8, 3]);\n",
    "kthLargest.add(2); // 返回 7\n",
    "kthLargest.add(10); // 返回 7\n",
    "kthLargest.add(9); // 返回 7\n",
    "kthLargest.add(9); // 返回 8\n",
    " \n",
    "\n",
    "提示：\n",
    "0 <= nums.length <= 104\n",
    "1 <= k <= nums.length + 1\n",
    "-104 <= nums[i] <= 104\n",
    "-104 <= val <= 104\n",
    "最多调用 add 方法 104 次\n",
    "\"\"\"\n",
    "\n",
    "\n",
    "class KthLargest:\n",
    "    __slots__ = ['k', 'nums']\n",
    "\n",
    "    def __init__(self, k: int, nums: List[int]):\n",
    "        self.k = k\n",
    "        nums.sort()\n",
    "        self.nums = nums\n",
    "\n",
    "    def add(self, val: int) -> int:\n",
    "        n = len(self.nums)\n",
    "        low, high = 0, n\n",
    "\n",
    "        while low < high:\n",
    "            mid = (low + high) // 2\n",
    "            if self.nums[mid] < val:\n",
    "                low = mid + 1\n",
    "            else:\n",
    "                high = mid\n",
    "\n",
    "        if low >= n:\n",
    "            self.nums.append(val)\n",
    "        else:\n",
    "            self.nums.insert(low, val)\n",
    "\n",
    "        return self.nums[-self.k]\n",
    "                \n",
    "\n",
    "kthLargest = KthLargest(3, [4, 5, 8, 2])\n",
    "print(kthLargest.add(3))\n",
    "print(kthLargest.add(5))\n",
    "print(kthLargest.add(10))\n",
    "print(kthLargest.add(9))\n",
    "print(kthLargest.add(4))\n",
    "        "
   ],
   "outputs": [
    {
     "name": "stdout",
     "output_type": "stream",
     "text": [
      "4\n",
      "5\n",
      "5\n",
      "8\n",
      "8\n"
     ]
    }
   ],
   "execution_count": 1
  }
 ],
 "metadata": {
  "kernelspec": {
   "display_name": "Python 3",
   "language": "python",
   "name": "python3"
  },
  "language_info": {
   "codemirror_mode": {
    "name": "ipython",
    "version": 2
   },
   "file_extension": ".py",
   "mimetype": "text/x-python",
   "name": "python",
   "nbconvert_exporter": "python",
   "pygments_lexer": "ipython2",
   "version": "2.7.6"
  }
 },
 "nbformat": 4,
 "nbformat_minor": 5
}
