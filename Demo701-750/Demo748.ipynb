{
 "cells": [
  {
   "cell_type": "code",
   "id": "initial_id",
   "metadata": {
    "collapsed": true,
    "ExecuteTime": {
     "end_time": "2025-01-09T06:57:12.594218Z",
     "start_time": "2025-01-09T06:57:12.583162Z"
    }
   },
   "source": [
    "from collections import Counter\n",
    "from typing import List\n",
    "\n",
    "\"\"\"\n",
    "给你一个字符串 licensePlate 和一个字符串数组 words ，请你找出 words 中的 最短补全词 。\n",
    "补全词 是一个包含 licensePlate 中所有字母的单词。忽略 licensePlate 中的 数字和空格 。不区分大小写。如果某个字母在 licensePlate 中出现不止一次，那么该字母在补全词中的出现次数应当一致或者更多。\n",
    "例如：licensePlate = \"aBc 12c\"，那么它的补全词应当包含字母 'a'、'b' （忽略大写）和两个 'c' 。可能的 补全词 有 \"abccdef\"、\"caaacab\" 以及 \"cbca\" 。\n",
    "请返回 words 中的 最短补全词 。题目数据保证一定存在一个最短补全词。当有多个单词都符合最短补全词的匹配条件时取 words 中 第一个 出现的那个。\n",
    "\n",
    "示例 1：\n",
    "输入：licensePlate = \"1s3 PSt\", words = [\"step\", \"steps\", \"stripe\", \"stepple\"]\n",
    "输出：\"steps\"\n",
    "解释：最短补全词应该包括 \"s\"、\"p\"、\"s\"（忽略大小写） 以及 \"t\"。\n",
    "\"step\" 包含 \"t\"、\"p\"，但只包含一个 \"s\"，所以它不符合条件。\n",
    "\"steps\" 包含 \"t\"、\"p\" 和两个 \"s\"。\n",
    "\"stripe\" 缺一个 \"s\"。\n",
    "\"stepple\" 缺一个 \"s\"。\n",
    "因此，\"steps\" 是唯一一个包含所有字母的单词，也是本例的答案。\n",
    "\n",
    "示例 2：\n",
    "输入：licensePlate = \"1s3 456\", words = [\"looks\", \"pest\", \"stew\", \"show\"]\n",
    "输出：\"pest\"\n",
    "解释：licensePlate 只包含字母 \"s\" 。所有的单词都包含字母 \"s\" ，其中 \"pest\"、\"stew\"、和 \"show\" 三者最短。答案是 \"pest\" ，因为它是三个单词中在 words 里最靠前的那个。\n",
    " \n",
    "\n",
    "提示：\n",
    "1 <= licensePlate.length <= 7\n",
    "licensePlate 由数字、大小写字母或空格 ' ' 组成\n",
    "1 <= words.length <= 1000\n",
    "1 <= words[i].length <= 15\n",
    "words[i] 由小写英文字母组成\n",
    "\"\"\"\n",
    "\n",
    "\n",
    "class Solution:\n",
    "    def shortestCompletingWord(self, licensePlate: str, words: List[str]) -> str:\n",
    "        licensePlate = licensePlate.lower().replace(' ', '')\n",
    "        license_dict = {}\n",
    "        for char in licensePlate:\n",
    "            if char.isalpha():\n",
    "                license_dict[char] = license_dict.get(char, 0) + 1\n",
    "        \n",
    "        res = []\n",
    "        for i, word in enumerate(words):\n",
    "            plate_dict = license_dict.copy()\n",
    "            start = -1\n",
    "            cur_word_index = i\n",
    "            curr = 0\n",
    "            while curr < len(word):\n",
    "                if word[curr] in plate_dict:\n",
    "                    plate_dict[word[curr]] -= 1\n",
    "                    if plate_dict[word[curr]] == 0:\n",
    "                        plate_dict.pop(word[curr])\n",
    "                    if start == -1:\n",
    "                        start = curr\n",
    "                curr += 1\n",
    "                # print(plate_dict)\n",
    "            if len(plate_dict) == 0:\n",
    "                res.append((cur_word_index,start))\n",
    "        \n",
    "        shortest_word = res[0]\n",
    "        for word_index,start in res:\n",
    "            if len(words[word_index])<len(words[shortest_word[0]]):\n",
    "                shortest_word = (word_index,start)\n",
    "        \n",
    "        return words[shortest_word[0]]\n",
    "    \n",
    "    def shortestCompletingWord2(self,licensePlate: str, words: List[str]) -> str:\n",
    "        # 处理 licensePlate\n",
    "        licensePlate = licensePlate.lower()\n",
    "        license_chars = [char for char in licensePlate if char.isalpha()]\n",
    "        license_counter = Counter(license_chars)\n",
    "    \n",
    "        # 找到包含 licensePlate 所有字母的最短单词\n",
    "        shortest_word = None\n",
    "        for word in words:\n",
    "            word_counter = Counter(word.lower())\n",
    "            # 检查是否包含 licensePlate 的所有字母\n",
    "            if all(word_counter[char] >= license_counter[char] for char in license_counter):\n",
    "                if shortest_word is None or len(word) < len(shortest_word):\n",
    "                    shortest_word = word\n",
    "    \n",
    "        return shortest_word\n",
    "    \n",
    "\n",
    "print(Solution().shortestCompletingWord2(\"1s3 456\", [\"looks\", \"pest\", \"stew\", \"show\"]))\n",
    "                    "
   ],
   "outputs": [
    {
     "name": "stdout",
     "output_type": "stream",
     "text": [
      "pest\n"
     ]
    }
   ],
   "execution_count": 15
  }
 ],
 "metadata": {
  "kernelspec": {
   "display_name": "Python 3",
   "language": "python",
   "name": "python3"
  },
  "language_info": {
   "codemirror_mode": {
    "name": "ipython",
    "version": 2
   },
   "file_extension": ".py",
   "mimetype": "text/x-python",
   "name": "python",
   "nbconvert_exporter": "python",
   "pygments_lexer": "ipython2",
   "version": "2.7.6"
  }
 },
 "nbformat": 4,
 "nbformat_minor": 5
}
