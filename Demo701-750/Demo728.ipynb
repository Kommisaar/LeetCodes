{
 "cells": [
  {
   "cell_type": "code",
   "id": "initial_id",
   "metadata": {
    "collapsed": true,
    "ExecuteTime": {
     "end_time": "2025-01-09T01:27:37.487358Z",
     "start_time": "2025-01-09T01:27:37.468778Z"
    }
   },
   "source": [
    "import copy\n",
    "from typing import List\n",
    "\n",
    "\"\"\"\n",
    "自除数 是指可以被它包含的每一位数整除的数。\n",
    "\n",
    "例如，128 是一个 自除数 ，因为 128 % 1 == 0，128 % 2 == 0，128 % 8 == 0。\n",
    "自除数 不允许包含 0 。\n",
    "\n",
    "给定两个整数 left 和 right ，返回一个列表，列表的元素是范围 [left, right]（包括两个端点）内所有的 自除数 。\n",
    "\n",
    " \n",
    "\n",
    "示例 1：\n",
    "\n",
    "输入：left = 1, right = 22\n",
    "输出：[1, 2, 3, 4, 5, 6, 7, 8, 9, 11, 12, 15, 22]\n",
    "示例 2:\n",
    "\n",
    "输入：left = 47, right = 85\n",
    "输出：[48,55,66,77]\n",
    " \n",
    "\n",
    "提示：\n",
    "\n",
    "1 <= left <= right <= 104\n",
    "\"\"\"\n",
    "\n",
    "\n",
    "class Solution:\n",
    "    def selfDividingNumbers(self, left: int, right: int) -> List[int]:\n",
    "        res = []\n",
    "        for i in range(left, right + 1):\n",
    "            digits = []\n",
    "            num = i\n",
    "            while num > 0:\n",
    "                digit = num % 10\n",
    "                num //= 10\n",
    "                if digit == 0:\n",
    "                    break\n",
    "                digits.append(digit)\n",
    "            else:\n",
    "                for digit in digits:\n",
    "                    num = i\n",
    "                    if num % digit != 0:\n",
    "                        break\n",
    "                else:\n",
    "                    res.append(i)\n",
    "        return res\n",
    "    \n",
    "    def selfDividingNumbers2(self, left: int, right: int) -> List[int]:\n",
    "        res = []\n",
    "        for num in range(left, right + 1):\n",
    "            # 检查是否包含 0 或者是否能被每一位整除\n",
    "            is_self_dividing = True\n",
    "            temp = num\n",
    "            while temp > 0:\n",
    "                digit = temp % 10\n",
    "                if digit == 0 or num % digit != 0:\n",
    "                    is_self_dividing = False\n",
    "                    break\n",
    "                temp //= 10\n",
    "            if is_self_dividing:\n",
    "                res.append(num)\n",
    "        return res\n",
    "    \n",
    "print(Solution().selfDividingNumbers(1, 22))"
   ],
   "outputs": [
    {
     "name": "stdout",
     "output_type": "stream",
     "text": [
      "[1, 2, 3, 4, 5, 6, 7, 8, 9, 11, 12, 15, 22]\n"
     ]
    }
   ],
   "execution_count": 6
  }
 ],
 "metadata": {
  "kernelspec": {
   "display_name": "Python 3",
   "language": "python",
   "name": "python3"
  },
  "language_info": {
   "codemirror_mode": {
    "name": "ipython",
    "version": 2
   },
   "file_extension": ".py",
   "mimetype": "text/x-python",
   "name": "python",
   "nbconvert_exporter": "python",
   "pygments_lexer": "ipython2",
   "version": "2.7.6"
  }
 },
 "nbformat": 4,
 "nbformat_minor": 5
}
