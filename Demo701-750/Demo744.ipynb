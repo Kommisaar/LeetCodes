{
 "cells": [
  {
   "cell_type": "code",
   "id": "initial_id",
   "metadata": {
    "collapsed": true,
    "ExecuteTime": {
     "end_time": "2025-01-09T05:10:39.662011Z",
     "start_time": "2025-01-09T05:10:39.645953Z"
    }
   },
   "source": [
    "from typing import List\n",
    "\n",
    "\"\"\"\n",
    "给你一个字符数组 letters，该数组按非递减顺序排序，以及一个字符 target。letters 里至少有两个不同的字符。\n",
    "返回 letters 中大于 target 的最小的字符。如果不存在这样的字符，则返回 letters 的第一个字符。\n",
    "\n",
    " \n",
    "\n",
    "示例 1：\n",
    "输入: letters = [\"c\", \"f\", \"j\"]，target = \"a\"\n",
    "输出: \"c\"\n",
    "解释：letters 中字典上比 'a' 大的最小字符是 'c'。\n",
    "\n",
    "示例 2:\n",
    "输入: letters = [\"c\",\"f\",\"j\"], target = \"c\"\n",
    "输出: \"f\"\n",
    "解释：letters 中字典顺序上大于 'c' 的最小字符是 'f'。\n",
    "\n",
    "示例 3:\n",
    "输入: letters = [\"x\",\"x\",\"y\",\"y\"], target = \"z\"\n",
    "输出: \"x\"\n",
    "解释：letters 中没有一个字符在字典上大于 'z'，所以我们返回 letters[0]。\n",
    " \n",
    "\n",
    "提示：\n",
    "\n",
    "2 <= letters.length <= 104\n",
    "letters[i] 是一个小写字母\n",
    "letters 按非递减顺序排序\n",
    "letters 最少包含两个不同的字母\n",
    "target 是一个小写字母\n",
    "\"\"\"\n",
    "class Solution:\n",
    "    def nextGreatestLetter(self, letters: List[str], target: str) -> str:\n",
    "        for i in range(len(letters)):\n",
    "            if ord(letters[i]) > ord(target):\n",
    "                return letters[i]\n",
    "        \n",
    "        return letters[0]\n",
    "    \n",
    "    def nextGreatestLetter2(self, letters: List[str], target: str) -> str:\n",
    "        left, right = 0, len(letters)\n",
    "        while left < right:\n",
    "            mid = (left + right) // 2\n",
    "            if ord(letters[mid]) <= ord(target):\n",
    "                left = mid + 1\n",
    "            else:\n",
    "                right = mid\n",
    "        return letters[left % len(letters)]\n",
    "    \n",
    "\n",
    "print(Solution().nextGreatestLetter2([\"c\",\"f\",\"j\"], target=\"c\"))\n",
    "        "
   ],
   "outputs": [
    {
     "name": "stdout",
     "output_type": "stream",
     "text": [
      "f\n"
     ]
    }
   ],
   "execution_count": 17
  }
 ],
 "metadata": {
  "kernelspec": {
   "display_name": "Python 3",
   "language": "python",
   "name": "python3"
  },
  "language_info": {
   "codemirror_mode": {
    "name": "ipython",
    "version": 2
   },
   "file_extension": ".py",
   "mimetype": "text/x-python",
   "name": "python",
   "nbconvert_exporter": "python",
   "pygments_lexer": "ipython2",
   "version": "2.7.6"
  }
 },
 "nbformat": 4,
 "nbformat_minor": 5
}
