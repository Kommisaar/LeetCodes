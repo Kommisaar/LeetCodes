{
 "cells": [
  {
   "cell_type": "code",
   "id": "initial_id",
   "metadata": {
    "collapsed": true,
    "ExecuteTime": {
     "end_time": "2025-01-08T14:25:30.718365Z",
     "start_time": "2025-01-08T14:25:30.713042Z"
    }
   },
   "source": [
    "from typing import List\n",
    "\n",
    "\"\"\"\n",
    "给你一个整数数组 nums ，请计算数组的 中心下标 。\n",
    "数组 中心下标 是数组的一个下标，其左侧所有元素相加的和等于右侧所有元素相加的和。\n",
    "如果中心下标位于数组最左端，那么左侧数之和视为 0 ，因为在下标的左侧不存在元素。这一点对于中心下标位于数组最右端同样适用。\n",
    "如果数组有多个中心下标，应该返回 最靠近左边 的那一个。如果数组不存在中心下标，返回 -1 。\n",
    " \n",
    "示例 1：\n",
    "输入：nums = [1, 7, 3, 6, 5, 6]\n",
    "输出：3\n",
    "解释：\n",
    "中心下标是 3 。\n",
    "左侧数之和 sum = nums[0] + nums[1] + nums[2] = 1 + 7 + 3 = 11 ，\n",
    "右侧数之和 sum = nums[4] + nums[5] = 5 + 6 = 11 ，二者相等。\n",
    "\n",
    "示例 2：\n",
    "输入：nums = [1, 2, 3]\n",
    "输出：-1\n",
    "解释：\n",
    "数组中不存在满足此条件的中心下标。\n",
    "\n",
    "示例 3：\n",
    "输入：nums = [2, 1, -1]\n",
    "输出：0\n",
    "解释：\n",
    "中心下标是 0 。\n",
    "左侧数之和 sum = 0 ，（下标 0 左侧不存在元素），\n",
    "右侧数之和 sum = nums[1] + nums[2] = 1 + -1 = 0 。\n",
    "\n",
    "提示：\n",
    "1 <= nums.length <= 104\n",
    "-1000 <= nums[i] <= 1000\n",
    "\"\"\"\n",
    "\n",
    "\n",
    "class Solution:\n",
    "    def pivotIndex(self, nums: List[int]) -> int:\n",
    "        right_sum = sum(nums)\n",
    "        left_sum = 0\n",
    "        \n",
    "        # i 从 0 开始，一并考虑了初始情况\n",
    "        for i in range(len(nums)):\n",
    "            right_sum -= nums[i]\n",
    "            if left_sum == right_sum:\n",
    "                return i\n",
    "            left_sum += nums[i]\n",
    "\n",
    "        return -1\n",
    "    \n",
    "arr = [1, 7, 3, 6, 5, 6]\n",
    "print(Solution().pivotIndex(arr))"
   ],
   "outputs": [
    {
     "name": "stdout",
     "output_type": "stream",
     "text": [
      "0 0\n",
      "0 6\n",
      "1 6\n",
      "8 6\n",
      "8 11\n",
      "3\n"
     ]
    }
   ],
   "execution_count": 6
  }
 ],
 "metadata": {
  "kernelspec": {
   "display_name": "Python 3",
   "language": "python",
   "name": "python3"
  },
  "language_info": {
   "codemirror_mode": {
    "name": "ipython",
    "version": 2
   },
   "file_extension": ".py",
   "mimetype": "text/x-python",
   "name": "python",
   "nbconvert_exporter": "python",
   "pygments_lexer": "ipython2",
   "version": "2.7.6"
  }
 },
 "nbformat": 4,
 "nbformat_minor": 5
}
