{
 "cells": [
  {
   "cell_type": "code",
   "id": "initial_id",
   "metadata": {
    "collapsed": true,
    "ExecuteTime": {
     "end_time": "2024-12-31T11:56:11.862702Z",
     "start_time": "2024-12-31T11:56:11.854869Z"
    }
   },
   "source": [
    "\"\"\"\n",
    "你在和朋友一起玩 猜数字（Bulls and Cows）游戏，该游戏规则如下：\n",
    "\n",
    "写出一个秘密数字，并请朋友猜这个数字是多少。朋友每猜测一次，你就会给他一个包含下述信息的提示：\n",
    "\n",
    "猜测数字中有多少位属于数字和确切位置都猜对了（称为 \"Bulls\"，公牛），\n",
    "有多少位属于数字猜对了但是位置不对（称为 \"Cows\"，奶牛）。也就是说，这次猜测中有多少位非公牛数字可以通过重新排列转换成公牛数字。\n",
    "给你一个秘密数字 secret 和朋友猜测的数字 guess ，请你返回对朋友这次猜测的提示。\n",
    "\n",
    "提示的格式为 \"xAyB\" ，x 是公牛个数， y 是奶牛个数，A 表示公牛，B 表示奶牛。\n",
    "\n",
    "请注意秘密数字和朋友猜测的数字都可能含有重复数字。\n",
    "\"\"\"\n",
    "class Solution:\n",
    "    def getHint(self, secret: str, guess: str) -> str:\n",
    "        guess_dict ={}\n",
    "        secret_l = list(secret)\n",
    "        bulls = 0\n",
    "        cows = 0\n",
    "        for i in range(min(len(secret), len(guess))):\n",
    "            if guess[i] == secret[i]:\n",
    "                bulls += 1\n",
    "                secret_l.remove(guess[i])\n",
    "            else:\n",
    "                guess_dict[guess[i]] = guess_dict.get(guess[i], 0) + 1\n",
    "        \n",
    "        for i in secret_l:\n",
    "            if guess_dict.get(i, 0) > 0:\n",
    "                cows += 1\n",
    "                guess_dict[i] = - 1\n",
    "                \n",
    "        return f'{bulls}A{cows}B'\n",
    "    \n",
    "\n",
    "if __name__ == '__main__':\n",
    "    solution = Solution()\n",
    "    print(solution.getHint(\"1122\", \"2211\"))\n",
    "            "
   ],
   "outputs": [
    {
     "name": "stdout",
     "output_type": "stream",
     "text": [
      "0A2B\n"
     ]
    }
   ],
   "execution_count": 4
  }
 ],
 "metadata": {
  "kernelspec": {
   "display_name": "Python 3",
   "language": "python",
   "name": "python3"
  },
  "language_info": {
   "codemirror_mode": {
    "name": "ipython",
    "version": 2
   },
   "file_extension": ".py",
   "mimetype": "text/x-python",
   "name": "python",
   "nbconvert_exporter": "python",
   "pygments_lexer": "ipython2",
   "version": "2.7.6"
  }
 },
 "nbformat": 4,
 "nbformat_minor": 5
}
