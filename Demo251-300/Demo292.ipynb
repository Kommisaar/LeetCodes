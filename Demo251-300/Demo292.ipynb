{
 "cells": [
  {
   "cell_type": "code",
   "execution_count": null,
   "id": "initial_id",
   "metadata": {
    "collapsed": true
   },
   "outputs": [],
   "source": [
    "\"\"\"\n",
    "292. Nim 游戏\n",
    "提示\n",
    "你和你的朋友，两个人一起玩 Nim 游戏：\n",
    "\n",
    "桌子上有一堆石头。\n",
    "你们轮流进行自己的回合， 你作为先手 。\n",
    "每一回合，轮到的人拿掉 1 - 3 块石头。\n",
    "拿掉最后一块石头的人就是获胜者。\n",
    "假设你们每一步都是最优解。请编写一个函数，来判断你是否可以在给定石头数量为 n 的情况下赢得游戏。如果可以赢，返回 true；否则，返回 false 。\n",
    "\n",
    "示例 1：\n",
    "\n",
    "输入：n = 4\n",
    "输出：false \n",
    "解释：以下是可能的结果:\n",
    "1. 移除1颗石头。你的朋友移走了3块石头，包括最后一块。你的朋友赢了。\n",
    "2. 移除2个石子。你的朋友移走2块石头，包括最后一块。你的朋友赢了。\n",
    "3.你移走3颗石子。你的朋友移走了最后一块石头。你的朋友赢了。\n",
    "在所有结果中，你的朋友是赢家。\n",
    "示例 2：\n",
    "\n",
    "输入：n = 1\n",
    "输出：true\n",
    "示例 3：\n",
    "\n",
    "输入：n = 2\n",
    "输出：true\n",
    " \n",
    "\"\"\"\n",
    "\n",
    "class Solution:\n",
    "    def canWinNim(self, n: int) -> bool:\n",
    "        "
   ]
  }
 ],
 "metadata": {
  "kernelspec": {
   "display_name": "Python 3",
   "language": "python",
   "name": "python3"
  },
  "language_info": {
   "codemirror_mode": {
    "name": "ipython",
    "version": 2
   },
   "file_extension": ".py",
   "mimetype": "text/x-python",
   "name": "python",
   "nbconvert_exporter": "python",
   "pygments_lexer": "ipython2",
   "version": "2.7.6"
  }
 },
 "nbformat": 4,
 "nbformat_minor": 5
}
