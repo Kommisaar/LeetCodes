{
 "cells": [
  {
   "cell_type": "code",
   "execution_count": null,
   "id": "initial_id",
   "metadata": {
    "collapsed": true
   },
   "outputs": [],
   "source": [
    "\"\"\"\n",
    "你是产品经理，目前正在带领一个团队开发新的产品。不幸的是，你的产品的最新版本没有通过质量检测。由于每个版本都是基于之前的版本开发的，所以错误的版本之后的所有版本都是错的。\n",
    "\n",
    "假设你有 n 个版本 [1, 2, ..., n]，你想找出导致之后所有版本出错的第一个错误的版本。\n",
    "\n",
    "你可以通过调用 bool isBadVersion(version) 接口来判断版本号 version 是否在单元测试中出错。实现一个函数来查找第一个错误的版本。你应该尽量减少对调用 API 的次数。\n",
    "\n",
    " \n",
    "示例 1：\n",
    "\n",
    "输入：n = 5, bad = 4\n",
    "输出：4\n",
    "解释：\n",
    "调用 isBadVersion(3) -> false \n",
    "调用 isBadVersion(5) -> true \n",
    "调用 isBadVersion(4) -> true\n",
    "所以，4 是第一个错误的版本。\n",
    "示例 2：\n",
    "\n",
    "输入：n = 1, bad = 1\n",
    "输出：1\n",
    " \n",
    "\n",
    "提示：\n",
    "\n",
    "1 <= bad <= n <= 231 - 1\n",
    "\"\"\"\n",
    "\n",
    "\n",
    "# The isBadVersion API is already defined for you.\n",
    "# def isBadVersion(version: int) -> bool:\n",
    "def isBadVersion(n):\n",
    "    pass\n",
    "\n",
    "class Solution:\n",
    "    def firstBadVersion(self, n: int) -> int:\n",
    "        low, high = 1, n + 1\n",
    "        while low < high:\n",
    "            mid = (low + high) // 2\n",
    "            if isBadVersion(mid):\n",
    "                high = mid\n",
    "            else:\n",
    "                low = mid + 1   \n",
    "        return low"
   ]
  }
 ],
 "metadata": {
  "kernelspec": {
   "display_name": "Python 3",
   "language": "python",
   "name": "python3"
  },
  "language_info": {
   "codemirror_mode": {
    "name": "ipython",
    "version": 2
   },
   "file_extension": ".py",
   "mimetype": "text/x-python",
   "name": "python",
   "nbconvert_exporter": "python",
   "pygments_lexer": "ipython2",
   "version": "2.7.6"
  }
 },
 "nbformat": 4,
 "nbformat_minor": 5
}
