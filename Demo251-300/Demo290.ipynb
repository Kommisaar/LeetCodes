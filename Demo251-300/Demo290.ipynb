{
 "cells": [
  {
   "cell_type": "code",
   "execution_count": null,
   "id": "initial_id",
   "metadata": {
    "collapsed": true
   },
   "outputs": [],
   "source": [
    "\"\"\"\n",
    "给定一种规律 pattern 和一个字符串 s ，判断 s 是否遵循相同的规律。\n",
    "\n",
    "这里的 遵循 指完全匹配，例如， pattern 里的每个字母和字符串 s 中的每个非空单词之间存在着双向连接的对应规律。\n",
    "\n",
    " \n",
    "\n",
    "示例1:\n",
    "\n",
    "输入: pattern = \"abba\", s = \"dog cat cat dog\"\n",
    "输出: true\n",
    "示例 2:\n",
    "\n",
    "输入:pattern = \"abba\", s = \"dog cat cat fish\"\n",
    "输出: false\n",
    "示例 3:\n",
    "\n",
    "输入: pattern = \"aaaa\", s = \"dog cat cat dog\"\n",
    "输出: false\n",
    "\"\"\"\n",
    "\n",
    "\n",
    "class Solution:\n",
    "    def wordPattern(self, pattern: str, s: str) -> bool:\n",
    "        s = s.split(\" \")\n",
    "        if len(pattern) != len(s) or len(set(pattern)) != len(set(s)):\n",
    "            return False\n",
    "\n",
    "        map_dict = {}\n",
    "        for i in range(len(pattern)):\n",
    "            if pattern[i] in map_dict and map_dict[pattern[i]] != s[i]:\n",
    "                return False\n",
    "            else:\n",
    "                map_dict[pattern[i]] = s[i]\n",
    "        \n",
    "        return True"
   ]
  }
 ],
 "metadata": {
  "kernelspec": {
   "display_name": "Python 3",
   "language": "python",
   "name": "python3"
  },
  "language_info": {
   "codemirror_mode": {
    "name": "ipython",
    "version": 2
   },
   "file_extension": ".py",
   "mimetype": "text/x-python",
   "name": "python",
   "nbconvert_exporter": "python",
   "pygments_lexer": "ipython2",
   "version": "2.7.6"
  }
 },
 "nbformat": 4,
 "nbformat_minor": 5
}
