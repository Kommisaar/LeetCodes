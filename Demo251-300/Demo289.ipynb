{
 "cells": [
  {
   "cell_type": "code",
   "id": "initial_id",
   "metadata": {
    "collapsed": true,
    "ExecuteTime": {
     "end_time": "2024-12-31T11:11:44.315987Z",
     "start_time": "2024-12-31T11:11:44.305484Z"
    }
   },
   "source": [
    "import copy\n",
    "from typing import List\n",
    "\n",
    "\"\"\"\n",
    "根据 百度百科 ， 生命游戏 ，简称为 生命 ，是英国数学家约翰·何顿·康威在 1970 年发明的细胞自动机。\n",
    "\n",
    "给定一个包含 m × n 个格子的面板，每一个格子都可以看成是一个细胞。每个细胞都具有一个初始状态： 1 即为 活细胞 （live），或 0 即为 死细胞 （dead）。每个细胞与其八个相邻位置（水平，垂直，对角线）的细胞都遵循以下四条生存定律：\n",
    "\n",
    "如果活细胞周围八个位置的活细胞数少于两个，则该位置活细胞死亡；\n",
    "如果活细胞周围八个位置有两个或三个活细胞，则该位置活细胞仍然存活；\n",
    "如果活细胞周围八个位置有超过三个活细胞，则该位置活细胞死亡；\n",
    "如果死细胞周围正好有三个活细胞，则该位置死细胞复活；\n",
    "下一个状态是通过将上述规则同时应用于当前状态下的每个细胞所形成的，其中细胞的出生和死亡是 同时 发生的。给你 m x n 网格面板 board 的当前状态，返回下一个状态。\n",
    "\n",
    "给定当前 board 的状态，更新 board 到下一个状态。\n",
    "\n",
    "注意 你不需要返回任何东西。\n",
    "\"\"\"\n",
    "\n",
    "\n",
    "class Solution:\n",
    "    def gameOfLife(self, board: List[List[int]]) -> None:\n",
    "        \"\"\"\n",
    "        Do not return anything, modify board in-place instead.\n",
    "        \"\"\"\n",
    "        #快照法\n",
    "        old_board = copy.deepcopy(board)\n",
    "        neighbors = [(-1, -1), (-1, 0), (-1, 1), (0, -1), (0, 1), (1, -1), (1, 0), (1, 1)]\n",
    "        for i in range(len(board)):\n",
    "            for j in range(len(board[0])):\n",
    "                live_cells = 0\n",
    "                for x_offset, y_offset in neighbors:\n",
    "                    x = i + x_offset\n",
    "                    y = j + y_offset\n",
    "                    if 0 <= x < len(board) and 0 <= y < len(board[0]) and old_board[x][y] == 1:\n",
    "                        live_cells += 1\n",
    "\n",
    "                if board[i][j] and (live_cells > 3 or live_cells < 2):\n",
    "                    board[i][j] = 0\n",
    "                elif live_cells == 3:\n",
    "                    board[i][j] = 1\n",
    "\n",
    "    def gameOfLife2(self, board: List[List[int]]) -> None:\n",
    "        #多状态法\n",
    "        #0代表死细胞\n",
    "        #1代表活细胞\n",
    "        #2代表原来死去现在活着的细胞\n",
    "        #3代表原来活着现在死去的细胞\n",
    "        neighbors = [(-1, -1), (-1, 0), (-1, 1), (0, -1), (0, 1), (1, -1), (1, 0), (1, 1)]\n",
    "        for i in range(len(board)):\n",
    "            for j in range(len(board[0])):\n",
    "                live_cells = 0\n",
    "                for x_offset, y_offset in neighbors:\n",
    "                    x = i + x_offset\n",
    "                    y = j + y_offset\n",
    "                    if 0 <= x < len(board) and 0 <= y < len(board[0]) and (board[x][y] == 1 or board[x][y] == 3):\n",
    "                        live_cells += 1\n",
    "\n",
    "                if board[i][j]:\n",
    "                    if live_cells > 3 or live_cells < 2:\n",
    "                        board[i][j] = 3     \n",
    "                elif live_cells == 3:\n",
    "                    board[i][j] = 2\n",
    "        \n",
    "        #遍历重置状态2和3为1和0\n",
    "        for i in range(len(board)):\n",
    "            for j in range(len(board[0])):\n",
    "                if board[i][j]==2:\n",
    "                    board[i][j] = 1\n",
    "                if board[i][j]==3:\n",
    "                    board[i][j] = 0\n",
    "\n",
    "solution = Solution()\n",
    "board_sample = [[0, 1, 0], [0, 0, 1], [1, 1, 1], [0, 0, 0]]\n",
    "solution.gameOfLife2(board_sample)\n",
    "print(board_sample)\n"
   ],
   "outputs": [
    {
     "name": "stdout",
     "output_type": "stream",
     "text": [
      "[[0, 0, 0], [1, 0, 1], [0, 1, 1], [0, 1, 0]]\n"
     ]
    }
   ],
   "execution_count": 19
  },
  {
   "metadata": {},
   "cell_type": "code",
   "outputs": [],
   "execution_count": null,
   "source": "",
   "id": "aceabfd60c17955d"
  }
 ],
 "metadata": {
  "kernelspec": {
   "display_name": "Python 3",
   "language": "python",
   "name": "python3"
  },
  "language_info": {
   "codemirror_mode": {
    "name": "ipython",
    "version": 2
   },
   "file_extension": ".py",
   "mimetype": "text/x-python",
   "name": "python",
   "nbconvert_exporter": "python",
   "pygments_lexer": "ipython2",
   "version": "2.7.6"
  }
 },
 "nbformat": 4,
 "nbformat_minor": 5
}
