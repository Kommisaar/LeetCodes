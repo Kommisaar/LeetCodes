{
 "cells": [
  {
   "cell_type": "code",
   "id": "initial_id",
   "metadata": {
    "collapsed": true,
    "ExecuteTime": {
     "end_time": "2024-12-31T08:12:43.037484Z",
     "start_time": "2024-12-31T08:12:43.029549Z"
    }
   },
   "source": [
    "from typing import List\n",
    "\n",
    "\"\"\"\n",
    "给定一个包含 n + 1 个整数的数组 nums ，其数字都在 [1, n] 范围内（包括 1 和 n），可知至少存在一个重复的整数。\n",
    "\n",
    "假设 nums 只有 一个重复的整数 ，返回 这个重复的数 。\n",
    "\n",
    "你设计的解决方案必须 不修改 数组 nums 且只用常量级 O(1) 的额外空间。\n",
    "\"\"\"\n",
    "\n",
    "\n",
    "class Solution:\n",
    "    def findDuplicate(self, nums: List[int]) -> int:\n",
    "\n",
    "        min_val, max_val = 1, len(nums)\n",
    "\n",
    "        while min_val < max_val:\n",
    "\n",
    "            #中间值\n",
    "            mid = (min_val + max_val) // 2\n",
    "\n",
    "            #计算nums数组中值min_val和值mid之间的元素数量\n",
    "            cnt = sum(min_val <= num <= mid for num in nums)\n",
    "\n",
    "            #判断nums数组中区间内的元素数量是否大于应有的元素数量\n",
    "            if cnt > mid - min_val + 1:\n",
    "                max_val = mid\n",
    "            else:\n",
    "                min_val = mid + 1\n",
    "\n",
    "        return min_val\n",
    "\n",
    "    def findDuplicate2(self, nums: List[int]) -> int:\n",
    "        #对于 nums[0]，因为题中明确提出 nums[i]∈[1,n]，所以 nums[0]!=0，所以我们可以令初始指针在 nums[0] 处，这样就不用考虑初始指针直接进入自环。\n",
    "        slow, fast = 0, 0\n",
    "        while True:\n",
    "            slow = nums[slow]\n",
    "            fast = nums[nums[fast]]\n",
    "            if slow == fast:\n",
    "                break\n",
    "\n",
    "        #找到环的起始点\n",
    "        ptr = 0\n",
    "        while ptr != slow:\n",
    "            ptr = nums[ptr]\n",
    "            slow = nums[slow]\n",
    "        \n",
    "        return ptr\n",
    "\n",
    "\n",
    "sol = Solution()\n",
    "print(sol.findDuplicate2([3, 3, 3, 3, 3]))\n",
    "print(sol.findDuplicate2([3, 1, 3, 4, 2]))"
   ],
   "outputs": [
    {
     "name": "stdout",
     "output_type": "stream",
     "text": [
      "3\n",
      "3\n"
     ]
    }
   ],
   "execution_count": 58
  }
 ],
 "metadata": {
  "kernelspec": {
   "display_name": "Python 3",
   "language": "python",
   "name": "python3"
  },
  "language_info": {
   "codemirror_mode": {
    "name": "ipython",
    "version": 2
   },
   "file_extension": ".py",
   "mimetype": "text/x-python",
   "name": "python",
   "nbconvert_exporter": "python",
   "pygments_lexer": "ipython2",
   "version": "2.7.6"
  }
 },
 "nbformat": 4,
 "nbformat_minor": 5
}
