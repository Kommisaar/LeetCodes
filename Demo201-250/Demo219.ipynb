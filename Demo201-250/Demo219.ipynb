{
 "cells": [
  {
   "metadata": {},
   "cell_type": "markdown",
   "source": "给你一个整数数组 nums 和一个整数 k ，判断数组中是否存在两个 不同的索引 i 和 j ，满足 nums[i] == nums[j] 且 abs(i - j) <= k 。如果存在，返回 true ；否则，返回 false 。",
   "id": "c22cdf62b833bf74"
  },
  {
   "metadata": {
    "ExecuteTime": {
     "end_time": "2024-12-23T07:45:16.631428Z",
     "start_time": "2024-12-23T07:45:16.615750Z"
    }
   },
   "cell_type": "code",
   "source": [
    "import math\n",
    "from typing import List\n",
    "\n",
    "\n",
    "class Solution:\n",
    "    def containsNearbyDuplicate(self, nums: List[int], k: int) -> bool:\n",
    "        num_dict = dict()\n",
    "\n",
    "        for i in range(len(nums)):\n",
    "            if nums[i] in num_dict and math.fabs(i - num_dict[nums[i]]) <= k:\n",
    "                return True\n",
    "            elif i not in num_dict:\n",
    "                num_dict[nums[i]] = i\n",
    "\n",
    "        return False\n",
    "    #滑动窗口\n",
    "    def containsNearbyDuplicate2(self, nums: List[int], k: int) -> bool:\n",
    "        num_set = set()\n",
    "        \n",
    "        for i,num in enumerate(nums):\n",
    "            if i > k:\n",
    "                num_set.remove(nums[i - k - 1])\n",
    "            if num in num_set:\n",
    "                return True\n",
    "            num_set.add(num)\n",
    "\n",
    "        return False\n",
    "\n",
    "\n",
    "sol = Solution()\n",
    "print(sol.containsNearbyDuplicate([1, 2, 2, 3], 3))"
   ],
   "id": "2588e5fb30b5e2c8",
   "outputs": [
    {
     "name": "stdout",
     "output_type": "stream",
     "text": [
      "False\n"
     ]
    }
   ],
   "execution_count": 7
  },
  {
   "metadata": {
    "ExecuteTime": {
     "end_time": "2024-12-23T07:22:18.804960Z",
     "start_time": "2024-12-23T07:22:18.786546Z"
    }
   },
   "cell_type": "code",
   "source": "",
   "id": "46ed33cd0082d6ee",
   "outputs": [],
   "execution_count": 6
  }
 ],
 "metadata": {
  "kernelspec": {
   "display_name": "Python 3",
   "language": "python",
   "name": "python3"
  },
  "language_info": {
   "codemirror_mode": {
    "name": "ipython",
    "version": 2
   },
   "file_extension": ".py",
   "mimetype": "text/x-python",
   "name": "python",
   "nbconvert_exporter": "python",
   "pygments_lexer": "ipython2",
   "version": "2.7.6"
  }
 },
 "nbformat": 4,
 "nbformat_minor": 5
}
