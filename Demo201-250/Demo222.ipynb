{
 "cells": [
  {
   "metadata": {},
   "cell_type": "markdown",
   "source": [
    "给你一棵 完全二叉树 的根节点 root ，求出该树的节点个数。\n",
    "\n",
    "完全二叉树 的定义如下：在完全二叉树中，除了最底层节点可能没填满外，其余每层节点数都达到最大值，并且最下面一层的节点都集中在该层最左边的若干位置。若最底层为第 h 层（从第 0 层开始），则该层包含 1~ 2h 个节点。"
   ],
   "id": "e6b57d3e608c5341"
  },
  {
   "metadata": {
    "ExecuteTime": {
     "end_time": "2024-12-23T10:59:14.030503Z",
     "start_time": "2024-12-23T10:59:13.998816Z"
    }
   },
   "cell_type": "code",
   "source": [
    "from typing import Optional\n",
    "\n",
    "\n",
    "# Definition for a binary tree node.\n",
    "class TreeNode:\n",
    "    def __init__(self, val=0, left=None, right=None):\n",
    "        self.val = val\n",
    "        self.left = left\n",
    "        self.right = right\n",
    "\n",
    "\n",
    "def node_exist(root, layers, mid):\n",
    "    #node的前进步数\n",
    "    bits = 1 << (layers - 1)\n",
    "    node = root\n",
    "    #路径走完或者node为None退出\n",
    "    while node and bits > 0:\n",
    "        #节点的二进制编码相当于节点的路径,\n",
    "        #假设节点k在第h层，则k的二进制表示可以包含h层的最左节点2^h到最右节点2^(h+1)-1的节点。其最高位是1，其余各位从高到低表示从根节点到k节点的路径，0表示移动到左子节点，1表示移动到右子节点。\n",
    "        #如节点4 ob100 左-左，节点12 1100 右-左-左\n",
    "        \n",
    "        #检查走的左边还是右边，左边是0，右边是1\n",
    "        if (bits & mid) == 0:\n",
    "            node = node.left\n",
    "        else:\n",
    "            node = node.right\n",
    "        #减少总步数\n",
    "        bits >>= 1\n",
    "    \n",
    "    return node is not None\n",
    "\n",
    "\n",
    "class Solution:\n",
    "    def countNodes(self, root: Optional[TreeNode]) -> int:\n",
    "        return 0 if root is None else self.countNodes(root.left) + self.countNodes(root.right) + 1\n",
    "\n",
    "    def countNodes2(self, root: Optional[TreeNode]) -> int:\n",
    "        #空结点\n",
    "        if root is None:\n",
    "            return 0\n",
    "        #计算层数\n",
    "        layers = 0\n",
    "        node = root\n",
    "        while node.left:\n",
    "            layers += 1\n",
    "            node = node.left\n",
    "    \n",
    "        #确定底层节点的最左叶子编号和最右叶子编号\n",
    "        low = 1 << layers\n",
    "        high = (1 << layers + 1) - 1\n",
    "    \n",
    "        #二分查找叶子\n",
    "        while low < high:#low = high时停止\n",
    "            mid = ((high - low + 1) // 2) + low\n",
    "            print(low, high, mid)\n",
    "            if node_exist(root, layers, mid):#\n",
    "                low = mid\n",
    "            else:\n",
    "                high = mid - 1\n",
    "        #\n",
    "        return low\n",
    "        "
   ],
   "id": "initial_id",
   "outputs": [],
   "execution_count": 1
  }
 ],
 "metadata": {
  "kernelspec": {
   "display_name": "Python 3",
   "language": "python",
   "name": "python3"
  },
  "language_info": {
   "codemirror_mode": {
    "name": "ipython",
    "version": 2
   },
   "file_extension": ".py",
   "mimetype": "text/x-python",
   "name": "python",
   "nbconvert_exporter": "python",
   "pygments_lexer": "ipython2",
   "version": "2.7.6"
  }
 },
 "nbformat": 4,
 "nbformat_minor": 5
}
