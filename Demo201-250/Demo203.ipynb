{
 "cells": [
  {
   "metadata": {},
   "cell_type": "markdown",
   "source": "给你一个链表的头节点 head 和一个整数 val ，请你删除链表中所有满足 Node.val == val 的节点，并返回 新的头节点 。",
   "id": "df3927159be88ba2"
  },
  {
   "metadata": {
    "ExecuteTime": {
     "end_time": "2024-12-23T04:23:04.247890Z",
     "start_time": "2024-12-23T04:23:04.215858Z"
    }
   },
   "cell_type": "code",
   "source": [
    "import time\n",
    "from typing import Optional\n",
    "from Utils import ListNodeUtils as lnu\n",
    "\n",
    "# Definition for singly-linked list.\n",
    "class ListNode:\n",
    "    def __init__(self, val=0, next=None):\n",
    "        self.val = val\n",
    "        self.next = next\n",
    "\n",
    "\n",
    "class Solution:\n",
    "    def removeElements(self, head: Optional[ListNode], val: int) -> Optional[ListNode]:\n",
    "        prev = ListNode()\n",
    "        prev.next = head\n",
    "        p = prev\n",
    "\n",
    "        while p:\n",
    "            if p.next and p.next.val == val:\n",
    "                p.next = p.next.next\n",
    "            else:\n",
    "                p = p.next\n",
    "        \n",
    "        return prev.next\n",
    "\n",
    "\n",
    "head = lnu.node_list_generator(range(1,10))\n",
    "\n",
    "sol = Solution()\n",
    "print(sol.removeElements(head, 6))"
   ],
   "id": "9b36e8d1a8549d70",
   "outputs": [
    {
     "name": "stdout",
     "output_type": "stream",
     "text": [
      "None\n",
      "<__main__.ListNode object at 0x00000241D8BFF160>\n"
     ]
    }
   ],
   "execution_count": 1
  },
  {
   "metadata": {},
   "cell_type": "code",
   "source": "",
   "id": "d5dda7105449a6ce",
   "outputs": [],
   "execution_count": null
  }
 ],
 "metadata": {
  "kernelspec": {
   "display_name": "Python 3",
   "language": "python",
   "name": "python3"
  },
  "language_info": {
   "codemirror_mode": {
    "name": "ipython",
    "version": 2
   },
   "file_extension": ".py",
   "mimetype": "text/x-python",
   "name": "python",
   "nbconvert_exporter": "python",
   "pygments_lexer": "ipython2",
   "version": "2.7.6"
  }
 },
 "nbformat": 4,
 "nbformat_minor": 5
}
