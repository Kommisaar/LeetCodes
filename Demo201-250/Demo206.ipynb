{
 "cells": [
  {
   "metadata": {},
   "cell_type": "markdown",
   "source": "给你单链表的头节点 head ，请你反转链表，并返回反转后的链表。",
   "id": "aab237c1f39509e7"
  },
  {
   "metadata": {},
   "cell_type": "code",
   "source": [
    "from typing import Optional\n",
    "from Utils import ListNodeUtils as lnu\n",
    "\n",
    "# Definition for singly-linked list.\n",
    "class ListNode:\n",
    "    def __init__(self, val=0, next=None):\n",
    "        self.val = val\n",
    "        self.next = next\n",
    "class Solution:\n",
    "    def reverseList(self, head: Optional[ListNode]) -> Optional[ListNode]:\n",
    "        node_list = []\n",
    "        while head:\n",
    "            node_list.append(head)\n",
    "            head = head.next\n",
    "            \n",
    "        \n",
    "        prev = ListNode(0)\n",
    "        prev.next = node_list[-1]\n",
    "        for i in range(len(node_list) - 1, -1, -1):\n",
    "            node_list[i].next = node_list[i-1]     \n",
    "        return prev.next\n",
    "    \n",
    "    def reverseList_2(self, head: Optional[ListNode]) -> Optional[ListNode]:\n",
    "        pre = None\n",
    "        cur = head\n",
    "        \n",
    "        while cur:\n",
    "            new_node = cur.next\n",
    "            cur.next = pre\n",
    "            pre = cur\n",
    "            cur = new_node\n",
    "        \n",
    "        return pre\n",
    "            \n",
    "            \n",
    "            \n",
    "        \n",
    "        \n",
    "\n",
    "sol = Solution()\n",
    "head01 = sol.reverseList(lnu.node_list_generator(i for i in range(10)))\n",
    "\n",
    "while head01 is not None:\n",
    "    print(head01.val)\n",
    "    head01 = head01.next"
   ],
   "id": "81b39499d45a987d",
   "outputs": [],
   "execution_count": null
  }
 ],
 "metadata": {
  "kernelspec": {
   "display_name": "Python 3",
   "language": "python",
   "name": "python3"
  },
  "language_info": {
   "codemirror_mode": {
    "name": "ipython",
    "version": 2
   },
   "file_extension": ".py",
   "mimetype": "text/x-python",
   "name": "python",
   "nbconvert_exporter": "python",
   "pygments_lexer": "ipython2",
   "version": "2.7.6"
  }
 },
 "nbformat": 4,
 "nbformat_minor": 5
}
