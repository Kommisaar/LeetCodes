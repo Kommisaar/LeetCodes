{
 "cells": [
  {
   "metadata": {},
   "cell_type": "markdown",
   "source": [
    "编写一个算法来判断一个数 n 是不是快乐数。\n",
    "\n",
    "「快乐数」 定义为：\n",
    "\n",
    "对于一个正整数，每一次将该数替换为它每个位置上的数字的平方和。\n",
    "然后重复这个过程直到这个数变为 1，也可能是 无限循环 但始终变不到 1。\n",
    "如果这个过程 结果为 1，那么这个数就是快乐数。\n",
    "如果 n 是 快乐数 就返回 true ；不是，则返回 false 。"
   ],
   "id": "50ecfe206a119a08"
  },
  {
   "metadata": {},
   "cell_type": "code",
   "source": [
    "class Solution:\n",
    "    def isHappy(self, n: int) -> bool:\n",
    "        seen = set()\n",
    "        while n != 1 and n not in seen:\n",
    "            seen.add(n)\n",
    "            n = sum(int(i) ** 2 for i in str(n))\n",
    "\n",
    "        return n == 1\n",
    "\n",
    "\n",
    "sol = Solution()\n",
    "print(sol.isHappy(2))"
   ],
   "id": "317f226e2991f286",
   "outputs": [],
   "execution_count": null
  },
  {
   "metadata": {},
   "cell_type": "markdown",
   "source": [
    "快慢指针\n",
    "\n",
    "方法：\n",
    "使用 “快慢指针” 思想，找出循环：“快指针” 每次走两步，“慢指针” 每次走一步，当二者相等时，即为一个循环周期。此时，判断是不是因为 1 引起的循环，是的话就是快乐数，否则不是快乐数。\n",
    "注意：此题不建议用集合记录每次的计算结果来判断是否进入循环，因为这个集合可能大到无法存储；另外，也不建议使用递归，同理，如果递归层次较深，会直接导致调用栈崩溃。不要因为这个题目给出的整数是 int 型而投机取巧。"
   ],
   "id": "698d1b78d2642622"
  },
  {
   "metadata": {
    "ExecuteTime": {
     "end_time": "2024-12-23T03:10:04.061549Z",
     "start_time": "2024-12-23T03:10:04.045547Z"
    }
   },
   "cell_type": "code",
   "source": [
    "def num_squares(n: int) -> int:\n",
    "    digits = []\n",
    "\n",
    "    while n != 0:\n",
    "        digits.append((n % 10) ** 2)\n",
    "        n = n // 10\n",
    "\n",
    "    return sum(digits)\n",
    "\n",
    "\n",
    "class Solution:\n",
    "    def isHappy(self, n: int) -> bool:\n",
    "        fast = num_squares(n)\n",
    "        slow = n\n",
    "\n",
    "        while slow != fast:\n",
    "            slow = num_squares(slow)\n",
    "            fast = num_squares(fast)\n",
    "            fast = num_squares(fast)\n",
    "            print(slow, fast)\n",
    "            \n",
    "        return fast == 1\n",
    "        \n",
    "        \n",
    "sol = Solution()\n",
    "print(sol.isHappy(123456789))\n",
    "    "
   ],
   "id": "1417b186fe40e075",
   "outputs": [
    {
     "name": "stdout",
     "output_type": "stream",
     "text": [
      "285 90\n",
      "93 65\n",
      "90 37\n",
      "81 89\n",
      "65 42\n",
      "61 4\n",
      "37 37\n",
      "False\n"
     ]
    }
   ],
   "execution_count": 25
  }
 ],
 "metadata": {
  "kernelspec": {
   "display_name": "Python 3",
   "language": "python",
   "name": "python3"
  },
  "language_info": {
   "codemirror_mode": {
    "name": "ipython",
    "version": 2
   },
   "file_extension": ".py",
   "mimetype": "text/x-python",
   "name": "python",
   "nbconvert_exporter": "python",
   "pygments_lexer": "ipython2",
   "version": "2.7.6"
  }
 },
 "nbformat": 4,
 "nbformat_minor": 5
}
