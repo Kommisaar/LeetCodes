{
 "cells": [
  {
   "cell_type": "code",
   "execution_count": null,
   "id": "initial_id",
   "metadata": {
    "collapsed": true
   },
   "outputs": [],
   "source": [
    "\"\"\"\n",
    "有一个单链表的 head，我们想删除它其中的一个节点 node。\n",
    "给你一个需要删除的节点 node 。你将 无法访问 第一个节点  head。\n",
    "链表的所有值都是 唯一的，并且保证给定的节点 node 不是链表中的最后一个节点。\n",
    "删除给定的节点。注意，删除节点并不是指从内存中删除它。这里的意思是：\n",
    "\n",
    "给定节点的值不应该存在于链表中。\n",
    "链表中的节点数应该减少 1。\n",
    "node 前面的所有值顺序相同。\n",
    "node 后面的所有值顺序相同。\n",
    "\n",
    "自定义测试：\n",
    "对于输入，你应该提供整个链表 head 和要给出的节点 node。node 不应该是链表的最后一个节点，而应该是链表中的一个实际节点。\n",
    "我们将构建链表，并将节点传递给你的函数。\n",
    "输出将是调用你函数后的整个链表。\n",
    " \n",
    "示例 1：\n",
    "输入：head = [4,5,1,9], node = 5\n",
    "输出：[4,1,9]\n",
    "解释：指定链表中值为 5 的第二个节点，那么在调用了你的函数之后，该链表应变为 4 -> 1 -> 9\n",
    "\n",
    "示例 2：\n",
    "输入：head = [4,5,1,9], node = 1\n",
    "输出：[4,5,9]\n",
    "解释：指定链表中值为 1 的第三个节点，那么在调用了你的函数之后，该链表应变为 4 -> 5 -> 9\n",
    " \n",
    "\n",
    "提示：\n",
    "链表中节点的数目范围是 [2, 1000]\n",
    "-1000 <= Node.val <= 1000\n",
    "链表中每个节点的值都是 唯一 的\n",
    "需要删除的节点 node 是 链表中的节点 ，且 不是末尾节点\n",
    "\"\"\"\n",
    "class ListNode:\n",
    "    def __init__(self, x):\n",
    "        self.val = x\n",
    "        self.next = None\n",
    "\n",
    "class Solution:\n",
    "    def deleteNode(self, node):\n",
    "        \"\"\"\n",
    "        :type node: ListNode\n",
    "        :rtype: void Do not return anything, modify node in-place instead.\n",
    "        \"\"\"\n",
    "        node.val = node.next.val\n",
    "        node.next = node.next.next\n",
    "        "
   ]
  }
 ],
 "metadata": {
  "kernelspec": {
   "display_name": "Python 3",
   "language": "python",
   "name": "python3"
  },
  "language_info": {
   "codemirror_mode": {
    "name": "ipython",
    "version": 2
   },
   "file_extension": ".py",
   "mimetype": "text/x-python",
   "name": "python",
   "nbconvert_exporter": "python",
   "pygments_lexer": "ipython2",
   "version": "2.7.6"
  }
 },
 "nbformat": 4,
 "nbformat_minor": 5
}
