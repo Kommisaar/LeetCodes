{
 "cells": [
  {
   "metadata": {},
   "cell_type": "markdown",
   "source": [
    "给定两个字符串 s 和 t ，判断它们是否是同构的。\n",
    "\n",
    "如果 s 中的字符可以按某种映射关系替换得到 t ，那么这两个字符串是同构的。\n",
    "\n",
    "每个出现的字符都应当映射到另一个字符，同时不改变字符的顺序。不同字符不能映射到同一个字符上，相同字符只能映射到同一个字符上，字符可以映射到自己本身。"
   ],
   "id": "6ea8e3c7a6f13b06"
  },
  {
   "metadata": {
    "ExecuteTime": {
     "end_time": "2024-12-23T06:15:03.163931Z",
     "start_time": "2024-12-23T06:15:03.142383Z"
    }
   },
   "cell_type": "code",
   "source": [
    "class Solution:\n",
    "    def isIsomorphic(self, s: str, t: str) -> bool:\n",
    "        s_dict = {}\n",
    "        t_dict = {}\n",
    "        length = len(s)\n",
    "\n",
    "        for i in range(length):\n",
    "            s_dict[s[i]] = s[i]\n",
    "            t_dict[s[i]] = t[i]\n",
    "        if len(s_dict) != len(t_dict):\n",
    "            return False\n",
    "        t_dict = {value: key for key, value in t_dict.items()}\n",
    "\n",
    "        s_list = []\n",
    "        for char in s:\n",
    "            if char not in t_dict:\n",
    "                return False\n",
    "            s_list.append(t_dict[char])\n",
    "\n",
    "        s = ''.join(s_list)\n",
    "\n",
    "        return s == t\n",
    "sol = Solution()\n",
    "print(sol.isIsomorphic('baaabba', 'abbbaab'))"
   ],
   "id": "38f52b1b7c2b3df9",
   "outputs": [
    {
     "name": "stdout",
     "output_type": "stream",
     "text": [
      "False\n"
     ]
    }
   ],
   "execution_count": 24
  },
  {
   "metadata": {},
   "cell_type": "code",
   "outputs": [],
   "execution_count": null,
   "source": "",
   "id": "b46a928e857064f7"
  }
 ],
 "metadata": {
  "kernelspec": {
   "display_name": "Python 3",
   "language": "python",
   "name": "python3"
  },
  "language_info": {
   "codemirror_mode": {
    "name": "ipython",
    "version": 2
   },
   "file_extension": ".py",
   "mimetype": "text/x-python",
   "name": "python",
   "nbconvert_exporter": "python",
   "pygments_lexer": "ipython2",
   "version": "2.7.6"
  }
 },
 "nbformat": 4,
 "nbformat_minor": 5
}
