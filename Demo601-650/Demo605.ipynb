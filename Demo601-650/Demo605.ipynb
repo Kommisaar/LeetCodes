{
 "cells": [
  {
   "cell_type": "code",
   "id": "initial_id",
   "metadata": {
    "collapsed": true,
    "ExecuteTime": {
     "end_time": "2025-01-07T08:08:24.306601Z",
     "start_time": "2025-01-07T08:08:24.300618Z"
    }
   },
   "source": [
    "from typing import List\n",
    "\n",
    "\"\"\"\n",
    "假设有一个很长的花坛，一部分地块种植了花，另一部分却没有。可是，花不能种植在相邻的地块上，它们会争夺水源，两者都会死去。\n",
    "给你一个整数数组 flowerbed 表示花坛，由若干 0 和 1 组成，其中 0 表示没种植花，1 表示种植了花。另有一个数 n ，能否在不打破种植规则的情况下种入 n 朵花？能则返回 true ，不能则返回 false 。\n",
    "\n",
    "示例 1：\n",
    "输入：flowerbed = [1,0,0,0,1], n = 1\n",
    "输出：true\n",
    "\n",
    "示例 2：\n",
    "输入：flowerbed = [1,0,0,0,1], n = 2\n",
    "输出：false\n",
    " \n",
    "提示：\n",
    "1 <= flowerbed.length <= 2 * 104\n",
    "flowerbed[i] 为 0 或 1\n",
    "flowerbed 中不存在相邻的两朵花\n",
    "0 <= n <= flowerbed.length\n",
    "\"\"\"\n",
    "\n",
    "\n",
    "class Solution:\n",
    "    def canPlaceFlowers(self, flowerbed: List[int], n: int) -> bool:\n",
    "        if n == 0:\n",
    "            return True\n",
    "\n",
    "        for i in range(len(flowerbed)):\n",
    "            if flowerbed[i] == 0:\n",
    "                if i - 1 >= 0 and i + 1 < len(flowerbed):\n",
    "                    if flowerbed[i - 1] == 0 and flowerbed[i + 1] == 0:\n",
    "                        flowerbed[i] = 1\n",
    "                        n -= 1\n",
    "                elif i + 1 >= len(flowerbed):\n",
    "                    if flowerbed[i - 1] == 0:\n",
    "                        flowerbed[i] = 1\n",
    "                        n -= 1\n",
    "                elif i - 1 < 0:\n",
    "                    if flowerbed[i + 1] == 0:\n",
    "                        flowerbed[i] = 1\n",
    "                        n -= 1\n",
    "        return n <= 0\n",
    "    \n",
    "    def canPlaceFlowers2(self, flowerbed: List[int], n: int) -> bool:\n",
    "        # 如果不需要种花，直接返回 True\n",
    "        if n == 0:\n",
    "            return True\n",
    "    \n",
    "        # 获取花坛的长度\n",
    "        length = len(flowerbed)\n",
    "    \n",
    "        # 遍历花坛的每个位置\n",
    "        for i in range(length):\n",
    "            # 如果当前位置是空的（值为 0）\n",
    "            if flowerbed[i] == 0:\n",
    "                # 检查左边是否为空（如果是第一个位置，左边视为空）\n",
    "                left_empty = (i == 0) or (flowerbed[i - 1] == 0)\n",
    "                # 检查右边是否为空（如果是最后一个位置，右边视为空）\n",
    "                right_empty = (i == length - 1) or (flowerbed[i + 1] == 0)\n",
    "    \n",
    "                # 如果左右都为空，则可以种花\n",
    "                if left_empty and right_empty:\n",
    "                    flowerbed[i] = 1  # 种花\n",
    "                    n -= 1  # 需要种的花的数量减 1\n",
    "                    # 如果已经种完所有花，提前返回 True\n",
    "                    if n == 0:\n",
    "                        return True\n",
    "    \n",
    "        # 遍历结束后，检查是否种完所有花\n",
    "        return n <= 0\n",
    "        \n",
    "\n",
    "\n",
    "solution = Solution()\n",
    "print(solution.canPlaceFlowers([0,0,1,0,0], 1))\n",
    "            \n",
    "            "
   ],
   "outputs": [
    {
     "name": "stdout",
     "output_type": "stream",
     "text": [
      "True\n"
     ]
    }
   ],
   "execution_count": 24
  }
 ],
 "metadata": {
  "kernelspec": {
   "display_name": "Python 3",
   "language": "python",
   "name": "python3"
  },
  "language_info": {
   "codemirror_mode": {
    "name": "ipython",
    "version": 2
   },
   "file_extension": ".py",
   "mimetype": "text/x-python",
   "name": "python",
   "nbconvert_exporter": "python",
   "pygments_lexer": "ipython2",
   "version": "2.7.6"
  }
 },
 "nbformat": 4,
 "nbformat_minor": 5
}
