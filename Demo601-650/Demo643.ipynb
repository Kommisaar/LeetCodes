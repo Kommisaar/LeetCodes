{
 "cells": [
  {
   "cell_type": "code",
   "id": "initial_id",
   "metadata": {
    "collapsed": true,
    "ExecuteTime": {
     "end_time": "2025-01-07T12:05:30.077423Z",
     "start_time": "2025-01-07T12:05:30.069201Z"
    }
   },
   "source": [
    "from typing import List\n",
    "\n",
    "\"\"\"\n",
    "给你一个由 n 个元素组成的整数数组 nums 和一个整数 k 。\n",
    "请你找出平均数最大且 长度为 k 的连续子数组，并输出该最大平均数。\n",
    "任何误差小于 10-5 的答案都将被视为正确答案。\n",
    "\n",
    "示例 1：\n",
    "输入：nums = [1,12,-5,-6,50,3], k = 4\n",
    "输出：12.75\n",
    "解释：最大平均数 (12-5-6+50)/4 = 51/4 = 12.75\n",
    "\n",
    "示例 2：\n",
    "输入：nums = [5], k = 1\n",
    "输出：5.00000\n",
    "\n",
    "提示：\n",
    "\n",
    "n == nums.length\n",
    "1 <= k <= n <= 105\n",
    "-104 <= nums[i] <= 104\n",
    "\"\"\"\n",
    "\n",
    "\n",
    "class Solution:\n",
    "    def findMaxAverage(self, nums: List[int], k: int) -> float:\n",
    "        # 初始窗口的和\n",
    "        window_sum = sum(nums[:k])\n",
    "        max_mean = window_sum / k\n",
    "        \n",
    "        # 滑动窗口\n",
    "        for i in range(k, len(nums)):\n",
    "            window_sum += nums[i] - nums[i - k]  # 更新窗口和\n",
    "            current_mean = window_sum / k\n",
    "            if current_mean > max_mean:\n",
    "                max_mean = current_mean\n",
    "        \n",
    "        return max_mean\n",
    "\n",
    "\n",
    "solution = Solution()\n",
    "print(solution.findMaxAverage([1, 12, -5, -6, 50, 3], 1))"
   ],
   "outputs": [
    {
     "name": "stdout",
     "output_type": "stream",
     "text": [
      "50.0\n"
     ]
    }
   ],
   "execution_count": 17
  }
 ],
 "metadata": {
  "kernelspec": {
   "display_name": "Python 3",
   "language": "python",
   "name": "python3"
  },
  "language_info": {
   "codemirror_mode": {
    "name": "ipython",
    "version": 2
   },
   "file_extension": ".py",
   "mimetype": "text/x-python",
   "name": "python",
   "nbconvert_exporter": "python",
   "pygments_lexer": "ipython2",
   "version": "2.7.6"
  }
 },
 "nbformat": 4,
 "nbformat_minor": 5
}
