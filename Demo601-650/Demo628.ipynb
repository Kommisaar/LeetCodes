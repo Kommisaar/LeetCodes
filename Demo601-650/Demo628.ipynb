{
 "cells": [
  {
   "cell_type": "code",
   "id": "initial_id",
   "metadata": {
    "collapsed": true,
    "ExecuteTime": {
     "end_time": "2025-01-07T09:20:51.184345Z",
     "start_time": "2025-01-07T09:20:51.178097Z"
    }
   },
   "source": [
    "from typing import List\n",
    "\n",
    "\"\"\"\n",
    "给你一个整型数组 nums ，在数组中找出由三个数组成的最大乘积，并输出这个乘积。\n",
    "\n",
    "示例 1：\n",
    "输入：nums = [1,2,3]\n",
    "输出：6\n",
    "\n",
    "示例 2：\n",
    "输入：nums = [1,2,3,4]\n",
    "输出：24\n",
    "\n",
    "示例 3：\n",
    "输入：nums = [-1,-2,-3]\n",
    "输出：-6\n",
    "\n",
    "提示：\n",
    "3 <= nums.length <= 104\n",
    "-1000 <= nums[i] <= 1000\n",
    "\"\"\"\n",
    "\n",
    "\n",
    "class Solution:\n",
    "    def maximumProduct(self, nums: List[int]) -> int:\n",
    "        nums.sort()\n",
    "        return max(nums[-1] * nums[0] * nums[1], nums[-1] * nums[-2] * nums[-3])\n",
    "\n",
    "    def maximumProduct2(self, nums: List[int]) -> int:\n",
    "        min1 = min2 = float('inf')  # 最小的两个数\n",
    "        max1 = max2 = max3 = float('-inf')  # 最大的三个数\n",
    "    \n",
    "        for num in nums:\n",
    "            # 更新最大的三个数\n",
    "            if num > max3:\n",
    "                max1, max2, max3 = max2, max3, num\n",
    "            elif num > max2:\n",
    "                max1, max2 = max2, num\n",
    "            elif num > max1:\n",
    "                max1 = num\n",
    "    \n",
    "            # 更新最小的两个数\n",
    "            if num < min1:\n",
    "                min1, min2 = num, min1\n",
    "            elif num < min2:\n",
    "                min2 = num\n",
    "    \n",
    "        # 返回两种情况的最大值\n",
    "        return max(max1 * max2 * max3, min1 * min2 * max3)\n",
    "    \n",
    "\n",
    "print(Solution().maximumProduct([1,2,3,-1,-2,-3]))"
   ],
   "outputs": [
    {
     "name": "stdout",
     "output_type": "stream",
     "text": [
      "18\n"
     ]
    }
   ],
   "execution_count": 9
  }
 ],
 "metadata": {
  "kernelspec": {
   "display_name": "Python 3",
   "language": "python",
   "name": "python3"
  },
  "language_info": {
   "codemirror_mode": {
    "name": "ipython",
    "version": 2
   },
   "file_extension": ".py",
   "mimetype": "text/x-python",
   "name": "python",
   "nbconvert_exporter": "python",
   "pygments_lexer": "ipython2",
   "version": "2.7.6"
  }
 },
 "nbformat": 4,
 "nbformat_minor": 5
}
